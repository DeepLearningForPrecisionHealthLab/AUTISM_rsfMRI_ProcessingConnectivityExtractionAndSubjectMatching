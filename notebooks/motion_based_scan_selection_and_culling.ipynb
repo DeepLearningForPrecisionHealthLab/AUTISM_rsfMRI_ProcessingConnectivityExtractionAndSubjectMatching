{
 "cells": [
  {
   "cell_type": "code",
   "execution_count": 1,
   "metadata": {},
   "outputs": [
    {
     "name": "stdout",
     "output_type": "stream",
     "text": [
      "Machine node: NucleusA250\n",
      "Python interpreter: /project/bioinformatics/DLLab/shared/CondaEnvironments/Alex37General/bin/python \t\n",
      " ver 3.7.10 (default, Feb 26 2021, 18:47:35) \n",
      "[GCC 7.3.0]\n",
      "Current dir: /endosome/archive/bioinformatics/DLLab/src/AlexTreacher/autism_DCG/notebooks\n",
      "Conda env: /project/bioinformatics/DLLab/shared/CondaEnvironments/Alex37General\n"
     ]
    }
   ],
   "source": [
    "import os\n",
    "import sys\n",
    "sys.path.append('/archive/bioinformatics/')\n",
    "from DLLab.src.shared.distribution.DLLablib.preamble import notebook; notebook()\n",
    "\n",
    "import glob\n",
    "import re\n",
    "import numpy as np\n",
    "import pandas as pd\n",
    "idx = pd.IndexSlice\n",
    "from scipy import signal\n",
    "import nibabel\n",
    "import matplotlib.pyplot as plt\n",
    "import seaborn as sns\n",
    "sns.set_context('paper', font_scale=1.4)\n",
    "from DLLab.AlexTreacher.src import paths\n",
    "\n",
    "import bids"
   ]
  },
  {
   "cell_type": "code",
   "execution_count": 2,
   "metadata": {},
   "outputs": [],
   "source": [
    "strDataPath = paths.strDataDir\n",
    "strOutputDirABIDE1 = strDataPath+'/20210825_ABIDE_CPAC/ABIDEI/derivatives/CPAC/output/cpac_cpac-custom-nuisance'\n",
    "strOutputDirABIDE2 = strDataPath+'/20210825_ABIDE_CPAC/ABIDEII/derivatives/CPAC/output/cpac_cpac-custom-nuisance'\n",
    "strOutputPath = os.path.join(paths.strExperimentOutputDir,'Autism_DCG')"
   ]
  },
  {
   "cell_type": "code",
   "execution_count": 3,
   "metadata": {},
   "outputs": [],
   "source": [
    "def fGetABIDEFromPath(strPath):\n",
    "    strABIDE = re.findall('ABIDE([I]+)', strPath)[0]\n",
    "    if strABIDE not in ['I','II']:\n",
    "        raise ValueError(f'ABIDE {strABIDE} not recognized')\n",
    "    return strABIDE.__len__()"
   ]
  },
  {
   "cell_type": "code",
   "execution_count": 4,
   "metadata": {},
   "outputs": [],
   "source": [
    "#get all paths for framewise displacement\n",
    "lFWDPaths = glob.glob(os.path.join(strOutputDirABIDE1, '*','func','*framewise-displacement-jenkinson.1D')) +\\\n",
    "            glob.glob(os.path.join(strOutputDirABIDE2, '*','func','*framewise-displacement-jenkinson.1D'))"
   ]
  },
  {
   "cell_type": "code",
   "execution_count": 5,
   "metadata": {},
   "outputs": [
    {
     "data": {
      "text/plain": [
       "['/archive/bioinformatics/DLLab/AlexTreacher/data/20210825_ABIDE_CPAC/ABIDEI/derivatives/CPAC/output/cpac_cpac-custom-nuisance/sub-0050143_ses-1/func/sub-0050143_ses-1_task-rest_run-3_framewise-displacement-jenkinson.1D',\n",
       " '/archive/bioinformatics/DLLab/AlexTreacher/data/20210825_ABIDE_CPAC/ABIDEI/derivatives/CPAC/output/cpac_cpac-custom-nuisance/sub-0050143_ses-1/func/sub-0050143_ses-1_task-rest_run-1_framewise-displacement-jenkinson.1D',\n",
       " '/archive/bioinformatics/DLLab/AlexTreacher/data/20210825_ABIDE_CPAC/ABIDEI/derivatives/CPAC/output/cpac_cpac-custom-nuisance/sub-0050143_ses-1/func/sub-0050143_ses-1_task-rest_run-2_framewise-displacement-jenkinson.1D',\n",
       " '/archive/bioinformatics/DLLab/AlexTreacher/data/20210825_ABIDE_CPAC/ABIDEI/derivatives/CPAC/output/cpac_cpac-custom-nuisance/sub-0051372_ses-1/func/sub-0051372_ses-1_task-rest_run-1_framewise-displacement-jenkinson.1D',\n",
       " '/archive/bioinformatics/DLLab/AlexTreacher/data/20210825_ABIDE_CPAC/ABIDEI/derivatives/CPAC/output/cpac_cpac-custom-nuisance/sub-0050497_ses-1/func/sub-0050497_ses-1_task-rest_run-1_framewise-displacement-jenkinson.1D',\n",
       " '/archive/bioinformatics/DLLab/AlexTreacher/data/20210825_ABIDE_CPAC/ABIDEI/derivatives/CPAC/output/cpac_cpac-custom-nuisance/sub-0050973_ses-1/func/sub-0050973_ses-1_task-rest_run-1_framewise-displacement-jenkinson.1D',\n",
       " '/archive/bioinformatics/DLLab/AlexTreacher/data/20210825_ABIDE_CPAC/ABIDEI/derivatives/CPAC/output/cpac_cpac-custom-nuisance/sub-0050246_ses-1/func/sub-0050246_ses-1_task-rest_run-1_framewise-displacement-jenkinson.1D',\n",
       " '/archive/bioinformatics/DLLab/AlexTreacher/data/20210825_ABIDE_CPAC/ABIDEI/derivatives/CPAC/output/cpac_cpac-custom-nuisance/sub-0050614_ses-1/func/sub-0050614_ses-1_task-rest_run-1_framewise-displacement-jenkinson.1D',\n",
       " '/archive/bioinformatics/DLLab/AlexTreacher/data/20210825_ABIDE_CPAC/ABIDEI/derivatives/CPAC/output/cpac_cpac-custom-nuisance/sub-0051336_ses-1/func/sub-0051336_ses-1_task-rest_run-1_framewise-displacement-jenkinson.1D',\n",
       " '/archive/bioinformatics/DLLab/AlexTreacher/data/20210825_ABIDE_CPAC/ABIDEI/derivatives/CPAC/output/cpac_cpac-custom-nuisance/sub-0050627_ses-1/func/sub-0050627_ses-1_task-rest_run-1_framewise-displacement-jenkinson.1D',\n",
       " '/archive/bioinformatics/DLLab/AlexTreacher/data/20210825_ABIDE_CPAC/ABIDEI/derivatives/CPAC/output/cpac_cpac-custom-nuisance/sub-0050387_ses-1/func/sub-0050387_ses-1_task-rest_run-1_framewise-displacement-jenkinson.1D',\n",
       " '/archive/bioinformatics/DLLab/AlexTreacher/data/20210825_ABIDE_CPAC/ABIDEI/derivatives/CPAC/output/cpac_cpac-custom-nuisance/sub-0050772_ses-1/func/sub-0050772_ses-1_task-rest_run-1_framewise-displacement-jenkinson.1D',\n",
       " '/archive/bioinformatics/DLLab/AlexTreacher/data/20210825_ABIDE_CPAC/ABIDEI/derivatives/CPAC/output/cpac_cpac-custom-nuisance/sub-0050060_ses-1/func/sub-0050060_ses-1_task-rest_run-1_framewise-displacement-jenkinson.1D',\n",
       " '/archive/bioinformatics/DLLab/AlexTreacher/data/20210825_ABIDE_CPAC/ABIDEI/derivatives/CPAC/output/cpac_cpac-custom-nuisance/sub-0050498_ses-1/func/sub-0050498_ses-1_task-rest_run-1_framewise-displacement-jenkinson.1D',\n",
       " '/archive/bioinformatics/DLLab/AlexTreacher/data/20210825_ABIDE_CPAC/ABIDEI/derivatives/CPAC/output/cpac_cpac-custom-nuisance/sub-0050028_ses-1/func/sub-0050028_ses-1_task-rest_run-1_framewise-displacement-jenkinson.1D',\n",
       " '/archive/bioinformatics/DLLab/AlexTreacher/data/20210825_ABIDE_CPAC/ABIDEI/derivatives/CPAC/output/cpac_cpac-custom-nuisance/sub-0050397_ses-1/func/sub-0050397_ses-1_task-rest_run-1_framewise-displacement-jenkinson.1D',\n",
       " '/archive/bioinformatics/DLLab/AlexTreacher/data/20210825_ABIDE_CPAC/ABIDEI/derivatives/CPAC/output/cpac_cpac-custom-nuisance/sub-0050031_ses-1/func/sub-0050031_ses-1_task-rest_run-1_framewise-displacement-jenkinson.1D',\n",
       " '/archive/bioinformatics/DLLab/AlexTreacher/data/20210825_ABIDE_CPAC/ABIDEI/derivatives/CPAC/output/cpac_cpac-custom-nuisance/sub-0051480_ses-1/func/sub-0051480_ses-1_task-rest_run-1_framewise-displacement-jenkinson.1D',\n",
       " '/archive/bioinformatics/DLLab/AlexTreacher/data/20210825_ABIDE_CPAC/ABIDEI/derivatives/CPAC/output/cpac_cpac-custom-nuisance/sub-0050695_ses-1/func/sub-0050695_ses-1_task-rest_run-1_framewise-displacement-jenkinson.1D',\n",
       " '/archive/bioinformatics/DLLab/AlexTreacher/data/20210825_ABIDE_CPAC/ABIDEI/derivatives/CPAC/output/cpac_cpac-custom-nuisance/sub-0050960_ses-1/func/sub-0050960_ses-1_task-rest_run-1_framewise-displacement-jenkinson.1D',\n",
       " '/archive/bioinformatics/DLLab/AlexTreacher/data/20210825_ABIDE_CPAC/ABIDEI/derivatives/CPAC/output/cpac_cpac-custom-nuisance/sub-0050780_ses-1/func/sub-0050780_ses-1_task-rest_run-1_framewise-displacement-jenkinson.1D',\n",
       " '/archive/bioinformatics/DLLab/AlexTreacher/data/20210825_ABIDE_CPAC/ABIDEI/derivatives/CPAC/output/cpac_cpac-custom-nuisance/sub-0051103_ses-1/func/sub-0051103_ses-1_task-rest_run-1_framewise-displacement-jenkinson.1D',\n",
       " '/archive/bioinformatics/DLLab/AlexTreacher/data/20210825_ABIDE_CPAC/ABIDEI/derivatives/CPAC/output/cpac_cpac-custom-nuisance/sub-0051045_ses-1/func/sub-0051045_ses-1_task-rest_run-1_framewise-displacement-jenkinson.1D',\n",
       " '/archive/bioinformatics/DLLab/AlexTreacher/data/20210825_ABIDE_CPAC/ABIDEI/derivatives/CPAC/output/cpac_cpac-custom-nuisance/sub-0050304_ses-1/func/sub-0050304_ses-1_task-rest_run-1_framewise-displacement-jenkinson.1D',\n",
       " '/archive/bioinformatics/DLLab/AlexTreacher/data/20210825_ABIDE_CPAC/ABIDEI/derivatives/CPAC/output/cpac_cpac-custom-nuisance/sub-0051146_ses-1/func/sub-0051146_ses-1_task-rest_run-1_framewise-displacement-jenkinson.1D',\n",
       " '/archive/bioinformatics/DLLab/AlexTreacher/data/20210825_ABIDE_CPAC/ABIDEI/derivatives/CPAC/output/cpac_cpac-custom-nuisance/sub-0050711_ses-1/func/sub-0050711_ses-1_task-rest_run-1_framewise-displacement-jenkinson.1D',\n",
       " '/archive/bioinformatics/DLLab/AlexTreacher/data/20210825_ABIDE_CPAC/ABIDEI/derivatives/CPAC/output/cpac_cpac-custom-nuisance/sub-0050970_ses-1/func/sub-0050970_ses-1_task-rest_run-1_framewise-displacement-jenkinson.1D',\n",
       " '/archive/bioinformatics/DLLab/AlexTreacher/data/20210825_ABIDE_CPAC/ABIDEI/derivatives/CPAC/output/cpac_cpac-custom-nuisance/sub-0050991_ses-1/func/sub-0050991_ses-1_task-rest_run-1_framewise-displacement-jenkinson.1D',\n",
       " '/archive/bioinformatics/DLLab/AlexTreacher/data/20210825_ABIDE_CPAC/ABIDEI/derivatives/CPAC/output/cpac_cpac-custom-nuisance/sub-0051148_ses-1/func/sub-0051148_ses-1_task-rest_run-1_framewise-displacement-jenkinson.1D',\n",
       " '/archive/bioinformatics/DLLab/AlexTreacher/data/20210825_ABIDE_CPAC/ABIDEI/derivatives/CPAC/output/cpac_cpac-custom-nuisance/sub-0051361_ses-1/func/sub-0051361_ses-1_task-rest_run-1_framewise-displacement-jenkinson.1D',\n",
       " '/archive/bioinformatics/DLLab/AlexTreacher/data/20210825_ABIDE_CPAC/ABIDEI/derivatives/CPAC/output/cpac_cpac-custom-nuisance/sub-0050647_ses-1/func/sub-0050647_ses-1_task-rest_run-1_framewise-displacement-jenkinson.1D',\n",
       " '/archive/bioinformatics/DLLab/AlexTreacher/data/20210825_ABIDE_CPAC/ABIDEI/derivatives/CPAC/output/cpac_cpac-custom-nuisance/sub-0051069_ses-1/func/sub-0051069_ses-1_task-rest_run-1_framewise-displacement-jenkinson.1D',\n",
       " '/archive/bioinformatics/DLLab/AlexTreacher/data/20210825_ABIDE_CPAC/ABIDEI/derivatives/CPAC/output/cpac_cpac-custom-nuisance/sub-0050741_ses-1/func/sub-0050741_ses-1_task-rest_run-1_framewise-displacement-jenkinson.1D',\n",
       " '/archive/bioinformatics/DLLab/AlexTreacher/data/20210825_ABIDE_CPAC/ABIDEI/derivatives/CPAC/output/cpac_cpac-custom-nuisance/sub-0051318_ses-1/func/sub-0051318_ses-1_task-rest_run-1_framewise-displacement-jenkinson.1D',\n",
       " '/archive/bioinformatics/DLLab/AlexTreacher/data/20210825_ABIDE_CPAC/ABIDEI/derivatives/CPAC/output/cpac_cpac-custom-nuisance/sub-0050360_ses-1/func/sub-0050360_ses-1_task-rest_run-1_framewise-displacement-jenkinson.1D',\n",
       " '/archive/bioinformatics/DLLab/AlexTreacher/data/20210825_ABIDE_CPAC/ABIDEI/derivatives/CPAC/output/cpac_cpac-custom-nuisance/sub-0050611_ses-1/func/sub-0050611_ses-1_task-rest_run-1_framewise-displacement-jenkinson.1D',\n",
       " '/archive/bioinformatics/DLLab/AlexTreacher/data/20210825_ABIDE_CPAC/ABIDEI/derivatives/CPAC/output/cpac_cpac-custom-nuisance/sub-0050564_ses-1/func/sub-0050564_ses-1_task-rest_run-1_framewise-displacement-jenkinson.1D',\n",
       " '/archive/bioinformatics/DLLab/AlexTreacher/data/20210825_ABIDE_CPAC/ABIDEI/derivatives/CPAC/output/cpac_cpac-custom-nuisance/sub-0050125_ses-1/func/sub-0050125_ses-1_task-rest_run-1_framewise-displacement-jenkinson.1D',\n",
       " '/archive/bioinformatics/DLLab/AlexTreacher/data/20210825_ABIDE_CPAC/ABIDEI/derivatives/CPAC/output/cpac_cpac-custom-nuisance/sub-0051568_ses-1/func/sub-0051568_ses-1_task-rest_run-1_framewise-displacement-jenkinson.1D',\n",
       " '/archive/bioinformatics/DLLab/AlexTreacher/data/20210825_ABIDE_CPAC/ABIDEI/derivatives/CPAC/output/cpac_cpac-custom-nuisance/sub-0050517_ses-1/func/sub-0050517_ses-1_task-rest_run-1_framewise-displacement-jenkinson.1D',\n",
       " '/archive/bioinformatics/DLLab/AlexTreacher/data/20210825_ABIDE_CPAC/ABIDEI/derivatives/CPAC/output/cpac_cpac-custom-nuisance/sub-0051582_ses-1/func/sub-0051582_ses-1_task-rest_run-1_framewise-displacement-jenkinson.1D',\n",
       " '/archive/bioinformatics/DLLab/AlexTreacher/data/20210825_ABIDE_CPAC/ABIDEI/derivatives/CPAC/output/cpac_cpac-custom-nuisance/sub-0050807_ses-1/func/sub-0050807_ses-1_task-rest_run-1_framewise-displacement-jenkinson.1D',\n",
       " '/archive/bioinformatics/DLLab/AlexTreacher/data/20210825_ABIDE_CPAC/ABIDEI/derivatives/CPAC/output/cpac_cpac-custom-nuisance/sub-0051581_ses-1/func/sub-0051581_ses-1_task-rest_run-1_framewise-displacement-jenkinson.1D',\n",
       " '/archive/bioinformatics/DLLab/AlexTreacher/data/20210825_ABIDE_CPAC/ABIDEI/derivatives/CPAC/output/cpac_cpac-custom-nuisance/sub-0051256_ses-1/func/sub-0051256_ses-1_task-rest_run-1_framewise-displacement-jenkinson.1D',\n",
       " '/archive/bioinformatics/DLLab/AlexTreacher/data/20210825_ABIDE_CPAC/ABIDEI/derivatives/CPAC/output/cpac_cpac-custom-nuisance/sub-0051314_ses-1/func/sub-0051314_ses-1_task-rest_run-1_framewise-displacement-jenkinson.1D',\n",
       " '/archive/bioinformatics/DLLab/AlexTreacher/data/20210825_ABIDE_CPAC/ABIDEI/derivatives/CPAC/output/cpac_cpac-custom-nuisance/sub-0050966_ses-1/func/sub-0050966_ses-1_task-rest_run-1_framewise-displacement-jenkinson.1D',\n",
       " '/archive/bioinformatics/DLLab/AlexTreacher/data/20210825_ABIDE_CPAC/ABIDEI/derivatives/CPAC/output/cpac_cpac-custom-nuisance/sub-0050742_ses-1/func/sub-0050742_ses-1_task-rest_run-1_framewise-displacement-jenkinson.1D',\n",
       " '/archive/bioinformatics/DLLab/AlexTreacher/data/20210825_ABIDE_CPAC/ABIDEI/derivatives/CPAC/output/cpac_cpac-custom-nuisance/sub-0050282_ses-1/func/sub-0050282_ses-1_task-rest_run-1_framewise-displacement-jenkinson.1D',\n",
       " '/archive/bioinformatics/DLLab/AlexTreacher/data/20210825_ABIDE_CPAC/ABIDEI/derivatives/CPAC/output/cpac_cpac-custom-nuisance/sub-0051356_ses-1/func/sub-0051356_ses-1_task-rest_run-1_framewise-displacement-jenkinson.1D',\n",
       " '/archive/bioinformatics/DLLab/AlexTreacher/data/20210825_ABIDE_CPAC/ABIDEI/derivatives/CPAC/output/cpac_cpac-custom-nuisance/sub-0050815_ses-1/func/sub-0050815_ses-1_task-rest_run-1_framewise-displacement-jenkinson.1D',\n",
       " '/archive/bioinformatics/DLLab/AlexTreacher/data/20210825_ABIDE_CPAC/ABIDEI/derivatives/CPAC/output/cpac_cpac-custom-nuisance/sub-0051056_ses-1/func/sub-0051056_ses-1_task-rest_run-1_framewise-displacement-jenkinson.1D',\n",
       " '/archive/bioinformatics/DLLab/AlexTreacher/data/20210825_ABIDE_CPAC/ABIDEI/derivatives/CPAC/output/cpac_cpac-custom-nuisance/sub-0051096_ses-1/func/sub-0051096_ses-1_task-rest_run-1_framewise-displacement-jenkinson.1D',\n",
       " '/archive/bioinformatics/DLLab/AlexTreacher/data/20210825_ABIDE_CPAC/ABIDEI/derivatives/CPAC/output/cpac_cpac-custom-nuisance/sub-0050412_ses-1/func/sub-0050412_ses-1_task-rest_run-1_framewise-displacement-jenkinson.1D',\n",
       " '/archive/bioinformatics/DLLab/AlexTreacher/data/20210825_ABIDE_CPAC/ABIDEI/derivatives/CPAC/output/cpac_cpac-custom-nuisance/sub-0050043_ses-1/func/sub-0050043_ses-1_task-rest_run-1_framewise-displacement-jenkinson.1D',\n",
       " '/archive/bioinformatics/DLLab/AlexTreacher/data/20210825_ABIDE_CPAC/ABIDEI/derivatives/CPAC/output/cpac_cpac-custom-nuisance/sub-0050120_ses-1/func/sub-0050120_ses-1_task-rest_run-1_framewise-displacement-jenkinson.1D',\n",
       " '/archive/bioinformatics/DLLab/AlexTreacher/data/20210825_ABIDE_CPAC/ABIDEI/derivatives/CPAC/output/cpac_cpac-custom-nuisance/sub-0050692_ses-1/func/sub-0050692_ses-1_task-rest_run-1_framewise-displacement-jenkinson.1D',\n",
       " '/archive/bioinformatics/DLLab/AlexTreacher/data/20210825_ABIDE_CPAC/ABIDEI/derivatives/CPAC/output/cpac_cpac-custom-nuisance/sub-0050329_ses-1/func/sub-0050329_ses-1_task-rest_run-1_framewise-displacement-jenkinson.1D',\n",
       " '/archive/bioinformatics/DLLab/AlexTreacher/data/20210825_ABIDE_CPAC/ABIDEI/derivatives/CPAC/output/cpac_cpac-custom-nuisance/sub-0050739_ses-1/func/sub-0050739_ses-1_task-rest_run-1_framewise-displacement-jenkinson.1D',\n",
       " '/archive/bioinformatics/DLLab/AlexTreacher/data/20210825_ABIDE_CPAC/ABIDEI/derivatives/CPAC/output/cpac_cpac-custom-nuisance/sub-0050474_ses-1/func/sub-0050474_ses-1_task-rest_run-1_framewise-displacement-jenkinson.1D',\n",
       " '/archive/bioinformatics/DLLab/AlexTreacher/data/20210825_ABIDE_CPAC/ABIDEI/derivatives/CPAC/output/cpac_cpac-custom-nuisance/sub-0051033_ses-1/func/sub-0051033_ses-1_task-rest_run-1_framewise-displacement-jenkinson.1D',\n",
       " '/archive/bioinformatics/DLLab/AlexTreacher/data/20210825_ABIDE_CPAC/ABIDEI/derivatives/CPAC/output/cpac_cpac-custom-nuisance/sub-0051219_ses-1/func/sub-0051219_ses-1_task-rest_run-1_framewise-displacement-jenkinson.1D',\n",
       " '/archive/bioinformatics/DLLab/AlexTreacher/data/20210825_ABIDE_CPAC/ABIDEI/derivatives/CPAC/output/cpac_cpac-custom-nuisance/sub-0051042_ses-1/func/sub-0051042_ses-1_task-rest_run-1_framewise-displacement-jenkinson.1D',\n",
       " '/archive/bioinformatics/DLLab/AlexTreacher/data/20210825_ABIDE_CPAC/ABIDEI/derivatives/CPAC/output/cpac_cpac-custom-nuisance/sub-0051573_ses-1/func/sub-0051573_ses-1_task-rest_run-1_framewise-displacement-jenkinson.1D',\n",
       " '/archive/bioinformatics/DLLab/AlexTreacher/data/20210825_ABIDE_CPAC/ABIDEI/derivatives/CPAC/output/cpac_cpac-custom-nuisance/sub-0050147_ses-1/func/sub-0050147_ses-1_task-rest_run-1_framewise-displacement-jenkinson.1D',\n",
       " '/archive/bioinformatics/DLLab/AlexTreacher/data/20210825_ABIDE_CPAC/ABIDEI/derivatives/CPAC/output/cpac_cpac-custom-nuisance/sub-0050147_ses-1/func/sub-0050147_ses-1_task-rest_run-2_framewise-displacement-jenkinson.1D',\n",
       " '/archive/bioinformatics/DLLab/AlexTreacher/data/20210825_ABIDE_CPAC/ABIDEI/derivatives/CPAC/output/cpac_cpac-custom-nuisance/sub-0050147_ses-1/func/sub-0050147_ses-1_task-rest_run-3_framewise-displacement-jenkinson.1D',\n",
       " '/archive/bioinformatics/DLLab/AlexTreacher/data/20210825_ABIDE_CPAC/ABIDEI/derivatives/CPAC/output/cpac_cpac-custom-nuisance/sub-0051225_ses-1/func/sub-0051225_ses-1_task-rest_run-1_framewise-displacement-jenkinson.1D',\n",
       " '/archive/bioinformatics/DLLab/AlexTreacher/data/20210825_ABIDE_CPAC/ABIDEI/derivatives/CPAC/output/cpac_cpac-custom-nuisance/sub-0051250_ses-1/func/sub-0051250_ses-1_task-rest_run-1_framewise-displacement-jenkinson.1D',\n",
       " '/archive/bioinformatics/DLLab/AlexTreacher/data/20210825_ABIDE_CPAC/ABIDEI/derivatives/CPAC/output/cpac_cpac-custom-nuisance/sub-0050052_ses-1/func/sub-0050052_ses-1_task-rest_run-1_framewise-displacement-jenkinson.1D',\n",
       " '/archive/bioinformatics/DLLab/AlexTreacher/data/20210825_ABIDE_CPAC/ABIDEI/derivatives/CPAC/output/cpac_cpac-custom-nuisance/sub-0051066_ses-1/func/sub-0051066_ses-1_task-rest_run-1_framewise-displacement-jenkinson.1D',\n",
       " '/archive/bioinformatics/DLLab/AlexTreacher/data/20210825_ABIDE_CPAC/ABIDEI/derivatives/CPAC/output/cpac_cpac-custom-nuisance/sub-0051083_ses-1/func/sub-0051083_ses-1_task-rest_run-1_framewise-displacement-jenkinson.1D',\n",
       " '/archive/bioinformatics/DLLab/AlexTreacher/data/20210825_ABIDE_CPAC/ABIDEI/derivatives/CPAC/output/cpac_cpac-custom-nuisance/sub-0051159_ses-1/func/sub-0051159_ses-1_task-rest_run-1_framewise-displacement-jenkinson.1D',\n",
       " '/archive/bioinformatics/DLLab/AlexTreacher/data/20210825_ABIDE_CPAC/ABIDEI/derivatives/CPAC/output/cpac_cpac-custom-nuisance/sub-0050516_ses-1/func/sub-0050516_ses-1_task-rest_run-1_framewise-displacement-jenkinson.1D',\n",
       " '/archive/bioinformatics/DLLab/AlexTreacher/data/20210825_ABIDE_CPAC/ABIDEI/derivatives/CPAC/output/cpac_cpac-custom-nuisance/sub-0050155_ses-1/func/sub-0050155_ses-1_task-rest_run-3_framewise-displacement-jenkinson.1D',\n",
       " '/archive/bioinformatics/DLLab/AlexTreacher/data/20210825_ABIDE_CPAC/ABIDEI/derivatives/CPAC/output/cpac_cpac-custom-nuisance/sub-0050155_ses-1/func/sub-0050155_ses-1_task-rest_run-2_framewise-displacement-jenkinson.1D',\n",
       " '/archive/bioinformatics/DLLab/AlexTreacher/data/20210825_ABIDE_CPAC/ABIDEI/derivatives/CPAC/output/cpac_cpac-custom-nuisance/sub-0050999_ses-1/func/sub-0050999_ses-1_task-rest_run-1_framewise-displacement-jenkinson.1D',\n",
       " '/archive/bioinformatics/DLLab/AlexTreacher/data/20210825_ABIDE_CPAC/ABIDEI/derivatives/CPAC/output/cpac_cpac-custom-nuisance/sub-0050514_ses-1/func/sub-0050514_ses-1_task-rest_run-1_framewise-displacement-jenkinson.1D',\n",
       " '/archive/bioinformatics/DLLab/AlexTreacher/data/20210825_ABIDE_CPAC/ABIDEI/derivatives/CPAC/output/cpac_cpac-custom-nuisance/sub-0050406_ses-1/func/sub-0050406_ses-1_task-rest_run-1_framewise-displacement-jenkinson.1D',\n",
       " '/archive/bioinformatics/DLLab/AlexTreacher/data/20210825_ABIDE_CPAC/ABIDEI/derivatives/CPAC/output/cpac_cpac-custom-nuisance/sub-0050427_ses-1/func/sub-0050427_ses-1_task-rest_run-1_framewise-displacement-jenkinson.1D',\n",
       " '/archive/bioinformatics/DLLab/AlexTreacher/data/20210825_ABIDE_CPAC/ABIDEI/derivatives/CPAC/output/cpac_cpac-custom-nuisance/sub-0050501_ses-1/func/sub-0050501_ses-1_task-rest_run-1_framewise-displacement-jenkinson.1D',\n",
       " '/archive/bioinformatics/DLLab/AlexTreacher/data/20210825_ABIDE_CPAC/ABIDEI/derivatives/CPAC/output/cpac_cpac-custom-nuisance/sub-0051065_ses-1/func/sub-0051065_ses-1_task-rest_run-1_framewise-displacement-jenkinson.1D',\n",
       " '/archive/bioinformatics/DLLab/AlexTreacher/data/20210825_ABIDE_CPAC/ABIDEI/derivatives/CPAC/output/cpac_cpac-custom-nuisance/sub-0050812_ses-1/func/sub-0050812_ses-1_task-rest_run-1_framewise-displacement-jenkinson.1D',\n",
       " '/archive/bioinformatics/DLLab/AlexTreacher/data/20210825_ABIDE_CPAC/ABIDEI/derivatives/CPAC/output/cpac_cpac-custom-nuisance/sub-0050156_ses-1/func/sub-0050156_ses-1_task-rest_run-3_framewise-displacement-jenkinson.1D',\n",
       " '/archive/bioinformatics/DLLab/AlexTreacher/data/20210825_ABIDE_CPAC/ABIDEI/derivatives/CPAC/output/cpac_cpac-custom-nuisance/sub-0050156_ses-1/func/sub-0050156_ses-1_task-rest_run-1_framewise-displacement-jenkinson.1D',\n",
       " '/archive/bioinformatics/DLLab/AlexTreacher/data/20210825_ABIDE_CPAC/ABIDEI/derivatives/CPAC/output/cpac_cpac-custom-nuisance/sub-0050156_ses-1/func/sub-0050156_ses-1_task-rest_run-2_framewise-displacement-jenkinson.1D',\n",
       " '/archive/bioinformatics/DLLab/AlexTreacher/data/20210825_ABIDE_CPAC/ABIDEI/derivatives/CPAC/output/cpac_cpac-custom-nuisance/sub-0050407_ses-1/func/sub-0050407_ses-1_task-rest_run-1_framewise-displacement-jenkinson.1D',\n",
       " '/archive/bioinformatics/DLLab/AlexTreacher/data/20210825_ABIDE_CPAC/ABIDEI/derivatives/CPAC/output/cpac_cpac-custom-nuisance/sub-0050994_ses-1/func/sub-0050994_ses-1_task-rest_run-1_framewise-displacement-jenkinson.1D',\n",
       " '/archive/bioinformatics/DLLab/AlexTreacher/data/20210825_ABIDE_CPAC/ABIDEI/derivatives/CPAC/output/cpac_cpac-custom-nuisance/sub-0050447_ses-1/func/sub-0050447_ses-1_task-rest_run-1_framewise-displacement-jenkinson.1D',\n",
       " '/archive/bioinformatics/DLLab/AlexTreacher/data/20210825_ABIDE_CPAC/ABIDEI/derivatives/CPAC/output/cpac_cpac-custom-nuisance/sub-0050259_ses-1/func/sub-0050259_ses-1_task-rest_run-1_framewise-displacement-jenkinson.1D',\n",
       " '/archive/bioinformatics/DLLab/AlexTreacher/data/20210825_ABIDE_CPAC/ABIDEI/derivatives/CPAC/output/cpac_cpac-custom-nuisance/sub-0051023_ses-1/func/sub-0051023_ses-1_task-rest_run-1_framewise-displacement-jenkinson.1D',\n",
       " '/archive/bioinformatics/DLLab/AlexTreacher/data/20210825_ABIDE_CPAC/ABIDEI/derivatives/CPAC/output/cpac_cpac-custom-nuisance/sub-0051373_ses-1/func/sub-0051373_ses-1_task-rest_run-1_framewise-displacement-jenkinson.1D',\n",
       " '/archive/bioinformatics/DLLab/AlexTreacher/data/20210825_ABIDE_CPAC/ABIDEI/derivatives/CPAC/output/cpac_cpac-custom-nuisance/sub-0050798_ses-1/func/sub-0050798_ses-1_task-rest_run-1_framewise-displacement-jenkinson.1D',\n",
       " '/archive/bioinformatics/DLLab/AlexTreacher/data/20210825_ABIDE_CPAC/ABIDEI/derivatives/CPAC/output/cpac_cpac-custom-nuisance/sub-0050667_ses-1/func/sub-0050667_ses-1_task-rest_run-1_framewise-displacement-jenkinson.1D',\n",
       " '/archive/bioinformatics/DLLab/AlexTreacher/data/20210825_ABIDE_CPAC/ABIDEI/derivatives/CPAC/output/cpac_cpac-custom-nuisance/sub-0050450_ses-1/func/sub-0050450_ses-1_task-rest_run-1_framewise-displacement-jenkinson.1D',\n",
       " '/archive/bioinformatics/DLLab/AlexTreacher/data/20210825_ABIDE_CPAC/ABIDEI/derivatives/CPAC/output/cpac_cpac-custom-nuisance/sub-0051141_ses-1/func/sub-0051141_ses-1_task-rest_run-1_framewise-displacement-jenkinson.1D',\n",
       " '/archive/bioinformatics/DLLab/AlexTreacher/data/20210825_ABIDE_CPAC/ABIDEI/derivatives/CPAC/output/cpac_cpac-custom-nuisance/sub-0051365_ses-1/func/sub-0051365_ses-1_task-rest_run-1_framewise-displacement-jenkinson.1D',\n",
       " '/archive/bioinformatics/DLLab/AlexTreacher/data/20210825_ABIDE_CPAC/ABIDEI/derivatives/CPAC/output/cpac_cpac-custom-nuisance/sub-0051080_ses-1/func/sub-0051080_ses-1_task-rest_run-1_framewise-displacement-jenkinson.1D',\n",
       " '/archive/bioinformatics/DLLab/AlexTreacher/data/20210825_ABIDE_CPAC/ABIDEI/derivatives/CPAC/output/cpac_cpac-custom-nuisance/sub-0050688_ses-1/func/sub-0050688_ses-1_task-rest_run-1_framewise-displacement-jenkinson.1D',\n",
       " '/archive/bioinformatics/DLLab/AlexTreacher/data/20210825_ABIDE_CPAC/ABIDEI/derivatives/CPAC/output/cpac_cpac-custom-nuisance/sub-0050956_ses-1/func/sub-0050956_ses-1_task-rest_run-1_framewise-displacement-jenkinson.1D',\n",
       " '/archive/bioinformatics/DLLab/AlexTreacher/data/20210825_ABIDE_CPAC/ABIDEI/derivatives/CPAC/output/cpac_cpac-custom-nuisance/sub-0051015_ses-1/func/sub-0051015_ses-1_task-rest_run-1_framewise-displacement-jenkinson.1D',\n",
       " '/archive/bioinformatics/DLLab/AlexTreacher/data/20210825_ABIDE_CPAC/ABIDEI/derivatives/CPAC/output/cpac_cpac-custom-nuisance/sub-0050026_ses-1/func/sub-0050026_ses-1_task-rest_run-1_framewise-displacement-jenkinson.1D',\n",
       " '/archive/bioinformatics/DLLab/AlexTreacher/data/20210825_ABIDE_CPAC/ABIDEI/derivatives/CPAC/output/cpac_cpac-custom-nuisance/sub-0050137_ses-1/func/sub-0050137_ses-1_task-rest_run-1_framewise-displacement-jenkinson.1D',\n",
       " '/archive/bioinformatics/DLLab/AlexTreacher/data/20210825_ABIDE_CPAC/ABIDEI/derivatives/CPAC/output/cpac_cpac-custom-nuisance/sub-0051121_ses-1/func/sub-0051121_ses-1_task-rest_run-1_framewise-displacement-jenkinson.1D',\n",
       " '/archive/bioinformatics/DLLab/AlexTreacher/data/20210825_ABIDE_CPAC/ABIDEI/derivatives/CPAC/output/cpac_cpac-custom-nuisance/sub-0051006_ses-1/func/sub-0051006_ses-1_task-rest_run-1_framewise-displacement-jenkinson.1D',\n",
       " '/archive/bioinformatics/DLLab/AlexTreacher/data/20210825_ABIDE_CPAC/ABIDEI/derivatives/CPAC/output/cpac_cpac-custom-nuisance/sub-0050161_ses-1/func/sub-0050161_ses-1_task-rest_run-3_framewise-displacement-jenkinson.1D',\n",
       " '/archive/bioinformatics/DLLab/AlexTreacher/data/20210825_ABIDE_CPAC/ABIDEI/derivatives/CPAC/output/cpac_cpac-custom-nuisance/sub-0050161_ses-1/func/sub-0050161_ses-1_task-rest_run-1_framewise-displacement-jenkinson.1D',\n",
       " '/archive/bioinformatics/DLLab/AlexTreacher/data/20210825_ABIDE_CPAC/ABIDEI/derivatives/CPAC/output/cpac_cpac-custom-nuisance/sub-0050161_ses-1/func/sub-0050161_ses-1_task-rest_run-2_framewise-displacement-jenkinson.1D',\n",
       " '/archive/bioinformatics/DLLab/AlexTreacher/data/20210825_ABIDE_CPAC/ABIDEI/derivatives/CPAC/output/cpac_cpac-custom-nuisance/sub-0050378_ses-1/func/sub-0050378_ses-1_task-rest_run-1_framewise-displacement-jenkinson.1D',\n",
       " '/archive/bioinformatics/DLLab/AlexTreacher/data/20210825_ABIDE_CPAC/ABIDEI/derivatives/CPAC/output/cpac_cpac-custom-nuisance/sub-0051358_ses-1/func/sub-0051358_ses-1_task-rest_run-1_framewise-displacement-jenkinson.1D',\n",
       " '/archive/bioinformatics/DLLab/AlexTreacher/data/20210825_ABIDE_CPAC/ABIDEI/derivatives/CPAC/output/cpac_cpac-custom-nuisance/sub-0051479_ses-1/func/sub-0051479_ses-1_task-rest_run-1_framewise-displacement-jenkinson.1D',\n",
       " '/archive/bioinformatics/DLLab/AlexTreacher/data/20210825_ABIDE_CPAC/ABIDEI/derivatives/CPAC/output/cpac_cpac-custom-nuisance/sub-0050404_ses-1/func/sub-0050404_ses-1_task-rest_run-1_framewise-displacement-jenkinson.1D',\n",
       " '/archive/bioinformatics/DLLab/AlexTreacher/data/20210825_ABIDE_CPAC/ABIDEI/derivatives/CPAC/output/cpac_cpac-custom-nuisance/sub-0050575_ses-1/func/sub-0050575_ses-1_task-rest_run-1_framewise-displacement-jenkinson.1D',\n",
       " '/archive/bioinformatics/DLLab/AlexTreacher/data/20210825_ABIDE_CPAC/ABIDEI/derivatives/CPAC/output/cpac_cpac-custom-nuisance/sub-0051034_ses-1/func/sub-0051034_ses-1_task-rest_run-1_framewise-displacement-jenkinson.1D',\n",
       " '/archive/bioinformatics/DLLab/AlexTreacher/data/20210825_ABIDE_CPAC/ABIDEI/derivatives/CPAC/output/cpac_cpac-custom-nuisance/sub-0050325_ses-1/func/sub-0050325_ses-1_task-rest_run-1_framewise-displacement-jenkinson.1D',\n",
       " '/archive/bioinformatics/DLLab/AlexTreacher/data/20210825_ABIDE_CPAC/ABIDEI/derivatives/CPAC/output/cpac_cpac-custom-nuisance/sub-0050287_ses-1/func/sub-0050287_ses-1_task-rest_run-1_framewise-displacement-jenkinson.1D',\n",
       " '/archive/bioinformatics/DLLab/AlexTreacher/data/20210825_ABIDE_CPAC/ABIDEI/derivatives/CPAC/output/cpac_cpac-custom-nuisance/sub-0051312_ses-1/func/sub-0051312_ses-1_task-rest_run-1_framewise-displacement-jenkinson.1D',\n",
       " '/archive/bioinformatics/DLLab/AlexTreacher/data/20210825_ABIDE_CPAC/ABIDEI/derivatives/CPAC/output/cpac_cpac-custom-nuisance/sub-0051347_ses-1/func/sub-0051347_ses-1_task-rest_run-1_framewise-displacement-jenkinson.1D',\n",
       " '/archive/bioinformatics/DLLab/AlexTreacher/data/20210825_ABIDE_CPAC/ABIDEI/derivatives/CPAC/output/cpac_cpac-custom-nuisance/sub-0050279_ses-1/func/sub-0050279_ses-1_task-rest_run-1_framewise-displacement-jenkinson.1D',\n",
       " '/archive/bioinformatics/DLLab/AlexTreacher/data/20210825_ABIDE_CPAC/ABIDEI/derivatives/CPAC/output/cpac_cpac-custom-nuisance/sub-0050445_ses-1/func/sub-0050445_ses-1_task-rest_run-1_framewise-displacement-jenkinson.1D',\n",
       " '/archive/bioinformatics/DLLab/AlexTreacher/data/20210825_ABIDE_CPAC/ABIDEI/derivatives/CPAC/output/cpac_cpac-custom-nuisance/sub-0050756_ses-1/func/sub-0050756_ses-1_task-rest_run-1_framewise-displacement-jenkinson.1D',\n",
       " '/archive/bioinformatics/DLLab/AlexTreacher/data/20210825_ABIDE_CPAC/ABIDEI/derivatives/CPAC/output/cpac_cpac-custom-nuisance/sub-0051210_ses-1/func/sub-0051210_ses-1_task-rest_run-1_framewise-displacement-jenkinson.1D',\n",
       " '/archive/bioinformatics/DLLab/AlexTreacher/data/20210825_ABIDE_CPAC/ABIDEI/derivatives/CPAC/output/cpac_cpac-custom-nuisance/sub-0050149_ses-1/func/sub-0050149_ses-1_task-rest_run-2_framewise-displacement-jenkinson.1D',\n",
       " '/archive/bioinformatics/DLLab/AlexTreacher/data/20210825_ABIDE_CPAC/ABIDEI/derivatives/CPAC/output/cpac_cpac-custom-nuisance/sub-0050149_ses-1/func/sub-0050149_ses-1_task-rest_run-1_framewise-displacement-jenkinson.1D',\n",
       " '/archive/bioinformatics/DLLab/AlexTreacher/data/20210825_ABIDE_CPAC/ABIDEI/derivatives/CPAC/output/cpac_cpac-custom-nuisance/sub-0050320_ses-1/func/sub-0050320_ses-1_task-rest_run-1_framewise-displacement-jenkinson.1D',\n",
       " '/archive/bioinformatics/DLLab/AlexTreacher/data/20210825_ABIDE_CPAC/ABIDEI/derivatives/CPAC/output/cpac_cpac-custom-nuisance/sub-0051277_ses-1/func/sub-0051277_ses-1_task-rest_run-1_framewise-displacement-jenkinson.1D',\n",
       " '/archive/bioinformatics/DLLab/AlexTreacher/data/20210825_ABIDE_CPAC/ABIDEI/derivatives/CPAC/output/cpac_cpac-custom-nuisance/sub-0051218_ses-1/func/sub-0051218_ses-1_task-rest_run-1_framewise-displacement-jenkinson.1D',\n",
       " '/archive/bioinformatics/DLLab/AlexTreacher/data/20210825_ABIDE_CPAC/ABIDEI/derivatives/CPAC/output/cpac_cpac-custom-nuisance/sub-0050421_ses-1/func/sub-0050421_ses-1_task-rest_run-1_framewise-displacement-jenkinson.1D',\n",
       " '/archive/bioinformatics/DLLab/AlexTreacher/data/20210825_ABIDE_CPAC/ABIDEI/derivatives/CPAC/output/cpac_cpac-custom-nuisance/sub-0050557_ses-1/func/sub-0050557_ses-1_task-rest_run-1_framewise-displacement-jenkinson.1D',\n",
       " '/archive/bioinformatics/DLLab/AlexTreacher/data/20210825_ABIDE_CPAC/ABIDEI/derivatives/CPAC/output/cpac_cpac-custom-nuisance/sub-0050477_ses-1/func/sub-0050477_ses-1_task-rest_run-1_framewise-displacement-jenkinson.1D',\n",
       " '/archive/bioinformatics/DLLab/AlexTreacher/data/20210825_ABIDE_CPAC/ABIDEI/derivatives/CPAC/output/cpac_cpac-custom-nuisance/sub-0050253_ses-1/func/sub-0050253_ses-1_task-rest_run-1_framewise-displacement-jenkinson.1D',\n",
       " '/archive/bioinformatics/DLLab/AlexTreacher/data/20210825_ABIDE_CPAC/ABIDEI/derivatives/CPAC/output/cpac_cpac-custom-nuisance/sub-0050509_ses-1/func/sub-0050509_ses-1_task-rest_run-1_framewise-displacement-jenkinson.1D',\n",
       " '/archive/bioinformatics/DLLab/AlexTreacher/data/20210825_ABIDE_CPAC/ABIDEI/derivatives/CPAC/output/cpac_cpac-custom-nuisance/sub-0050261_ses-1/func/sub-0050261_ses-1_task-rest_run-1_framewise-displacement-jenkinson.1D',\n",
       " '/archive/bioinformatics/DLLab/AlexTreacher/data/20210825_ABIDE_CPAC/ABIDEI/derivatives/CPAC/output/cpac_cpac-custom-nuisance/sub-0051264_ses-1/func/sub-0051264_ses-1_task-rest_run-1_framewise-displacement-jenkinson.1D',\n",
       " '/archive/bioinformatics/DLLab/AlexTreacher/data/20210825_ABIDE_CPAC/ABIDEI/derivatives/CPAC/output/cpac_cpac-custom-nuisance/sub-0050024_ses-1/func/sub-0050024_ses-1_task-rest_run-1_framewise-displacement-jenkinson.1D',\n",
       " '/archive/bioinformatics/DLLab/AlexTreacher/data/20210825_ABIDE_CPAC/ABIDEI/derivatives/CPAC/output/cpac_cpac-custom-nuisance/sub-0051237_ses-1/func/sub-0051237_ses-1_task-rest_run-1_framewise-displacement-jenkinson.1D',\n",
       " '/archive/bioinformatics/DLLab/AlexTreacher/data/20210825_ABIDE_CPAC/ABIDEI/derivatives/CPAC/output/cpac_cpac-custom-nuisance/sub-0051371_ses-1/func/sub-0051371_ses-1_task-rest_run-1_framewise-displacement-jenkinson.1D',\n",
       " '/archive/bioinformatics/DLLab/AlexTreacher/data/20210825_ABIDE_CPAC/ABIDEI/derivatives/CPAC/output/cpac_cpac-custom-nuisance/sub-0050825_ses-1/func/sub-0050825_ses-1_task-rest_run-1_framewise-displacement-jenkinson.1D',\n",
       " '/archive/bioinformatics/DLLab/AlexTreacher/data/20210825_ABIDE_CPAC/ABIDEI/derivatives/CPAC/output/cpac_cpac-custom-nuisance/sub-0051344_ses-1/func/sub-0051344_ses-1_task-rest_run-1_framewise-displacement-jenkinson.1D',\n",
       " '/archive/bioinformatics/DLLab/AlexTreacher/data/20210825_ABIDE_CPAC/ABIDEI/derivatives/CPAC/output/cpac_cpac-custom-nuisance/sub-0050442_ses-1/func/sub-0050442_ses-1_task-rest_run-1_framewise-displacement-jenkinson.1D',\n",
       " '/archive/bioinformatics/DLLab/AlexTreacher/data/20210825_ABIDE_CPAC/ABIDEI/derivatives/CPAC/output/cpac_cpac-custom-nuisance/sub-0050668_ses-1/func/sub-0050668_ses-1_task-rest_run-1_framewise-displacement-jenkinson.1D',\n",
       " '/archive/bioinformatics/DLLab/AlexTreacher/data/20210825_ABIDE_CPAC/ABIDEI/derivatives/CPAC/output/cpac_cpac-custom-nuisance/sub-0050628_ses-1/func/sub-0050628_ses-1_task-rest_run-1_framewise-displacement-jenkinson.1D',\n",
       " '/archive/bioinformatics/DLLab/AlexTreacher/data/20210825_ABIDE_CPAC/ABIDEI/derivatives/CPAC/output/cpac_cpac-custom-nuisance/sub-0051343_ses-1/func/sub-0051343_ses-1_task-rest_run-1_framewise-displacement-jenkinson.1D',\n",
       " '/archive/bioinformatics/DLLab/AlexTreacher/data/20210825_ABIDE_CPAC/ABIDEI/derivatives/CPAC/output/cpac_cpac-custom-nuisance/sub-0050800_ses-1/func/sub-0050800_ses-1_task-rest_run-1_framewise-displacement-jenkinson.1D',\n",
       " '/archive/bioinformatics/DLLab/AlexTreacher/data/20210825_ABIDE_CPAC/ABIDEI/derivatives/CPAC/output/cpac_cpac-custom-nuisance/sub-0050357_ses-1/func/sub-0050357_ses-1_task-rest_run-1_framewise-displacement-jenkinson.1D',\n",
       " '/archive/bioinformatics/DLLab/AlexTreacher/data/20210825_ABIDE_CPAC/ABIDEI/derivatives/CPAC/output/cpac_cpac-custom-nuisance/sub-0050365_ses-1/func/sub-0050365_ses-1_task-rest_run-1_framewise-displacement-jenkinson.1D',\n",
       " '/archive/bioinformatics/DLLab/AlexTreacher/data/20210825_ABIDE_CPAC/ABIDEI/derivatives/CPAC/output/cpac_cpac-custom-nuisance/sub-0051130_ses-1/func/sub-0051130_ses-1_task-rest_run-1_framewise-displacement-jenkinson.1D',\n",
       " '/archive/bioinformatics/DLLab/AlexTreacher/data/20210825_ABIDE_CPAC/ABIDEI/derivatives/CPAC/output/cpac_cpac-custom-nuisance/sub-0050730_ses-1/func/sub-0050730_ses-1_task-rest_run-1_framewise-displacement-jenkinson.1D',\n",
       " '/archive/bioinformatics/DLLab/AlexTreacher/data/20210825_ABIDE_CPAC/ABIDEI/derivatives/CPAC/output/cpac_cpac-custom-nuisance/sub-0050683_ses-1/func/sub-0050683_ses-1_task-rest_run-1_framewise-displacement-jenkinson.1D',\n",
       " '/archive/bioinformatics/DLLab/AlexTreacher/data/20210825_ABIDE_CPAC/ABIDEI/derivatives/CPAC/output/cpac_cpac-custom-nuisance/sub-0050107_ses-1/func/sub-0050107_ses-1_task-rest_run-1_framewise-displacement-jenkinson.1D',\n",
       " '/archive/bioinformatics/DLLab/AlexTreacher/data/20210825_ABIDE_CPAC/ABIDEI/derivatives/CPAC/output/cpac_cpac-custom-nuisance/sub-0050740_ses-1/func/sub-0050740_ses-1_task-rest_run-1_framewise-displacement-jenkinson.1D',\n",
       " '/archive/bioinformatics/DLLab/AlexTreacher/data/20210825_ABIDE_CPAC/ABIDEI/derivatives/CPAC/output/cpac_cpac-custom-nuisance/sub-0050527_ses-1/func/sub-0050527_ses-1_task-rest_run-1_framewise-displacement-jenkinson.1D',\n",
       " '/archive/bioinformatics/DLLab/AlexTreacher/data/20210825_ABIDE_CPAC/ABIDEI/derivatives/CPAC/output/cpac_cpac-custom-nuisance/sub-0051261_ses-1/func/sub-0051261_ses-1_task-rest_run-1_framewise-displacement-jenkinson.1D',\n",
       " '/archive/bioinformatics/DLLab/AlexTreacher/data/20210825_ABIDE_CPAC/ABIDEI/derivatives/CPAC/output/cpac_cpac-custom-nuisance/sub-0050006_ses-1/func/sub-0050006_ses-1_task-rest_run-1_framewise-displacement-jenkinson.1D',\n",
       " '/archive/bioinformatics/DLLab/AlexTreacher/data/20210825_ABIDE_CPAC/ABIDEI/derivatives/CPAC/output/cpac_cpac-custom-nuisance/sub-0050468_ses-1/func/sub-0050468_ses-1_task-rest_run-1_framewise-displacement-jenkinson.1D',\n",
       " '/archive/bioinformatics/DLLab/AlexTreacher/data/20210825_ABIDE_CPAC/ABIDEI/derivatives/CPAC/output/cpac_cpac-custom-nuisance/sub-0050521_ses-1/func/sub-0050521_ses-1_task-rest_run-1_framewise-displacement-jenkinson.1D',\n",
       " '/archive/bioinformatics/DLLab/AlexTreacher/data/20210825_ABIDE_CPAC/ABIDEI/derivatives/CPAC/output/cpac_cpac-custom-nuisance/sub-0051208_ses-1/func/sub-0051208_ses-1_task-rest_run-1_framewise-displacement-jenkinson.1D',\n",
       " '/archive/bioinformatics/DLLab/AlexTreacher/data/20210825_ABIDE_CPAC/ABIDEI/derivatives/CPAC/output/cpac_cpac-custom-nuisance/sub-0050326_ses-1/func/sub-0050326_ses-1_task-rest_run-1_framewise-displacement-jenkinson.1D',\n",
       " '/archive/bioinformatics/DLLab/AlexTreacher/data/20210825_ABIDE_CPAC/ABIDEI/derivatives/CPAC/output/cpac_cpac-custom-nuisance/sub-0051017_ses-1/func/sub-0051017_ses-1_task-rest_run-1_framewise-displacement-jenkinson.1D',\n",
       " '/archive/bioinformatics/DLLab/AlexTreacher/data/20210825_ABIDE_CPAC/ABIDEI/derivatives/CPAC/output/cpac_cpac-custom-nuisance/sub-0050781_ses-1/func/sub-0050781_ses-1_task-rest_run-1_framewise-displacement-jenkinson.1D',\n",
       " '/archive/bioinformatics/DLLab/AlexTreacher/data/20210825_ABIDE_CPAC/ABIDEI/derivatives/CPAC/output/cpac_cpac-custom-nuisance/sub-0050131_ses-1/func/sub-0050131_ses-1_task-rest_run-1_framewise-displacement-jenkinson.1D',\n",
       " '/archive/bioinformatics/DLLab/AlexTreacher/data/20210825_ABIDE_CPAC/ABIDEI/derivatives/CPAC/output/cpac_cpac-custom-nuisance/sub-0050124_ses-1/func/sub-0050124_ses-1_task-rest_run-1_framewise-displacement-jenkinson.1D',\n",
       " '/archive/bioinformatics/DLLab/AlexTreacher/data/20210825_ABIDE_CPAC/ABIDEI/derivatives/CPAC/output/cpac_cpac-custom-nuisance/sub-0051026_ses-1/func/sub-0051026_ses-1_task-rest_run-1_framewise-displacement-jenkinson.1D',\n",
       " '/archive/bioinformatics/DLLab/AlexTreacher/data/20210825_ABIDE_CPAC/ABIDEI/derivatives/CPAC/output/cpac_cpac-custom-nuisance/sub-0050245_ses-1/func/sub-0050245_ses-1_task-rest_run-1_framewise-displacement-jenkinson.1D',\n",
       " '/archive/bioinformatics/DLLab/AlexTreacher/data/20210825_ABIDE_CPAC/ABIDEI/derivatives/CPAC/output/cpac_cpac-custom-nuisance/sub-0050422_ses-1/func/sub-0050422_ses-1_task-rest_run-1_framewise-displacement-jenkinson.1D',\n",
       " '/archive/bioinformatics/DLLab/AlexTreacher/data/20210825_ABIDE_CPAC/ABIDEI/derivatives/CPAC/output/cpac_cpac-custom-nuisance/sub-0050055_ses-1/func/sub-0050055_ses-1_task-rest_run-1_framewise-displacement-jenkinson.1D',\n",
       " '/archive/bioinformatics/DLLab/AlexTreacher/data/20210825_ABIDE_CPAC/ABIDEI/derivatives/CPAC/output/cpac_cpac-custom-nuisance/sub-0051307_ses-1/func/sub-0051307_ses-1_task-rest_run-1_framewise-displacement-jenkinson.1D',\n",
       " '/archive/bioinformatics/DLLab/AlexTreacher/data/20210825_ABIDE_CPAC/ABIDEI/derivatives/CPAC/output/cpac_cpac-custom-nuisance/sub-0050511_ses-1/func/sub-0050511_ses-1_task-rest_run-1_framewise-displacement-jenkinson.1D',\n",
       " '/archive/bioinformatics/DLLab/AlexTreacher/data/20210825_ABIDE_CPAC/ABIDEI/derivatives/CPAC/output/cpac_cpac-custom-nuisance/sub-0051119_ses-1/func/sub-0051119_ses-1_task-rest_run-1_framewise-displacement-jenkinson.1D',\n",
       " '/archive/bioinformatics/DLLab/AlexTreacher/data/20210825_ABIDE_CPAC/ABIDEI/derivatives/CPAC/output/cpac_cpac-custom-nuisance/sub-0050491_ses-1/func/sub-0050491_ses-1_task-rest_run-1_framewise-displacement-jenkinson.1D',\n",
       " '/archive/bioinformatics/DLLab/AlexTreacher/data/20210825_ABIDE_CPAC/ABIDEI/derivatives/CPAC/output/cpac_cpac-custom-nuisance/sub-0051081_ses-1/func/sub-0051081_ses-1_task-rest_run-1_framewise-displacement-jenkinson.1D',\n",
       " '/archive/bioinformatics/DLLab/AlexTreacher/data/20210825_ABIDE_CPAC/ABIDEI/derivatives/CPAC/output/cpac_cpac-custom-nuisance/sub-0050625_ses-1/func/sub-0050625_ses-1_task-rest_run-1_framewise-displacement-jenkinson.1D',\n",
       " '/archive/bioinformatics/DLLab/AlexTreacher/data/20210825_ABIDE_CPAC/ABIDEI/derivatives/CPAC/output/cpac_cpac-custom-nuisance/sub-0051228_ses-1/func/sub-0051228_ses-1_task-rest_run-1_framewise-displacement-jenkinson.1D',\n",
       " '/archive/bioinformatics/DLLab/AlexTreacher/data/20210825_ABIDE_CPAC/ABIDEI/derivatives/CPAC/output/cpac_cpac-custom-nuisance/sub-0050725_ses-1/func/sub-0050725_ses-1_task-rest_run-1_framewise-displacement-jenkinson.1D',\n",
       " '/archive/bioinformatics/DLLab/AlexTreacher/data/20210825_ABIDE_CPAC/ABIDEI/derivatives/CPAC/output/cpac_cpac-custom-nuisance/sub-0050743_ses-1/func/sub-0050743_ses-1_task-rest_run-1_framewise-displacement-jenkinson.1D',\n",
       " '/archive/bioinformatics/DLLab/AlexTreacher/data/20210825_ABIDE_CPAC/ABIDEI/derivatives/CPAC/output/cpac_cpac-custom-nuisance/sub-0050383_ses-1/func/sub-0050383_ses-1_task-rest_run-1_framewise-displacement-jenkinson.1D',\n",
       " '/archive/bioinformatics/DLLab/AlexTreacher/data/20210825_ABIDE_CPAC/ABIDEI/derivatives/CPAC/output/cpac_cpac-custom-nuisance/sub-0051476_ses-1/func/sub-0051476_ses-1_task-rest_run-1_framewise-displacement-jenkinson.1D',\n",
       " '/archive/bioinformatics/DLLab/AlexTreacher/data/20210825_ABIDE_CPAC/ABIDEI/derivatives/CPAC/output/cpac_cpac-custom-nuisance/sub-0050722_ses-1/func/sub-0050722_ses-1_task-rest_run-1_framewise-displacement-jenkinson.1D',\n",
       " '/archive/bioinformatics/DLLab/AlexTreacher/data/20210825_ABIDE_CPAC/ABIDEI/derivatives/CPAC/output/cpac_cpac-custom-nuisance/sub-0050605_ses-1/func/sub-0050605_ses-1_task-rest_run-1_framewise-displacement-jenkinson.1D',\n",
       " '/archive/bioinformatics/DLLab/AlexTreacher/data/20210825_ABIDE_CPAC/ABIDEI/derivatives/CPAC/output/cpac_cpac-custom-nuisance/sub-0051468_ses-1/func/sub-0051468_ses-1_task-rest_run-1_framewise-displacement-jenkinson.1D',\n",
       " '/archive/bioinformatics/DLLab/AlexTreacher/data/20210825_ABIDE_CPAC/ABIDEI/derivatives/CPAC/output/cpac_cpac-custom-nuisance/sub-0050642_ses-1/func/sub-0050642_ses-1_task-rest_run-1_framewise-displacement-jenkinson.1D',\n",
       " '/archive/bioinformatics/DLLab/AlexTreacher/data/20210825_ABIDE_CPAC/ABIDEI/derivatives/CPAC/output/cpac_cpac-custom-nuisance/sub-0050254_ses-1/func/sub-0050254_ses-1_task-rest_run-1_framewise-displacement-jenkinson.1D',\n",
       " '/archive/bioinformatics/DLLab/AlexTreacher/data/20210825_ABIDE_CPAC/ABIDEI/derivatives/CPAC/output/cpac_cpac-custom-nuisance/sub-0051297_ses-1/func/sub-0051297_ses-1_task-rest_run-1_framewise-displacement-jenkinson.1D',\n",
       " '/archive/bioinformatics/DLLab/AlexTreacher/data/20210825_ABIDE_CPAC/ABIDEI/derivatives/CPAC/output/cpac_cpac-custom-nuisance/sub-0050613_ses-1/func/sub-0050613_ses-1_task-rest_run-1_framewise-displacement-jenkinson.1D',\n",
       " '/archive/bioinformatics/DLLab/AlexTreacher/data/20210825_ABIDE_CPAC/ABIDEI/derivatives/CPAC/output/cpac_cpac-custom-nuisance/sub-0050292_ses-1/func/sub-0050292_ses-1_task-rest_run-1_framewise-displacement-jenkinson.1D',\n",
       " '/archive/bioinformatics/DLLab/AlexTreacher/data/20210825_ABIDE_CPAC/ABIDEI/derivatives/CPAC/output/cpac_cpac-custom-nuisance/sub-0050294_ses-1/func/sub-0050294_ses-1_task-rest_run-1_framewise-displacement-jenkinson.1D',\n",
       " '/archive/bioinformatics/DLLab/AlexTreacher/data/20210825_ABIDE_CPAC/ABIDEI/derivatives/CPAC/output/cpac_cpac-custom-nuisance/sub-0051267_ses-1/func/sub-0051267_ses-1_task-rest_run-1_framewise-displacement-jenkinson.1D',\n",
       " '/archive/bioinformatics/DLLab/AlexTreacher/data/20210825_ABIDE_CPAC/ABIDEI/derivatives/CPAC/output/cpac_cpac-custom-nuisance/sub-0050284_ses-1/func/sub-0050284_ses-1_task-rest_run-1_framewise-displacement-jenkinson.1D',\n",
       " '/archive/bioinformatics/DLLab/AlexTreacher/data/20210825_ABIDE_CPAC/ABIDEI/derivatives/CPAC/output/cpac_cpac-custom-nuisance/sub-0050816_ses-1/func/sub-0050816_ses-1_task-rest_run-1_framewise-displacement-jenkinson.1D',\n",
       " '/archive/bioinformatics/DLLab/AlexTreacher/data/20210825_ABIDE_CPAC/ABIDEI/derivatives/CPAC/output/cpac_cpac-custom-nuisance/sub-0051142_ses-1/func/sub-0051142_ses-1_task-rest_run-1_framewise-displacement-jenkinson.1D',\n",
       " '/archive/bioinformatics/DLLab/AlexTreacher/data/20210825_ABIDE_CPAC/ABIDEI/derivatives/CPAC/output/cpac_cpac-custom-nuisance/sub-0051021_ses-1/func/sub-0051021_ses-1_task-rest_run-1_framewise-displacement-jenkinson.1D',\n",
       " '/archive/bioinformatics/DLLab/AlexTreacher/data/20210825_ABIDE_CPAC/ABIDEI/derivatives/CPAC/output/cpac_cpac-custom-nuisance/sub-0050826_ses-1/func/sub-0050826_ses-1_task-rest_run-1_framewise-displacement-jenkinson.1D',\n",
       " '/archive/bioinformatics/DLLab/AlexTreacher/data/20210825_ABIDE_CPAC/ABIDEI/derivatives/CPAC/output/cpac_cpac-custom-nuisance/sub-0051491_ses-1/func/sub-0051491_ses-1_task-rest_run-1_framewise-displacement-jenkinson.1D',\n",
       " '/archive/bioinformatics/DLLab/AlexTreacher/data/20210825_ABIDE_CPAC/ABIDEI/derivatives/CPAC/output/cpac_cpac-custom-nuisance/sub-0051028_ses-1/func/sub-0051028_ses-1_task-rest_run-1_framewise-displacement-jenkinson.1D',\n",
       " '/archive/bioinformatics/DLLab/AlexTreacher/data/20210825_ABIDE_CPAC/ABIDEI/derivatives/CPAC/output/cpac_cpac-custom-nuisance/sub-0050452_ses-1/func/sub-0050452_ses-1_task-rest_run-1_framewise-displacement-jenkinson.1D',\n",
       " '/archive/bioinformatics/DLLab/AlexTreacher/data/20210825_ABIDE_CPAC/ABIDEI/derivatives/CPAC/output/cpac_cpac-custom-nuisance/sub-0050388_ses-1/func/sub-0050388_ses-1_task-rest_run-1_framewise-displacement-jenkinson.1D',\n",
       " '/archive/bioinformatics/DLLab/AlexTreacher/data/20210825_ABIDE_CPAC/ABIDEI/derivatives/CPAC/output/cpac_cpac-custom-nuisance/sub-0050022_ses-1/func/sub-0050022_ses-1_task-rest_run-1_framewise-displacement-jenkinson.1D',\n",
       " '/archive/bioinformatics/DLLab/AlexTreacher/data/20210825_ABIDE_CPAC/ABIDEI/derivatives/CPAC/output/cpac_cpac-custom-nuisance/sub-0050461_ses-1/func/sub-0050461_ses-1_task-rest_run-1_framewise-displacement-jenkinson.1D',\n",
       " '/archive/bioinformatics/DLLab/AlexTreacher/data/20210825_ABIDE_CPAC/ABIDEI/derivatives/CPAC/output/cpac_cpac-custom-nuisance/sub-0051585_ses-1/func/sub-0051585_ses-1_task-rest_run-1_framewise-displacement-jenkinson.1D',\n",
       " '/archive/bioinformatics/DLLab/AlexTreacher/data/20210825_ABIDE_CPAC/ABIDEI/derivatives/CPAC/output/cpac_cpac-custom-nuisance/sub-0051067_ses-1/func/sub-0051067_ses-1_task-rest_run-1_framewise-displacement-jenkinson.1D',\n",
       " '/archive/bioinformatics/DLLab/AlexTreacher/data/20210825_ABIDE_CPAC/ABIDEI/derivatives/CPAC/output/cpac_cpac-custom-nuisance/sub-0050133_ses-1/func/sub-0050133_ses-1_task-rest_run-1_framewise-displacement-jenkinson.1D',\n",
       " '/archive/bioinformatics/DLLab/AlexTreacher/data/20210825_ABIDE_CPAC/ABIDEI/derivatives/CPAC/output/cpac_cpac-custom-nuisance/sub-0051489_ses-1/func/sub-0051489_ses-1_task-rest_run-1_framewise-displacement-jenkinson.1D',\n",
       " '/archive/bioinformatics/DLLab/AlexTreacher/data/20210825_ABIDE_CPAC/ABIDEI/derivatives/CPAC/output/cpac_cpac-custom-nuisance/sub-0051122_ses-1/func/sub-0051122_ses-1_task-rest_run-1_framewise-displacement-jenkinson.1D',\n",
       " '/archive/bioinformatics/DLLab/AlexTreacher/data/20210825_ABIDE_CPAC/ABIDEI/derivatives/CPAC/output/cpac_cpac-custom-nuisance/sub-0051280_ses-1/func/sub-0051280_ses-1_task-rest_run-1_framewise-displacement-jenkinson.1D',\n",
       " '/archive/bioinformatics/DLLab/AlexTreacher/data/20210825_ABIDE_CPAC/ABIDEI/derivatives/CPAC/output/cpac_cpac-custom-nuisance/sub-0051466_ses-1/func/sub-0051466_ses-1_task-rest_run-1_framewise-displacement-jenkinson.1D',\n",
       " '/archive/bioinformatics/DLLab/AlexTreacher/data/20210825_ABIDE_CPAC/ABIDEI/derivatives/CPAC/output/cpac_cpac-custom-nuisance/sub-0050252_ses-1/func/sub-0050252_ses-1_task-rest_run-1_framewise-displacement-jenkinson.1D',\n",
       " '/archive/bioinformatics/DLLab/AlexTreacher/data/20210825_ABIDE_CPAC/ABIDEI/derivatives/CPAC/output/cpac_cpac-custom-nuisance/sub-0051059_ses-1/func/sub-0051059_ses-1_task-rest_run-1_framewise-displacement-jenkinson.1D',\n",
       " '/archive/bioinformatics/DLLab/AlexTreacher/data/20210825_ABIDE_CPAC/ABIDEI/derivatives/CPAC/output/cpac_cpac-custom-nuisance/sub-0050563_ses-1/func/sub-0050563_ses-1_task-rest_run-1_framewise-displacement-jenkinson.1D',\n",
       " '/archive/bioinformatics/DLLab/AlexTreacher/data/20210825_ABIDE_CPAC/ABIDEI/derivatives/CPAC/output/cpac_cpac-custom-nuisance/sub-0050034_ses-1/func/sub-0050034_ses-1_task-rest_run-1_framewise-displacement-jenkinson.1D',\n",
       " '/archive/bioinformatics/DLLab/AlexTreacher/data/20210825_ABIDE_CPAC/ABIDEI/derivatives/CPAC/output/cpac_cpac-custom-nuisance/sub-0050972_ses-1/func/sub-0050972_ses-1_task-rest_run-1_framewise-displacement-jenkinson.1D',\n",
       " '/archive/bioinformatics/DLLab/AlexTreacher/data/20210825_ABIDE_CPAC/ABIDEI/derivatives/CPAC/output/cpac_cpac-custom-nuisance/sub-0051348_ses-1/func/sub-0051348_ses-1_task-rest_run-1_framewise-displacement-jenkinson.1D',\n",
       " '/archive/bioinformatics/DLLab/AlexTreacher/data/20210825_ABIDE_CPAC/ABIDEI/derivatives/CPAC/output/cpac_cpac-custom-nuisance/sub-0050319_ses-1/func/sub-0050319_ses-1_task-rest_run-1_framewise-displacement-jenkinson.1D',\n",
       " '/archive/bioinformatics/DLLab/AlexTreacher/data/20210825_ABIDE_CPAC/ABIDEI/derivatives/CPAC/output/cpac_cpac-custom-nuisance/sub-0050986_ses-1/func/sub-0050986_ses-1_task-rest_run-1_framewise-displacement-jenkinson.1D',\n",
       " '/archive/bioinformatics/DLLab/AlexTreacher/data/20210825_ABIDE_CPAC/ABIDEI/derivatives/CPAC/output/cpac_cpac-custom-nuisance/sub-0050237_ses-1/func/sub-0050237_ses-1_task-rest_run-1_framewise-displacement-jenkinson.1D',\n",
       " '/archive/bioinformatics/DLLab/AlexTreacher/data/20210825_ABIDE_CPAC/ABIDEI/derivatives/CPAC/output/cpac_cpac-custom-nuisance/sub-0051049_ses-1/func/sub-0051049_ses-1_task-rest_run-1_framewise-displacement-jenkinson.1D',\n",
       " '/archive/bioinformatics/DLLab/AlexTreacher/data/20210825_ABIDE_CPAC/ABIDEI/derivatives/CPAC/output/cpac_cpac-custom-nuisance/sub-0051098_ses-1/func/sub-0051098_ses-1_task-rest_run-1_framewise-displacement-jenkinson.1D',\n",
       " '/archive/bioinformatics/DLLab/AlexTreacher/data/20210825_ABIDE_CPAC/ABIDEI/derivatives/CPAC/output/cpac_cpac-custom-nuisance/sub-0050236_ses-1/func/sub-0050236_ses-1_task-rest_run-1_framewise-displacement-jenkinson.1D',\n",
       " '/archive/bioinformatics/DLLab/AlexTreacher/data/20210825_ABIDE_CPAC/ABIDEI/derivatives/CPAC/output/cpac_cpac-custom-nuisance/sub-0050119_ses-1/func/sub-0050119_ses-1_task-rest_run-1_framewise-displacement-jenkinson.1D',\n",
       " '/archive/bioinformatics/DLLab/AlexTreacher/data/20210825_ABIDE_CPAC/ABIDEI/derivatives/CPAC/output/cpac_cpac-custom-nuisance/sub-0050331_ses-1/func/sub-0050331_ses-1_task-rest_run-1_framewise-displacement-jenkinson.1D',\n",
       " '/archive/bioinformatics/DLLab/AlexTreacher/data/20210825_ABIDE_CPAC/ABIDEI/derivatives/CPAC/output/cpac_cpac-custom-nuisance/sub-0050322_ses-1/func/sub-0050322_ses-1_task-rest_run-1_framewise-displacement-jenkinson.1D',\n",
       " '/archive/bioinformatics/DLLab/AlexTreacher/data/20210825_ABIDE_CPAC/ABIDEI/derivatives/CPAC/output/cpac_cpac-custom-nuisance/sub-0050451_ses-1/func/sub-0050451_ses-1_task-rest_run-1_framewise-displacement-jenkinson.1D',\n",
       " '/archive/bioinformatics/DLLab/AlexTreacher/data/20210825_ABIDE_CPAC/ABIDEI/derivatives/CPAC/output/cpac_cpac-custom-nuisance/sub-0051458_ses-1/func/sub-0051458_ses-1_task-rest_run-1_framewise-displacement-jenkinson.1D',\n",
       " '/archive/bioinformatics/DLLab/AlexTreacher/data/20210825_ABIDE_CPAC/ABIDEI/derivatives/CPAC/output/cpac_cpac-custom-nuisance/sub-0050653_ses-1/func/sub-0050653_ses-1_task-rest_run-1_framewise-displacement-jenkinson.1D',\n",
       " '/archive/bioinformatics/DLLab/AlexTreacher/data/20210825_ABIDE_CPAC/ABIDEI/derivatives/CPAC/output/cpac_cpac-custom-nuisance/sub-0051093_ses-1/func/sub-0051093_ses-1_task-rest_run-1_framewise-displacement-jenkinson.1D',\n",
       " '/archive/bioinformatics/DLLab/AlexTreacher/data/20210825_ABIDE_CPAC/ABIDEI/derivatives/CPAC/output/cpac_cpac-custom-nuisance/sub-0050310_ses-1/func/sub-0050310_ses-1_task-rest_run-1_framewise-displacement-jenkinson.1D',\n",
       " '/archive/bioinformatics/DLLab/AlexTreacher/data/20210825_ABIDE_CPAC/ABIDEI/derivatives/CPAC/output/cpac_cpac-custom-nuisance/sub-0050512_ses-1/func/sub-0050512_ses-1_task-rest_run-1_framewise-displacement-jenkinson.1D',\n",
       " '/archive/bioinformatics/DLLab/AlexTreacher/data/20210825_ABIDE_CPAC/ABIDEI/derivatives/CPAC/output/cpac_cpac-custom-nuisance/sub-0051133_ses-1/func/sub-0051133_ses-1_task-rest_run-1_framewise-displacement-jenkinson.1D',\n",
       " '/archive/bioinformatics/DLLab/AlexTreacher/data/20210825_ABIDE_CPAC/ABIDEI/derivatives/CPAC/output/cpac_cpac-custom-nuisance/sub-0051211_ses-1/func/sub-0051211_ses-1_task-rest_run-1_framewise-displacement-jenkinson.1D',\n",
       " '/archive/bioinformatics/DLLab/AlexTreacher/data/20210825_ABIDE_CPAC/ABIDEI/derivatives/CPAC/output/cpac_cpac-custom-nuisance/sub-0050554_ses-1/func/sub-0050554_ses-1_task-rest_run-1_framewise-displacement-jenkinson.1D',\n",
       " '/archive/bioinformatics/DLLab/AlexTreacher/data/20210825_ABIDE_CPAC/ABIDEI/derivatives/CPAC/output/cpac_cpac-custom-nuisance/sub-0051464_ses-1/func/sub-0051464_ses-1_task-rest_run-1_framewise-displacement-jenkinson.1D',\n",
       " '/archive/bioinformatics/DLLab/AlexTreacher/data/20210825_ABIDE_CPAC/ABIDEI/derivatives/CPAC/output/cpac_cpac-custom-nuisance/sub-0051329_ses-1/func/sub-0051329_ses-1_task-rest_run-1_framewise-displacement-jenkinson.1D',\n",
       " '/archive/bioinformatics/DLLab/AlexTreacher/data/20210825_ABIDE_CPAC/ABIDEI/derivatives/CPAC/output/cpac_cpac-custom-nuisance/sub-0050280_ses-1/func/sub-0050280_ses-1_task-rest_run-1_framewise-displacement-jenkinson.1D',\n",
       " '/archive/bioinformatics/DLLab/AlexTreacher/data/20210825_ABIDE_CPAC/ABIDEI/derivatives/CPAC/output/cpac_cpac-custom-nuisance/sub-0050415_ses-1/func/sub-0050415_ses-1_task-rest_run-1_framewise-displacement-jenkinson.1D',\n",
       " '/archive/bioinformatics/DLLab/AlexTreacher/data/20210825_ABIDE_CPAC/ABIDEI/derivatives/CPAC/output/cpac_cpac-custom-nuisance/sub-0050121_ses-1/func/sub-0050121_ses-1_task-rest_run-1_framewise-displacement-jenkinson.1D',\n",
       " '/archive/bioinformatics/DLLab/AlexTreacher/data/20210825_ABIDE_CPAC/ABIDEI/derivatives/CPAC/output/cpac_cpac-custom-nuisance/sub-0050327_ses-1/func/sub-0050327_ses-1_task-rest_run-1_framewise-displacement-jenkinson.1D',\n",
       " '/archive/bioinformatics/DLLab/AlexTreacher/data/20210825_ABIDE_CPAC/ABIDEI/derivatives/CPAC/output/cpac_cpac-custom-nuisance/sub-0051039_ses-1/func/sub-0051039_ses-1_task-rest_run-1_framewise-displacement-jenkinson.1D',\n",
       " '/archive/bioinformatics/DLLab/AlexTreacher/data/20210825_ABIDE_CPAC/ABIDEI/derivatives/CPAC/output/cpac_cpac-custom-nuisance/sub-0051335_ses-1/func/sub-0051335_ses-1_task-rest_run-1_framewise-displacement-jenkinson.1D',\n",
       " '/archive/bioinformatics/DLLab/AlexTreacher/data/20210825_ABIDE_CPAC/ABIDEI/derivatives/CPAC/output/cpac_cpac-custom-nuisance/sub-0050658_ses-1/func/sub-0050658_ses-1_task-rest_run-1_framewise-displacement-jenkinson.1D',\n",
       " '/archive/bioinformatics/DLLab/AlexTreacher/data/20210825_ABIDE_CPAC/ABIDEI/derivatives/CPAC/output/cpac_cpac-custom-nuisance/sub-0050298_ses-1/func/sub-0050298_ses-1_task-rest_run-1_framewise-displacement-jenkinson.1D',\n",
       " '/archive/bioinformatics/DLLab/AlexTreacher/data/20210825_ABIDE_CPAC/ABIDEI/derivatives/CPAC/output/cpac_cpac-custom-nuisance/sub-0050484_ses-1/func/sub-0050484_ses-1_task-rest_run-1_framewise-displacement-jenkinson.1D',\n",
       " '/archive/bioinformatics/DLLab/AlexTreacher/data/20210825_ABIDE_CPAC/ABIDEI/derivatives/CPAC/output/cpac_cpac-custom-nuisance/sub-0051294_ses-1/func/sub-0051294_ses-1_task-rest_run-1_framewise-displacement-jenkinson.1D',\n",
       " '/archive/bioinformatics/DLLab/AlexTreacher/data/20210825_ABIDE_CPAC/ABIDEI/derivatives/CPAC/output/cpac_cpac-custom-nuisance/sub-0050116_ses-1/func/sub-0050116_ses-1_task-rest_run-1_framewise-displacement-jenkinson.1D',\n",
       " '/archive/bioinformatics/DLLab/AlexTreacher/data/20210825_ABIDE_CPAC/ABIDEI/derivatives/CPAC/output/cpac_cpac-custom-nuisance/sub-0050659_ses-1/func/sub-0050659_ses-1_task-rest_run-1_framewise-displacement-jenkinson.1D',\n",
       " '/archive/bioinformatics/DLLab/AlexTreacher/data/20210825_ABIDE_CPAC/ABIDEI/derivatives/CPAC/output/cpac_cpac-custom-nuisance/sub-0050104_ses-1/func/sub-0050104_ses-1_task-rest_run-1_framewise-displacement-jenkinson.1D',\n",
       " '/archive/bioinformatics/DLLab/AlexTreacher/data/20210825_ABIDE_CPAC/ABIDEI/derivatives/CPAC/output/cpac_cpac-custom-nuisance/sub-0050251_ses-1/func/sub-0050251_ses-1_task-rest_run-1_framewise-displacement-jenkinson.1D',\n",
       " '/archive/bioinformatics/DLLab/AlexTreacher/data/20210825_ABIDE_CPAC/ABIDEI/derivatives/CPAC/output/cpac_cpac-custom-nuisance/sub-0050661_ses-1/func/sub-0050661_ses-1_task-rest_run-1_framewise-displacement-jenkinson.1D',\n",
       " '/archive/bioinformatics/DLLab/AlexTreacher/data/20210825_ABIDE_CPAC/ABIDEI/derivatives/CPAC/output/cpac_cpac-custom-nuisance/sub-0050791_ses-1/func/sub-0050791_ses-1_task-rest_run-1_framewise-displacement-jenkinson.1D',\n",
       " '/archive/bioinformatics/DLLab/AlexTreacher/data/20210825_ABIDE_CPAC/ABIDEI/derivatives/CPAC/output/cpac_cpac-custom-nuisance/sub-0050454_ses-1/func/sub-0050454_ses-1_task-rest_run-1_framewise-displacement-jenkinson.1D',\n",
       " '/archive/bioinformatics/DLLab/AlexTreacher/data/20210825_ABIDE_CPAC/ABIDEI/derivatives/CPAC/output/cpac_cpac-custom-nuisance/sub-0051238_ses-1/func/sub-0051238_ses-1_task-rest_run-1_framewise-displacement-jenkinson.1D',\n",
       " '/archive/bioinformatics/DLLab/AlexTreacher/data/20210825_ABIDE_CPAC/ABIDEI/derivatives/CPAC/output/cpac_cpac-custom-nuisance/sub-0050682_ses-1/func/sub-0050682_ses-1_task-rest_run-1_framewise-displacement-jenkinson.1D',\n",
       " '/archive/bioinformatics/DLLab/AlexTreacher/data/20210825_ABIDE_CPAC/ABIDEI/derivatives/CPAC/output/cpac_cpac-custom-nuisance/sub-0050433_ses-1/func/sub-0050433_ses-1_task-rest_run-1_framewise-displacement-jenkinson.1D',\n",
       " '/archive/bioinformatics/DLLab/AlexTreacher/data/20210825_ABIDE_CPAC/ABIDEI/derivatives/CPAC/output/cpac_cpac-custom-nuisance/sub-0050302_ses-1/func/sub-0050302_ses-1_task-rest_run-1_framewise-displacement-jenkinson.1D',\n",
       " '/archive/bioinformatics/DLLab/AlexTreacher/data/20210825_ABIDE_CPAC/ABIDEI/derivatives/CPAC/output/cpac_cpac-custom-nuisance/sub-0050736_ses-1/func/sub-0050736_ses-1_task-rest_run-1_framewise-displacement-jenkinson.1D',\n",
       " '/archive/bioinformatics/DLLab/AlexTreacher/data/20210825_ABIDE_CPAC/ABIDEI/derivatives/CPAC/output/cpac_cpac-custom-nuisance/sub-0050323_ses-1/func/sub-0050323_ses-1_task-rest_run-1_framewise-displacement-jenkinson.1D',\n",
       " '/archive/bioinformatics/DLLab/AlexTreacher/data/20210825_ABIDE_CPAC/ABIDEI/derivatives/CPAC/output/cpac_cpac-custom-nuisance/sub-0050785_ses-1/func/sub-0050785_ses-1_task-rest_run-1_framewise-displacement-jenkinson.1D',\n",
       " '/archive/bioinformatics/DLLab/AlexTreacher/data/20210825_ABIDE_CPAC/ABIDEI/derivatives/CPAC/output/cpac_cpac-custom-nuisance/sub-0050809_ses-1/func/sub-0050809_ses-1_task-rest_run-1_framewise-displacement-jenkinson.1D',\n",
       " '/archive/bioinformatics/DLLab/AlexTreacher/data/20210825_ABIDE_CPAC/ABIDEI/derivatives/CPAC/output/cpac_cpac-custom-nuisance/sub-0050386_ses-1/func/sub-0050386_ses-1_task-rest_run-1_framewise-displacement-jenkinson.1D',\n",
       " '/archive/bioinformatics/DLLab/AlexTreacher/data/20210825_ABIDE_CPAC/ABIDEI/derivatives/CPAC/output/cpac_cpac-custom-nuisance/sub-0051054_ses-1/func/sub-0051054_ses-1_task-rest_run-1_framewise-displacement-jenkinson.1D',\n",
       " '/archive/bioinformatics/DLLab/AlexTreacher/data/20210825_ABIDE_CPAC/ABIDEI/derivatives/CPAC/output/cpac_cpac-custom-nuisance/sub-0050269_ses-1/func/sub-0050269_ses-1_task-rest_run-1_framewise-displacement-jenkinson.1D',\n",
       " '/archive/bioinformatics/DLLab/AlexTreacher/data/20210825_ABIDE_CPAC/ABIDEI/derivatives/CPAC/output/cpac_cpac-custom-nuisance/sub-0051008_ses-1/func/sub-0051008_ses-1_task-rest_run-1_framewise-displacement-jenkinson.1D',\n",
       " '/archive/bioinformatics/DLLab/AlexTreacher/data/20210825_ABIDE_CPAC/ABIDEI/derivatives/CPAC/output/cpac_cpac-custom-nuisance/sub-0050513_ses-1/func/sub-0050513_ses-1_task-rest_run-1_framewise-displacement-jenkinson.1D',\n",
       " '/archive/bioinformatics/DLLab/AlexTreacher/data/20210825_ABIDE_CPAC/ABIDEI/derivatives/CPAC/output/cpac_cpac-custom-nuisance/sub-0051070_ses-1/func/sub-0051070_ses-1_task-rest_run-1_framewise-displacement-jenkinson.1D',\n",
       " '/archive/bioinformatics/DLLab/AlexTreacher/data/20210825_ABIDE_CPAC/ABIDEI/derivatives/CPAC/output/cpac_cpac-custom-nuisance/sub-0051332_ses-1/func/sub-0051332_ses-1_task-rest_run-1_framewise-displacement-jenkinson.1D',\n",
       " '/archive/bioinformatics/DLLab/AlexTreacher/data/20210825_ABIDE_CPAC/ABIDEI/derivatives/CPAC/output/cpac_cpac-custom-nuisance/sub-0050343_ses-1/func/sub-0050343_ses-1_task-rest_run-1_framewise-displacement-jenkinson.1D',\n",
       " '/archive/bioinformatics/DLLab/AlexTreacher/data/20210825_ABIDE_CPAC/ABIDEI/derivatives/CPAC/output/cpac_cpac-custom-nuisance/sub-0050786_ses-1/func/sub-0050786_ses-1_task-rest_run-1_framewise-displacement-jenkinson.1D',\n",
       " '/archive/bioinformatics/DLLab/AlexTreacher/data/20210825_ABIDE_CPAC/ABIDEI/derivatives/CPAC/output/cpac_cpac-custom-nuisance/sub-0050959_ses-1/func/sub-0050959_ses-1_task-rest_run-1_framewise-displacement-jenkinson.1D',\n",
       " '/archive/bioinformatics/DLLab/AlexTreacher/data/20210825_ABIDE_CPAC/ABIDEI/derivatives/CPAC/output/cpac_cpac-custom-nuisance/sub-0050568_ses-1/func/sub-0050568_ses-1_task-rest_run-1_framewise-displacement-jenkinson.1D',\n",
       " '/archive/bioinformatics/DLLab/AlexTreacher/data/20210825_ABIDE_CPAC/ABIDEI/derivatives/CPAC/output/cpac_cpac-custom-nuisance/sub-0050656_ses-1/func/sub-0050656_ses-1_task-rest_run-1_framewise-displacement-jenkinson.1D',\n",
       " '/archive/bioinformatics/DLLab/AlexTreacher/data/20210825_ABIDE_CPAC/ABIDEI/derivatives/CPAC/output/cpac_cpac-custom-nuisance/sub-0051014_ses-1/func/sub-0051014_ses-1_task-rest_run-1_framewise-displacement-jenkinson.1D',\n",
       " '/archive/bioinformatics/DLLab/AlexTreacher/data/20210825_ABIDE_CPAC/ABIDEI/derivatives/CPAC/output/cpac_cpac-custom-nuisance/sub-0050047_ses-1/func/sub-0050047_ses-1_task-rest_run-1_framewise-displacement-jenkinson.1D',\n",
       " '/archive/bioinformatics/DLLab/AlexTreacher/data/20210825_ABIDE_CPAC/ABIDEI/derivatives/CPAC/output/cpac_cpac-custom-nuisance/sub-0051217_ses-1/func/sub-0051217_ses-1_task-rest_run-1_framewise-displacement-jenkinson.1D',\n",
       " '/archive/bioinformatics/DLLab/AlexTreacher/data/20210825_ABIDE_CPAC/ABIDEI/derivatives/CPAC/output/cpac_cpac-custom-nuisance/sub-0051113_ses-1/func/sub-0051113_ses-1_task-rest_run-1_framewise-displacement-jenkinson.1D',\n",
       " '/archive/bioinformatics/DLLab/AlexTreacher/data/20210825_ABIDE_CPAC/ABIDEI/derivatives/CPAC/output/cpac_cpac-custom-nuisance/sub-0050976_ses-1/func/sub-0050976_ses-1_task-rest_run-1_framewise-displacement-jenkinson.1D',\n",
       " '/archive/bioinformatics/DLLab/AlexTreacher/data/20210825_ABIDE_CPAC/ABIDEI/derivatives/CPAC/output/cpac_cpac-custom-nuisance/sub-0050974_ses-1/func/sub-0050974_ses-1_task-rest_run-1_framewise-displacement-jenkinson.1D',\n",
       " '/archive/bioinformatics/DLLab/AlexTreacher/data/20210825_ABIDE_CPAC/ABIDEI/derivatives/CPAC/output/cpac_cpac-custom-nuisance/sub-0050029_ses-1/func/sub-0050029_ses-1_task-rest_run-1_framewise-displacement-jenkinson.1D',\n",
       " '/archive/bioinformatics/DLLab/AlexTreacher/data/20210825_ABIDE_CPAC/ABIDEI/derivatives/CPAC/output/cpac_cpac-custom-nuisance/sub-0050102_ses-1/func/sub-0050102_ses-1_task-rest_run-1_framewise-displacement-jenkinson.1D',\n",
       " '/archive/bioinformatics/DLLab/AlexTreacher/data/20210825_ABIDE_CPAC/ABIDEI/derivatives/CPAC/output/cpac_cpac-custom-nuisance/sub-0051099_ses-1/func/sub-0051099_ses-1_task-rest_run-1_framewise-displacement-jenkinson.1D',\n",
       " '/archive/bioinformatics/DLLab/AlexTreacher/data/20210825_ABIDE_CPAC/ABIDEI/derivatives/CPAC/output/cpac_cpac-custom-nuisance/sub-0051306_ses-1/func/sub-0051306_ses-1_task-rest_run-1_framewise-displacement-jenkinson.1D',\n",
       " '/archive/bioinformatics/DLLab/AlexTreacher/data/20210825_ABIDE_CPAC/ABIDEI/derivatives/CPAC/output/cpac_cpac-custom-nuisance/sub-0050272_ses-1/func/sub-0050272_ses-1_task-rest_run-1_framewise-displacement-jenkinson.1D',\n",
       " '/archive/bioinformatics/DLLab/AlexTreacher/data/20210825_ABIDE_CPAC/ABIDEI/derivatives/CPAC/output/cpac_cpac-custom-nuisance/sub-0050971_ses-1/func/sub-0050971_ses-1_task-rest_run-1_framewise-displacement-jenkinson.1D',\n",
       " '/archive/bioinformatics/DLLab/AlexTreacher/data/20210825_ABIDE_CPAC/ABIDEI/derivatives/CPAC/output/cpac_cpac-custom-nuisance/sub-0050142_ses-1/func/sub-0050142_ses-1_task-rest_run-1_framewise-displacement-jenkinson.1D',\n",
       " '/archive/bioinformatics/DLLab/AlexTreacher/data/20210825_ABIDE_CPAC/ABIDEI/derivatives/CPAC/output/cpac_cpac-custom-nuisance/sub-0050142_ses-1/func/sub-0050142_ses-1_task-rest_run-2_framewise-displacement-jenkinson.1D',\n",
       " '/archive/bioinformatics/DLLab/AlexTreacher/data/20210825_ABIDE_CPAC/ABIDEI/derivatives/CPAC/output/cpac_cpac-custom-nuisance/sub-0050142_ses-1/func/sub-0050142_ses-1_task-rest_run-3_framewise-displacement-jenkinson.1D',\n",
       " '/archive/bioinformatics/DLLab/AlexTreacher/data/20210825_ABIDE_CPAC/ABIDEI/derivatives/CPAC/output/cpac_cpac-custom-nuisance/sub-0050493_ses-1/func/sub-0050493_ses-1_task-rest_run-1_framewise-displacement-jenkinson.1D',\n",
       " '/archive/bioinformatics/DLLab/AlexTreacher/data/20210825_ABIDE_CPAC/ABIDEI/derivatives/CPAC/output/cpac_cpac-custom-nuisance/sub-0051487_ses-1/func/sub-0051487_ses-1_task-rest_run-1_framewise-displacement-jenkinson.1D',\n",
       " '/archive/bioinformatics/DLLab/AlexTreacher/data/20210825_ABIDE_CPAC/ABIDEI/derivatives/CPAC/output/cpac_cpac-custom-nuisance/sub-0051269_ses-1/func/sub-0051269_ses-1_task-rest_run-1_framewise-displacement-jenkinson.1D',\n",
       " '/archive/bioinformatics/DLLab/AlexTreacher/data/20210825_ABIDE_CPAC/ABIDEI/derivatives/CPAC/output/cpac_cpac-custom-nuisance/sub-0050367_ses-1/func/sub-0050367_ses-1_task-rest_run-1_framewise-displacement-jenkinson.1D',\n",
       " '/archive/bioinformatics/DLLab/AlexTreacher/data/20210825_ABIDE_CPAC/ABIDEI/derivatives/CPAC/output/cpac_cpac-custom-nuisance/sub-0051456_ses-1/func/sub-0051456_ses-1_task-rest_run-1_framewise-displacement-jenkinson.1D',\n",
       " '/archive/bioinformatics/DLLab/AlexTreacher/data/20210825_ABIDE_CPAC/ABIDEI/derivatives/CPAC/output/cpac_cpac-custom-nuisance/sub-0051351_ses-1/func/sub-0051351_ses-1_task-rest_run-1_framewise-displacement-jenkinson.1D',\n",
       " '/archive/bioinformatics/DLLab/AlexTreacher/data/20210825_ABIDE_CPAC/ABIDEI/derivatives/CPAC/output/cpac_cpac-custom-nuisance/sub-0051457_ses-1/func/sub-0051457_ses-1_task-rest_run-1_framewise-displacement-jenkinson.1D',\n",
       " '/archive/bioinformatics/DLLab/AlexTreacher/data/20210825_ABIDE_CPAC/ABIDEI/derivatives/CPAC/output/cpac_cpac-custom-nuisance/sub-0050726_ses-1/func/sub-0050726_ses-1_task-rest_run-1_framewise-displacement-jenkinson.1D',\n",
       " '/archive/bioinformatics/DLLab/AlexTreacher/data/20210825_ABIDE_CPAC/ABIDEI/derivatives/CPAC/output/cpac_cpac-custom-nuisance/sub-0051135_ses-1/func/sub-0051135_ses-1_task-rest_run-1_framewise-displacement-jenkinson.1D',\n",
       " '/archive/bioinformatics/DLLab/AlexTreacher/data/20210825_ABIDE_CPAC/ABIDEI/derivatives/CPAC/output/cpac_cpac-custom-nuisance/sub-0050789_ses-1/func/sub-0050789_ses-1_task-rest_run-1_framewise-displacement-jenkinson.1D',\n",
       " '/archive/bioinformatics/DLLab/AlexTreacher/data/20210825_ABIDE_CPAC/ABIDEI/derivatives/CPAC/output/cpac_cpac-custom-nuisance/sub-0050307_ses-1/func/sub-0050307_ses-1_task-rest_run-1_framewise-displacement-jenkinson.1D',\n",
       " '/archive/bioinformatics/DLLab/AlexTreacher/data/20210825_ABIDE_CPAC/ABIDEI/derivatives/CPAC/output/cpac_cpac-custom-nuisance/sub-0051115_ses-1/func/sub-0051115_ses-1_task-rest_run-1_framewise-displacement-jenkinson.1D',\n",
       " '/archive/bioinformatics/DLLab/AlexTreacher/data/20210825_ABIDE_CPAC/ABIDEI/derivatives/CPAC/output/cpac_cpac-custom-nuisance/sub-0050033_ses-1/func/sub-0050033_ses-1_task-rest_run-1_framewise-displacement-jenkinson.1D',\n",
       " '/archive/bioinformatics/DLLab/AlexTreacher/data/20210825_ABIDE_CPAC/ABIDEI/derivatives/CPAC/output/cpac_cpac-custom-nuisance/sub-0050103_ses-1/func/sub-0050103_ses-1_task-rest_run-1_framewise-displacement-jenkinson.1D',\n",
       " '/archive/bioinformatics/DLLab/AlexTreacher/data/20210825_ABIDE_CPAC/ABIDEI/derivatives/CPAC/output/cpac_cpac-custom-nuisance/sub-0050338_ses-1/func/sub-0050338_ses-1_task-rest_run-1_framewise-displacement-jenkinson.1D',\n",
       " '/archive/bioinformatics/DLLab/AlexTreacher/data/20210825_ABIDE_CPAC/ABIDEI/derivatives/CPAC/output/cpac_cpac-custom-nuisance/sub-0050518_ses-1/func/sub-0050518_ses-1_task-rest_run-1_framewise-displacement-jenkinson.1D',\n",
       " '/archive/bioinformatics/DLLab/AlexTreacher/data/20210825_ABIDE_CPAC/ABIDEI/derivatives/CPAC/output/cpac_cpac-custom-nuisance/sub-0050603_ses-1/func/sub-0050603_ses-1_task-rest_run-1_framewise-displacement-jenkinson.1D',\n",
       " '/archive/bioinformatics/DLLab/AlexTreacher/data/20210825_ABIDE_CPAC/ABIDEI/derivatives/CPAC/output/cpac_cpac-custom-nuisance/sub-0051032_ses-1/func/sub-0051032_ses-1_task-rest_run-1_framewise-displacement-jenkinson.1D',\n",
       " '/archive/bioinformatics/DLLab/AlexTreacher/data/20210825_ABIDE_CPAC/ABIDEI/derivatives/CPAC/output/cpac_cpac-custom-nuisance/sub-0050408_ses-1/func/sub-0050408_ses-1_task-rest_run-1_framewise-displacement-jenkinson.1D',\n",
       " '/archive/bioinformatics/DLLab/AlexTreacher/data/20210825_ABIDE_CPAC/ABIDEI/derivatives/CPAC/output/cpac_cpac-custom-nuisance/sub-0050376_ses-1/func/sub-0050376_ses-1_task-rest_run-1_framewise-displacement-jenkinson.1D',\n",
       " '/archive/bioinformatics/DLLab/AlexTreacher/data/20210825_ABIDE_CPAC/ABIDEI/derivatives/CPAC/output/cpac_cpac-custom-nuisance/sub-0050471_ses-1/func/sub-0050471_ses-1_task-rest_run-1_framewise-displacement-jenkinson.1D',\n",
       " '/archive/bioinformatics/DLLab/AlexTreacher/data/20210825_ABIDE_CPAC/ABIDEI/derivatives/CPAC/output/cpac_cpac-custom-nuisance/sub-0051150_ses-1/func/sub-0051150_ses-1_task-rest_run-1_framewise-displacement-jenkinson.1D',\n",
       " '/archive/bioinformatics/DLLab/AlexTreacher/data/20210825_ABIDE_CPAC/ABIDEI/derivatives/CPAC/output/cpac_cpac-custom-nuisance/sub-0050255_ses-1/func/sub-0050255_ses-1_task-rest_run-1_framewise-displacement-jenkinson.1D',\n",
       " '/archive/bioinformatics/DLLab/AlexTreacher/data/20210825_ABIDE_CPAC/ABIDEI/derivatives/CPAC/output/cpac_cpac-custom-nuisance/sub-0050340_ses-1/func/sub-0050340_ses-1_task-rest_run-1_framewise-displacement-jenkinson.1D',\n",
       " '/archive/bioinformatics/DLLab/AlexTreacher/data/20210825_ABIDE_CPAC/ABIDEI/derivatives/CPAC/output/cpac_cpac-custom-nuisance/sub-0050566_ses-1/func/sub-0050566_ses-1_task-rest_run-1_framewise-displacement-jenkinson.1D',\n",
       " '/archive/bioinformatics/DLLab/AlexTreacher/data/20210825_ABIDE_CPAC/ABIDEI/derivatives/CPAC/output/cpac_cpac-custom-nuisance/sub-0050037_ses-1/func/sub-0050037_ses-1_task-rest_run-1_framewise-displacement-jenkinson.1D',\n",
       " '/archive/bioinformatics/DLLab/AlexTreacher/data/20210825_ABIDE_CPAC/ABIDEI/derivatives/CPAC/output/cpac_cpac-custom-nuisance/sub-0050293_ses-1/func/sub-0050293_ses-1_task-rest_run-1_framewise-displacement-jenkinson.1D',\n",
       " '/archive/bioinformatics/DLLab/AlexTreacher/data/20210825_ABIDE_CPAC/ABIDEI/derivatives/CPAC/output/cpac_cpac-custom-nuisance/sub-0050017_ses-1/func/sub-0050017_ses-1_task-rest_run-1_framewise-displacement-jenkinson.1D',\n",
       " '/archive/bioinformatics/DLLab/AlexTreacher/data/20210825_ABIDE_CPAC/ABIDEI/derivatives/CPAC/output/cpac_cpac-custom-nuisance/sub-0051477_ses-1/func/sub-0051477_ses-1_task-rest_run-1_framewise-displacement-jenkinson.1D',\n",
       " '/archive/bioinformatics/DLLab/AlexTreacher/data/20210825_ABIDE_CPAC/ABIDEI/derivatives/CPAC/output/cpac_cpac-custom-nuisance/sub-0050358_ses-1/func/sub-0050358_ses-1_task-rest_run-1_framewise-displacement-jenkinson.1D',\n",
       " '/archive/bioinformatics/DLLab/AlexTreacher/data/20210825_ABIDE_CPAC/ABIDEI/derivatives/CPAC/output/cpac_cpac-custom-nuisance/sub-0050506_ses-1/func/sub-0050506_ses-1_task-rest_run-1_framewise-displacement-jenkinson.1D',\n",
       " '/archive/bioinformatics/DLLab/AlexTreacher/data/20210825_ABIDE_CPAC/ABIDEI/derivatives/CPAC/output/cpac_cpac-custom-nuisance/sub-0050111_ses-1/func/sub-0050111_ses-1_task-rest_run-1_framewise-displacement-jenkinson.1D',\n",
       " '/archive/bioinformatics/DLLab/AlexTreacher/data/20210825_ABIDE_CPAC/ABIDEI/derivatives/CPAC/output/cpac_cpac-custom-nuisance/sub-0051576_ses-1/func/sub-0051576_ses-1_task-rest_run-1_framewise-displacement-jenkinson.1D',\n",
       " '/archive/bioinformatics/DLLab/AlexTreacher/data/20210825_ABIDE_CPAC/ABIDEI/derivatives/CPAC/output/cpac_cpac-custom-nuisance/sub-0051309_ses-1/func/sub-0051309_ses-1_task-rest_run-1_framewise-displacement-jenkinson.1D',\n",
       " '/archive/bioinformatics/DLLab/AlexTreacher/data/20210825_ABIDE_CPAC/ABIDEI/derivatives/CPAC/output/cpac_cpac-custom-nuisance/sub-0051156_ses-1/func/sub-0051156_ses-1_task-rest_run-1_framewise-displacement-jenkinson.1D',\n",
       " '/archive/bioinformatics/DLLab/AlexTreacher/data/20210825_ABIDE_CPAC/ABIDEI/derivatives/CPAC/output/cpac_cpac-custom-nuisance/sub-0051085_ses-1/func/sub-0051085_ses-1_task-rest_run-1_framewise-displacement-jenkinson.1D',\n",
       " '/archive/bioinformatics/DLLab/AlexTreacher/data/20210825_ABIDE_CPAC/ABIDEI/derivatives/CPAC/output/cpac_cpac-custom-nuisance/sub-0051471_ses-1/func/sub-0051471_ses-1_task-rest_run-1_framewise-displacement-jenkinson.1D',\n",
       " '/archive/bioinformatics/DLLab/AlexTreacher/data/20210825_ABIDE_CPAC/ABIDEI/derivatives/CPAC/output/cpac_cpac-custom-nuisance/sub-0050738_ses-1/func/sub-0050738_ses-1_task-rest_run-1_framewise-displacement-jenkinson.1D',\n",
       " '/archive/bioinformatics/DLLab/AlexTreacher/data/20210825_ABIDE_CPAC/ABIDEI/derivatives/CPAC/output/cpac_cpac-custom-nuisance/sub-0050005_ses-1/func/sub-0050005_ses-1_task-rest_run-1_framewise-displacement-jenkinson.1D',\n",
       " '/archive/bioinformatics/DLLab/AlexTreacher/data/20210825_ABIDE_CPAC/ABIDEI/derivatives/CPAC/output/cpac_cpac-custom-nuisance/sub-0050520_ses-1/func/sub-0050520_ses-1_task-rest_run-1_framewise-displacement-jenkinson.1D',\n",
       " '/archive/bioinformatics/DLLab/AlexTreacher/data/20210825_ABIDE_CPAC/ABIDEI/derivatives/CPAC/output/cpac_cpac-custom-nuisance/sub-0050997_ses-1/func/sub-0050997_ses-1_task-rest_run-1_framewise-displacement-jenkinson.1D',\n",
       " '/archive/bioinformatics/DLLab/AlexTreacher/data/20210825_ABIDE_CPAC/ABIDEI/derivatives/CPAC/output/cpac_cpac-custom-nuisance/sub-0050562_ses-1/func/sub-0050562_ses-1_task-rest_run-1_framewise-displacement-jenkinson.1D',\n",
       " '/archive/bioinformatics/DLLab/AlexTreacher/data/20210825_ABIDE_CPAC/ABIDEI/derivatives/CPAC/output/cpac_cpac-custom-nuisance/sub-0050609_ses-1/func/sub-0050609_ses-1_task-rest_run-1_framewise-displacement-jenkinson.1D',\n",
       " '/archive/bioinformatics/DLLab/AlexTreacher/data/20210825_ABIDE_CPAC/ABIDEI/derivatives/CPAC/output/cpac_cpac-custom-nuisance/sub-0050020_ses-1/func/sub-0050020_ses-1_task-rest_run-1_framewise-displacement-jenkinson.1D',\n",
       " '/archive/bioinformatics/DLLab/AlexTreacher/data/20210825_ABIDE_CPAC/ABIDEI/derivatives/CPAC/output/cpac_cpac-custom-nuisance/sub-0050112_ses-1/func/sub-0050112_ses-1_task-rest_run-1_framewise-displacement-jenkinson.1D',\n",
       " '/archive/bioinformatics/DLLab/AlexTreacher/data/20210825_ABIDE_CPAC/ABIDEI/derivatives/CPAC/output/cpac_cpac-custom-nuisance/sub-0050359_ses-1/func/sub-0050359_ses-1_task-rest_run-1_framewise-displacement-jenkinson.1D',\n",
       " '/archive/bioinformatics/DLLab/AlexTreacher/data/20210825_ABIDE_CPAC/ABIDEI/derivatives/CPAC/output/cpac_cpac-custom-nuisance/sub-0050574_ses-1/func/sub-0050574_ses-1_task-rest_run-1_framewise-displacement-jenkinson.1D',\n",
       " '/archive/bioinformatics/DLLab/AlexTreacher/data/20210825_ABIDE_CPAC/ABIDEI/derivatives/CPAC/output/cpac_cpac-custom-nuisance/sub-0050032_ses-1/func/sub-0050032_ses-1_task-rest_run-1_framewise-displacement-jenkinson.1D',\n",
       " '/archive/bioinformatics/DLLab/AlexTreacher/data/20210825_ABIDE_CPAC/ABIDEI/derivatives/CPAC/output/cpac_cpac-custom-nuisance/sub-0050014_ses-1/func/sub-0050014_ses-1_task-rest_run-1_framewise-displacement-jenkinson.1D',\n",
       " '/archive/bioinformatics/DLLab/AlexTreacher/data/20210825_ABIDE_CPAC/ABIDEI/derivatives/CPAC/output/cpac_cpac-custom-nuisance/sub-0050801_ses-1/func/sub-0050801_ses-1_task-rest_run-1_framewise-displacement-jenkinson.1D',\n",
       " '/archive/bioinformatics/DLLab/AlexTreacher/data/20210825_ABIDE_CPAC/ABIDEI/derivatives/CPAC/output/cpac_cpac-custom-nuisance/sub-0051485_ses-1/func/sub-0051485_ses-1_task-rest_run-1_framewise-displacement-jenkinson.1D',\n",
       " '/archive/bioinformatics/DLLab/AlexTreacher/data/20210825_ABIDE_CPAC/ABIDEI/derivatives/CPAC/output/cpac_cpac-custom-nuisance/sub-0050170_ses-1/func/sub-0050170_ses-1_task-rest_run-1_framewise-displacement-jenkinson.1D',\n",
       " '/archive/bioinformatics/DLLab/AlexTreacher/data/20210825_ABIDE_CPAC/ABIDEI/derivatives/CPAC/output/cpac_cpac-custom-nuisance/sub-0050170_ses-1/func/sub-0050170_ses-1_task-rest_run-2_framewise-displacement-jenkinson.1D',\n",
       " '/archive/bioinformatics/DLLab/AlexTreacher/data/20210825_ABIDE_CPAC/ABIDEI/derivatives/CPAC/output/cpac_cpac-custom-nuisance/sub-0050170_ses-1/func/sub-0050170_ses-1_task-rest_run-3_framewise-displacement-jenkinson.1D',\n",
       " '/archive/bioinformatics/DLLab/AlexTreacher/data/20210825_ABIDE_CPAC/ABIDEI/derivatives/CPAC/output/cpac_cpac-custom-nuisance/sub-0050977_ses-1/func/sub-0050977_ses-1_task-rest_run-1_framewise-displacement-jenkinson.1D',\n",
       " '/archive/bioinformatics/DLLab/AlexTreacher/data/20210825_ABIDE_CPAC/ABIDEI/derivatives/CPAC/output/cpac_cpac-custom-nuisance/sub-0051131_ses-1/func/sub-0051131_ses-1_task-rest_run-1_framewise-displacement-jenkinson.1D',\n",
       " '/archive/bioinformatics/DLLab/AlexTreacher/data/20210825_ABIDE_CPAC/ABIDEI/derivatives/CPAC/output/cpac_cpac-custom-nuisance/sub-0050109_ses-1/func/sub-0050109_ses-1_task-rest_run-1_framewise-displacement-jenkinson.1D',\n",
       " '/archive/bioinformatics/DLLab/AlexTreacher/data/20210825_ABIDE_CPAC/ABIDEI/derivatives/CPAC/output/cpac_cpac-custom-nuisance/sub-0050405_ses-1/func/sub-0050405_ses-1_task-rest_run-1_framewise-displacement-jenkinson.1D',\n",
       " '/archive/bioinformatics/DLLab/AlexTreacher/data/20210825_ABIDE_CPAC/ABIDEI/derivatives/CPAC/output/cpac_cpac-custom-nuisance/sub-0050373_ses-1/func/sub-0050373_ses-1_task-rest_run-1_framewise-displacement-jenkinson.1D',\n",
       " '/archive/bioinformatics/DLLab/AlexTreacher/data/20210825_ABIDE_CPAC/ABIDEI/derivatives/CPAC/output/cpac_cpac-custom-nuisance/sub-0050666_ses-1/func/sub-0050666_ses-1_task-rest_run-1_framewise-displacement-jenkinson.1D',\n",
       " '/archive/bioinformatics/DLLab/AlexTreacher/data/20210825_ABIDE_CPAC/ABIDEI/derivatives/CPAC/output/cpac_cpac-custom-nuisance/sub-0050624_ses-1/func/sub-0050624_ses-1_task-rest_run-1_framewise-displacement-jenkinson.1D',\n",
       " '/archive/bioinformatics/DLLab/AlexTreacher/data/20210825_ABIDE_CPAC/ABIDEI/derivatives/CPAC/output/cpac_cpac-custom-nuisance/sub-0051223_ses-1/func/sub-0051223_ses-1_task-rest_run-1_framewise-displacement-jenkinson.1D',\n",
       " '/archive/bioinformatics/DLLab/AlexTreacher/data/20210825_ABIDE_CPAC/ABIDEI/derivatives/CPAC/output/cpac_cpac-custom-nuisance/sub-0051281_ses-1/func/sub-0051281_ses-1_task-rest_run-1_framewise-displacement-jenkinson.1D',\n",
       " '/archive/bioinformatics/DLLab/AlexTreacher/data/20210825_ABIDE_CPAC/ABIDEI/derivatives/CPAC/output/cpac_cpac-custom-nuisance/sub-0051057_ses-1/func/sub-0051057_ses-1_task-rest_run-1_framewise-displacement-jenkinson.1D',\n",
       " '/archive/bioinformatics/DLLab/AlexTreacher/data/20210825_ABIDE_CPAC/ABIDEI/derivatives/CPAC/output/cpac_cpac-custom-nuisance/sub-0050978_ses-1/func/sub-0050978_ses-1_task-rest_run-1_framewise-displacement-jenkinson.1D',\n",
       " '/archive/bioinformatics/DLLab/AlexTreacher/data/20210825_ABIDE_CPAC/ABIDEI/derivatives/CPAC/output/cpac_cpac-custom-nuisance/sub-0050266_ses-1/func/sub-0050266_ses-1_task-rest_run-1_framewise-displacement-jenkinson.1D',\n",
       " '/archive/bioinformatics/DLLab/AlexTreacher/data/20210825_ABIDE_CPAC/ABIDEI/derivatives/CPAC/output/cpac_cpac-custom-nuisance/sub-0051007_ses-1/func/sub-0051007_ses-1_task-rest_run-1_framewise-displacement-jenkinson.1D',\n",
       " '/archive/bioinformatics/DLLab/AlexTreacher/data/20210825_ABIDE_CPAC/ABIDEI/derivatives/CPAC/output/cpac_cpac-custom-nuisance/sub-0050144_ses-1/func/sub-0050144_ses-1_task-rest_run-3_framewise-displacement-jenkinson.1D',\n",
       " '/archive/bioinformatics/DLLab/AlexTreacher/data/20210825_ABIDE_CPAC/ABIDEI/derivatives/CPAC/output/cpac_cpac-custom-nuisance/sub-0050144_ses-1/func/sub-0050144_ses-1_task-rest_run-2_framewise-displacement-jenkinson.1D',\n",
       " '/archive/bioinformatics/DLLab/AlexTreacher/data/20210825_ABIDE_CPAC/ABIDEI/derivatives/CPAC/output/cpac_cpac-custom-nuisance/sub-0050144_ses-1/func/sub-0050144_ses-1_task-rest_run-1_framewise-displacement-jenkinson.1D',\n",
       " '/archive/bioinformatics/DLLab/AlexTreacher/data/20210825_ABIDE_CPAC/ABIDEI/derivatives/CPAC/output/cpac_cpac-custom-nuisance/sub-0050118_ses-1/func/sub-0050118_ses-1_task-rest_run-1_framewise-displacement-jenkinson.1D',\n",
       " '/archive/bioinformatics/DLLab/AlexTreacher/data/20210825_ABIDE_CPAC/ABIDEI/derivatives/CPAC/output/cpac_cpac-custom-nuisance/sub-0051231_ses-1/func/sub-0051231_ses-1_task-rest_run-1_framewise-displacement-jenkinson.1D',\n",
       " '/archive/bioinformatics/DLLab/AlexTreacher/data/20210825_ABIDE_CPAC/ABIDEI/derivatives/CPAC/output/cpac_cpac-custom-nuisance/sub-0051051_ses-1/func/sub-0051051_ses-1_task-rest_run-1_framewise-displacement-jenkinson.1D',\n",
       " '/archive/bioinformatics/DLLab/AlexTreacher/data/20210825_ABIDE_CPAC/ABIDEI/derivatives/CPAC/output/cpac_cpac-custom-nuisance/sub-0050503_ses-1/func/sub-0050503_ses-1_task-rest_run-1_framewise-displacement-jenkinson.1D',\n",
       " '/archive/bioinformatics/DLLab/AlexTreacher/data/20210825_ABIDE_CPAC/ABIDEI/derivatives/CPAC/output/cpac_cpac-custom-nuisance/sub-0050619_ses-1/func/sub-0050619_ses-1_task-rest_run-1_framewise-displacement-jenkinson.1D',\n",
       " '/archive/bioinformatics/DLLab/AlexTreacher/data/20210825_ABIDE_CPAC/ABIDEI/derivatives/CPAC/output/cpac_cpac-custom-nuisance/sub-0050456_ses-1/func/sub-0050456_ses-1_task-rest_run-1_framewise-displacement-jenkinson.1D',\n",
       " '/archive/bioinformatics/DLLab/AlexTreacher/data/20210825_ABIDE_CPAC/ABIDEI/derivatives/CPAC/output/cpac_cpac-custom-nuisance/sub-0050524_ses-1/func/sub-0050524_ses-1_task-rest_run-1_framewise-displacement-jenkinson.1D',\n",
       " '/archive/bioinformatics/DLLab/AlexTreacher/data/20210825_ABIDE_CPAC/ABIDEI/derivatives/CPAC/output/cpac_cpac-custom-nuisance/sub-0051038_ses-1/func/sub-0051038_ses-1_task-rest_run-1_framewise-displacement-jenkinson.1D',\n",
       " '/archive/bioinformatics/DLLab/AlexTreacher/data/20210825_ABIDE_CPAC/ABIDEI/derivatives/CPAC/output/cpac_cpac-custom-nuisance/sub-0050369_ses-1/func/sub-0050369_ses-1_task-rest_run-1_framewise-displacement-jenkinson.1D',\n",
       " '/archive/bioinformatics/DLLab/AlexTreacher/data/20210825_ABIDE_CPAC/ABIDEI/derivatives/CPAC/output/cpac_cpac-custom-nuisance/sub-0050132_ses-1/func/sub-0050132_ses-1_task-rest_run-1_framewise-displacement-jenkinson.1D',\n",
       " '/archive/bioinformatics/DLLab/AlexTreacher/data/20210825_ABIDE_CPAC/ABIDEI/derivatives/CPAC/output/cpac_cpac-custom-nuisance/sub-0050050_ses-1/func/sub-0050050_ses-1_task-rest_run-1_framewise-displacement-jenkinson.1D',\n",
       " '/archive/bioinformatics/DLLab/AlexTreacher/data/20210825_ABIDE_CPAC/ABIDEI/derivatives/CPAC/output/cpac_cpac-custom-nuisance/sub-0050728_ses-1/func/sub-0050728_ses-1_task-rest_run-1_framewise-displacement-jenkinson.1D',\n",
       " '/archive/bioinformatics/DLLab/AlexTreacher/data/20210825_ABIDE_CPAC/ABIDEI/derivatives/CPAC/output/cpac_cpac-custom-nuisance/sub-0050486_ses-1/func/sub-0050486_ses-1_task-rest_run-1_framewise-displacement-jenkinson.1D',\n",
       " '/archive/bioinformatics/DLLab/AlexTreacher/data/20210825_ABIDE_CPAC/ABIDEI/derivatives/CPAC/output/cpac_cpac-custom-nuisance/sub-0050337_ses-1/func/sub-0050337_ses-1_task-rest_run-1_framewise-displacement-jenkinson.1D',\n",
       " '/archive/bioinformatics/DLLab/AlexTreacher/data/20210825_ABIDE_CPAC/ABIDEI/derivatives/CPAC/output/cpac_cpac-custom-nuisance/sub-0050559_ses-1/func/sub-0050559_ses-1_task-rest_run-1_framewise-displacement-jenkinson.1D',\n",
       " '/archive/bioinformatics/DLLab/AlexTreacher/data/20210825_ABIDE_CPAC/ABIDEI/derivatives/CPAC/output/cpac_cpac-custom-nuisance/sub-0050432_ses-1/func/sub-0050432_ses-1_task-rest_run-1_framewise-displacement-jenkinson.1D',\n",
       " '/archive/bioinformatics/DLLab/AlexTreacher/data/20210825_ABIDE_CPAC/ABIDEI/derivatives/CPAC/output/cpac_cpac-custom-nuisance/sub-0050268_ses-1/func/sub-0050268_ses-1_task-rest_run-1_framewise-displacement-jenkinson.1D',\n",
       " '/archive/bioinformatics/DLLab/AlexTreacher/data/20210825_ABIDE_CPAC/ABIDEI/derivatives/CPAC/output/cpac_cpac-custom-nuisance/sub-0050010_ses-1/func/sub-0050010_ses-1_task-rest_run-1_framewise-displacement-jenkinson.1D',\n",
       " '/archive/bioinformatics/DLLab/AlexTreacher/data/20210825_ABIDE_CPAC/ABIDEI/derivatives/CPAC/output/cpac_cpac-custom-nuisance/sub-0050423_ses-1/func/sub-0050423_ses-1_task-rest_run-1_framewise-displacement-jenkinson.1D',\n",
       " '/archive/bioinformatics/DLLab/AlexTreacher/data/20210825_ABIDE_CPAC/ABIDEI/derivatives/CPAC/output/cpac_cpac-custom-nuisance/sub-0050239_ses-1/func/sub-0050239_ses-1_task-rest_run-1_framewise-displacement-jenkinson.1D',\n",
       " '/archive/bioinformatics/DLLab/AlexTreacher/data/20210825_ABIDE_CPAC/ABIDEI/derivatives/CPAC/output/cpac_cpac-custom-nuisance/sub-0051041_ses-1/func/sub-0051041_ses-1_task-rest_run-1_framewise-displacement-jenkinson.1D',\n",
       " '/archive/bioinformatics/DLLab/AlexTreacher/data/20210825_ABIDE_CPAC/ABIDEI/derivatives/CPAC/output/cpac_cpac-custom-nuisance/sub-0050777_ses-1/func/sub-0050777_ses-1_task-rest_run-1_framewise-displacement-jenkinson.1D',\n",
       " '/archive/bioinformatics/DLLab/AlexTreacher/data/20210825_ABIDE_CPAC/ABIDEI/derivatives/CPAC/output/cpac_cpac-custom-nuisance/sub-0050248_ses-1/func/sub-0050248_ses-1_task-rest_run-1_framewise-displacement-jenkinson.1D',\n",
       " '/archive/bioinformatics/DLLab/AlexTreacher/data/20210825_ABIDE_CPAC/ABIDEI/derivatives/CPAC/output/cpac_cpac-custom-nuisance/sub-0051299_ses-1/func/sub-0051299_ses-1_task-rest_run-1_framewise-displacement-jenkinson.1D',\n",
       " '/archive/bioinformatics/DLLab/AlexTreacher/data/20210825_ABIDE_CPAC/ABIDEI/derivatives/CPAC/output/cpac_cpac-custom-nuisance/sub-0051132_ses-1/func/sub-0051132_ses-1_task-rest_run-1_framewise-displacement-jenkinson.1D',\n",
       " '/archive/bioinformatics/DLLab/AlexTreacher/data/20210825_ABIDE_CPAC/ABIDEI/derivatives/CPAC/output/cpac_cpac-custom-nuisance/sub-0050364_ses-1/func/sub-0050364_ses-1_task-rest_run-1_framewise-displacement-jenkinson.1D',\n",
       " '/archive/bioinformatics/DLLab/AlexTreacher/data/20210825_ABIDE_CPAC/ABIDEI/derivatives/CPAC/output/cpac_cpac-custom-nuisance/sub-0050755_ses-1/func/sub-0050755_ses-1_task-rest_run-1_framewise-displacement-jenkinson.1D',\n",
       " '/archive/bioinformatics/DLLab/AlexTreacher/data/20210825_ABIDE_CPAC/ABIDEI/derivatives/CPAC/output/cpac_cpac-custom-nuisance/sub-0050127_ses-1/func/sub-0050127_ses-1_task-rest_run-1_framewise-displacement-jenkinson.1D',\n",
       " '/archive/bioinformatics/DLLab/AlexTreacher/data/20210825_ABIDE_CPAC/ABIDEI/derivatives/CPAC/output/cpac_cpac-custom-nuisance/sub-0050737_ses-1/func/sub-0050737_ses-1_task-rest_run-1_framewise-displacement-jenkinson.1D',\n",
       " '/archive/bioinformatics/DLLab/AlexTreacher/data/20210825_ABIDE_CPAC/ABIDEI/derivatives/CPAC/output/cpac_cpac-custom-nuisance/sub-0051475_ses-1/func/sub-0051475_ses-1_task-rest_run-1_framewise-displacement-jenkinson.1D',\n",
       " '/archive/bioinformatics/DLLab/AlexTreacher/data/20210825_ABIDE_CPAC/ABIDEI/derivatives/CPAC/output/cpac_cpac-custom-nuisance/sub-0051339_ses-1/func/sub-0051339_ses-1_task-rest_run-1_framewise-displacement-jenkinson.1D',\n",
       " '/archive/bioinformatics/DLLab/AlexTreacher/data/20210825_ABIDE_CPAC/ABIDEI/derivatives/CPAC/output/cpac_cpac-custom-nuisance/sub-0051029_ses-1/func/sub-0051029_ses-1_task-rest_run-1_framewise-displacement-jenkinson.1D',\n",
       " '/archive/bioinformatics/DLLab/AlexTreacher/data/20210825_ABIDE_CPAC/ABIDEI/derivatives/CPAC/output/cpac_cpac-custom-nuisance/sub-0050558_ses-1/func/sub-0050558_ses-1_task-rest_run-1_framewise-displacement-jenkinson.1D',\n",
       " '/archive/bioinformatics/DLLab/AlexTreacher/data/20210825_ABIDE_CPAC/ABIDEI/derivatives/CPAC/output/cpac_cpac-custom-nuisance/sub-0050654_ses-1/func/sub-0050654_ses-1_task-rest_run-1_framewise-displacement-jenkinson.1D',\n",
       " '/archive/bioinformatics/DLLab/AlexTreacher/data/20210825_ABIDE_CPAC/ABIDEI/derivatives/CPAC/output/cpac_cpac-custom-nuisance/sub-0051227_ses-1/func/sub-0051227_ses-1_task-rest_run-1_framewise-displacement-jenkinson.1D',\n",
       " '/archive/bioinformatics/DLLab/AlexTreacher/data/20210825_ABIDE_CPAC/ABIDEI/derivatives/CPAC/output/cpac_cpac-custom-nuisance/sub-0050168_ses-1/func/sub-0050168_ses-1_task-rest_run-1_framewise-displacement-jenkinson.1D',\n",
       " '/archive/bioinformatics/DLLab/AlexTreacher/data/20210825_ABIDE_CPAC/ABIDEI/derivatives/CPAC/output/cpac_cpac-custom-nuisance/sub-0050168_ses-1/func/sub-0050168_ses-1_task-rest_run-3_framewise-displacement-jenkinson.1D',\n",
       " '/archive/bioinformatics/DLLab/AlexTreacher/data/20210825_ABIDE_CPAC/ABIDEI/derivatives/CPAC/output/cpac_cpac-custom-nuisance/sub-0050168_ses-1/func/sub-0050168_ses-1_task-rest_run-2_framewise-displacement-jenkinson.1D',\n",
       " '/archive/bioinformatics/DLLab/AlexTreacher/data/20210825_ABIDE_CPAC/ABIDEI/derivatives/CPAC/output/cpac_cpac-custom-nuisance/sub-0050380_ses-1/func/sub-0050380_ses-1_task-rest_run-1_framewise-displacement-jenkinson.1D',\n",
       " '/archive/bioinformatics/DLLab/AlexTreacher/data/20210825_ABIDE_CPAC/ABIDEI/derivatives/CPAC/output/cpac_cpac-custom-nuisance/sub-0050553_ses-1/func/sub-0050553_ses-1_task-rest_run-1_framewise-displacement-jenkinson.1D',\n",
       " '/archive/bioinformatics/DLLab/AlexTreacher/data/20210825_ABIDE_CPAC/ABIDEI/derivatives/CPAC/output/cpac_cpac-custom-nuisance/sub-0050263_ses-1/func/sub-0050263_ses-1_task-rest_run-1_framewise-displacement-jenkinson.1D',\n",
       " '/archive/bioinformatics/DLLab/AlexTreacher/data/20210825_ABIDE_CPAC/ABIDEI/derivatives/CPAC/output/cpac_cpac-custom-nuisance/sub-0050058_ses-1/func/sub-0050058_ses-1_task-rest_run-1_framewise-displacement-jenkinson.1D',\n",
       " '/archive/bioinformatics/DLLab/AlexTreacher/data/20210825_ABIDE_CPAC/ABIDEI/derivatives/CPAC/output/cpac_cpac-custom-nuisance/sub-0051266_ses-1/func/sub-0051266_ses-1_task-rest_run-1_framewise-displacement-jenkinson.1D',\n",
       " '/archive/bioinformatics/DLLab/AlexTreacher/data/20210825_ABIDE_CPAC/ABIDEI/derivatives/CPAC/output/cpac_cpac-custom-nuisance/sub-0051330_ses-1/func/sub-0051330_ses-1_task-rest_run-1_framewise-displacement-jenkinson.1D',\n",
       " '/archive/bioinformatics/DLLab/AlexTreacher/data/20210825_ABIDE_CPAC/ABIDEI/derivatives/CPAC/output/cpac_cpac-custom-nuisance/sub-0051484_ses-1/func/sub-0051484_ses-1_task-rest_run-1_framewise-displacement-jenkinson.1D',\n",
       " '/archive/bioinformatics/DLLab/AlexTreacher/data/20210825_ABIDE_CPAC/ABIDEI/derivatives/CPAC/output/cpac_cpac-custom-nuisance/sub-0051293_ses-1/func/sub-0051293_ses-1_task-rest_run-1_framewise-displacement-jenkinson.1D',\n",
       " '/archive/bioinformatics/DLLab/AlexTreacher/data/20210825_ABIDE_CPAC/ABIDEI/derivatives/CPAC/output/cpac_cpac-custom-nuisance/sub-0051221_ses-1/func/sub-0051221_ses-1_task-rest_run-1_framewise-displacement-jenkinson.1D',\n",
       " '/archive/bioinformatics/DLLab/AlexTreacher/data/20210825_ABIDE_CPAC/ABIDEI/derivatives/CPAC/output/cpac_cpac-custom-nuisance/sub-0051322_ses-1/func/sub-0051322_ses-1_task-rest_run-1_framewise-displacement-jenkinson.1D',\n",
       " '/archive/bioinformatics/DLLab/AlexTreacher/data/20210825_ABIDE_CPAC/ABIDEI/derivatives/CPAC/output/cpac_cpac-custom-nuisance/sub-0050150_ses-1/func/sub-0050150_ses-1_task-rest_run-2_framewise-displacement-jenkinson.1D',\n",
       " '/archive/bioinformatics/DLLab/AlexTreacher/data/20210825_ABIDE_CPAC/ABIDEI/derivatives/CPAC/output/cpac_cpac-custom-nuisance/sub-0050150_ses-1/func/sub-0050150_ses-1_task-rest_run-1_framewise-displacement-jenkinson.1D',\n",
       " '/archive/bioinformatics/DLLab/AlexTreacher/data/20210825_ABIDE_CPAC/ABIDEI/derivatives/CPAC/output/cpac_cpac-custom-nuisance/sub-0051251_ses-1/func/sub-0051251_ses-1_task-rest_run-1_framewise-displacement-jenkinson.1D',\n",
       " '/archive/bioinformatics/DLLab/AlexTreacher/data/20210825_ABIDE_CPAC/ABIDEI/derivatives/CPAC/output/cpac_cpac-custom-nuisance/sub-0051463_ses-1/func/sub-0051463_ses-1_task-rest_run-1_framewise-displacement-jenkinson.1D',\n",
       " '/archive/bioinformatics/DLLab/AlexTreacher/data/20210825_ABIDE_CPAC/ABIDEI/derivatives/CPAC/output/cpac_cpac-custom-nuisance/sub-0050530_ses-1/func/sub-0050530_ses-1_task-rest_run-1_framewise-displacement-jenkinson.1D',\n",
       " '/archive/bioinformatics/DLLab/AlexTreacher/data/20210825_ABIDE_CPAC/ABIDEI/derivatives/CPAC/output/cpac_cpac-custom-nuisance/sub-0050604_ses-1/func/sub-0050604_ses-1_task-rest_run-1_framewise-displacement-jenkinson.1D',\n",
       " '/archive/bioinformatics/DLLab/AlexTreacher/data/20210825_ABIDE_CPAC/ABIDEI/derivatives/CPAC/output/cpac_cpac-custom-nuisance/sub-0050751_ses-1/func/sub-0050751_ses-1_task-rest_run-1_framewise-displacement-jenkinson.1D',\n",
       " '/archive/bioinformatics/DLLab/AlexTreacher/data/20210825_ABIDE_CPAC/ABIDEI/derivatives/CPAC/output/cpac_cpac-custom-nuisance/sub-0051040_ses-1/func/sub-0051040_ses-1_task-rest_run-1_framewise-displacement-jenkinson.1D',\n",
       " '/archive/bioinformatics/DLLab/AlexTreacher/data/20210825_ABIDE_CPAC/ABIDEI/derivatives/CPAC/output/cpac_cpac-custom-nuisance/sub-0050957_ses-1/func/sub-0050957_ses-1_task-rest_run-1_framewise-displacement-jenkinson.1D',\n",
       " '/archive/bioinformatics/DLLab/AlexTreacher/data/20210825_ABIDE_CPAC/ABIDEI/derivatives/CPAC/output/cpac_cpac-custom-nuisance/sub-0050335_ses-1/func/sub-0050335_ses-1_task-rest_run-1_framewise-displacement-jenkinson.1D',\n",
       " '/archive/bioinformatics/DLLab/AlexTreacher/data/20210825_ABIDE_CPAC/ABIDEI/derivatives/CPAC/output/cpac_cpac-custom-nuisance/sub-0051352_ses-1/func/sub-0051352_ses-1_task-rest_run-1_framewise-displacement-jenkinson.1D',\n",
       " '/archive/bioinformatics/DLLab/AlexTreacher/data/20210825_ABIDE_CPAC/ABIDEI/derivatives/CPAC/output/cpac_cpac-custom-nuisance/sub-0050321_ses-1/func/sub-0050321_ses-1_task-rest_run-1_framewise-displacement-jenkinson.1D',\n",
       " '/archive/bioinformatics/DLLab/AlexTreacher/data/20210825_ABIDE_CPAC/ABIDEI/derivatives/CPAC/output/cpac_cpac-custom-nuisance/sub-0051116_ses-1/func/sub-0051116_ses-1_task-rest_run-1_framewise-displacement-jenkinson.1D',\n",
       " '/archive/bioinformatics/DLLab/AlexTreacher/data/20210825_ABIDE_CPAC/ABIDEI/derivatives/CPAC/output/cpac_cpac-custom-nuisance/sub-0050153_ses-1/func/sub-0050153_ses-1_task-rest_run-1_framewise-displacement-jenkinson.1D',\n",
       " '/archive/bioinformatics/DLLab/AlexTreacher/data/20210825_ABIDE_CPAC/ABIDEI/derivatives/CPAC/output/cpac_cpac-custom-nuisance/sub-0050153_ses-1/func/sub-0050153_ses-1_task-rest_run-3_framewise-displacement-jenkinson.1D',\n",
       " '/archive/bioinformatics/DLLab/AlexTreacher/data/20210825_ABIDE_CPAC/ABIDEI/derivatives/CPAC/output/cpac_cpac-custom-nuisance/sub-0050153_ses-1/func/sub-0050153_ses-1_task-rest_run-2_framewise-displacement-jenkinson.1D',\n",
       " '/archive/bioinformatics/DLLab/AlexTreacher/data/20210825_ABIDE_CPAC/ABIDEI/derivatives/CPAC/output/cpac_cpac-custom-nuisance/sub-0051274_ses-1/func/sub-0051274_ses-1_task-rest_run-1_framewise-displacement-jenkinson.1D',\n",
       " '/archive/bioinformatics/DLLab/AlexTreacher/data/20210825_ABIDE_CPAC/ABIDEI/derivatives/CPAC/output/cpac_cpac-custom-nuisance/sub-0050465_ses-1/func/sub-0050465_ses-1_task-rest_run-1_framewise-displacement-jenkinson.1D',\n",
       " '/archive/bioinformatics/DLLab/AlexTreacher/data/20210825_ABIDE_CPAC/ABIDEI/derivatives/CPAC/output/cpac_cpac-custom-nuisance/sub-0050439_ses-1/func/sub-0050439_ses-1_task-rest_run-1_framewise-displacement-jenkinson.1D',\n",
       " '/archive/bioinformatics/DLLab/AlexTreacher/data/20210825_ABIDE_CPAC/ABIDEI/derivatives/CPAC/output/cpac_cpac-custom-nuisance/sub-0050980_ses-1/func/sub-0050980_ses-1_task-rest_run-1_framewise-displacement-jenkinson.1D',\n",
       " '/archive/bioinformatics/DLLab/AlexTreacher/data/20210825_ABIDE_CPAC/ABIDEI/derivatives/CPAC/output/cpac_cpac-custom-nuisance/sub-0050954_ses-1/func/sub-0050954_ses-1_task-rest_run-1_framewise-displacement-jenkinson.1D',\n",
       " '/archive/bioinformatics/DLLab/AlexTreacher/data/20210825_ABIDE_CPAC/ABIDEI/derivatives/CPAC/output/cpac_cpac-custom-nuisance/sub-0051134_ses-1/func/sub-0051134_ses-1_task-rest_run-1_framewise-displacement-jenkinson.1D',\n",
       " '/archive/bioinformatics/DLLab/AlexTreacher/data/20210825_ABIDE_CPAC/ABIDEI/derivatives/CPAC/output/cpac_cpac-custom-nuisance/sub-0051087_ses-1/func/sub-0051087_ses-1_task-rest_run-1_framewise-displacement-jenkinson.1D',\n",
       " '/archive/bioinformatics/DLLab/AlexTreacher/data/20210825_ABIDE_CPAC/ABIDEI/derivatives/CPAC/output/cpac_cpac-custom-nuisance/sub-0050238_ses-1/func/sub-0050238_ses-1_task-rest_run-1_framewise-displacement-jenkinson.1D',\n",
       " '/archive/bioinformatics/DLLab/AlexTreacher/data/20210825_ABIDE_CPAC/ABIDEI/derivatives/CPAC/output/cpac_cpac-custom-nuisance/sub-0050802_ses-1/func/sub-0050802_ses-1_task-rest_run-1_framewise-displacement-jenkinson.1D',\n",
       " '/archive/bioinformatics/DLLab/AlexTreacher/data/20210825_ABIDE_CPAC/ABIDEI/derivatives/CPAC/output/cpac_cpac-custom-nuisance/sub-0050732_ses-1/func/sub-0050732_ses-1_task-rest_run-1_framewise-displacement-jenkinson.1D',\n",
       " '/archive/bioinformatics/DLLab/AlexTreacher/data/20210825_ABIDE_CPAC/ABIDEI/derivatives/CPAC/output/cpac_cpac-custom-nuisance/sub-0050686_ses-1/func/sub-0050686_ses-1_task-rest_run-1_framewise-displacement-jenkinson.1D',\n",
       " '/archive/bioinformatics/DLLab/AlexTreacher/data/20210825_ABIDE_CPAC/ABIDEI/derivatives/CPAC/output/cpac_cpac-custom-nuisance/sub-0050747_ses-1/func/sub-0050747_ses-1_task-rest_run-1_framewise-displacement-jenkinson.1D',\n",
       " '/archive/bioinformatics/DLLab/AlexTreacher/data/20210825_ABIDE_CPAC/ABIDEI/derivatives/CPAC/output/cpac_cpac-custom-nuisance/sub-0051090_ses-1/func/sub-0051090_ses-1_task-rest_run-1_framewise-displacement-jenkinson.1D',\n",
       " '/archive/bioinformatics/DLLab/AlexTreacher/data/20210825_ABIDE_CPAC/ABIDEI/derivatives/CPAC/output/cpac_cpac-custom-nuisance/sub-0050685_ses-1/func/sub-0050685_ses-1_task-rest_run-1_framewise-displacement-jenkinson.1D',\n",
       " '/archive/bioinformatics/DLLab/AlexTreacher/data/20210825_ABIDE_CPAC/ABIDEI/derivatives/CPAC/output/cpac_cpac-custom-nuisance/sub-0050529_ses-1/func/sub-0050529_ses-1_task-rest_run-1_framewise-displacement-jenkinson.1D',\n",
       " '/archive/bioinformatics/DLLab/AlexTreacher/data/20210825_ABIDE_CPAC/ABIDEI/derivatives/CPAC/output/cpac_cpac-custom-nuisance/sub-0050038_ses-1/func/sub-0050038_ses-1_task-rest_run-1_framewise-displacement-jenkinson.1D',\n",
       " '/archive/bioinformatics/DLLab/AlexTreacher/data/20210825_ABIDE_CPAC/ABIDEI/derivatives/CPAC/output/cpac_cpac-custom-nuisance/sub-0051138_ses-1/func/sub-0051138_ses-1_task-rest_run-1_framewise-displacement-jenkinson.1D',\n",
       " '/archive/bioinformatics/DLLab/AlexTreacher/data/20210825_ABIDE_CPAC/ABIDEI/derivatives/CPAC/output/cpac_cpac-custom-nuisance/sub-0050687_ses-1/func/sub-0050687_ses-1_task-rest_run-1_framewise-displacement-jenkinson.1D',\n",
       " '/archive/bioinformatics/DLLab/AlexTreacher/data/20210825_ABIDE_CPAC/ABIDEI/derivatives/CPAC/output/cpac_cpac-custom-nuisance/sub-0051202_ses-1/func/sub-0051202_ses-1_task-rest_run-1_framewise-displacement-jenkinson.1D',\n",
       " '/archive/bioinformatics/DLLab/AlexTreacher/data/20210825_ABIDE_CPAC/ABIDEI/derivatives/CPAC/output/cpac_cpac-custom-nuisance/sub-0050233_ses-1/func/sub-0050233_ses-1_task-rest_run-1_framewise-displacement-jenkinson.1D',\n",
       " '/archive/bioinformatics/DLLab/AlexTreacher/data/20210825_ABIDE_CPAC/ABIDEI/derivatives/CPAC/output/cpac_cpac-custom-nuisance/sub-0051354_ses-1/func/sub-0051354_ses-1_task-rest_run-1_framewise-displacement-jenkinson.1D',\n",
       " '/archive/bioinformatics/DLLab/AlexTreacher/data/20210825_ABIDE_CPAC/ABIDEI/derivatives/CPAC/output/cpac_cpac-custom-nuisance/sub-0050523_ses-1/func/sub-0050523_ses-1_task-rest_run-1_framewise-displacement-jenkinson.1D',\n",
       " '/archive/bioinformatics/DLLab/AlexTreacher/data/20210825_ABIDE_CPAC/ABIDEI/derivatives/CPAC/output/cpac_cpac-custom-nuisance/sub-0050749_ses-1/func/sub-0050749_ses-1_task-rest_run-1_framewise-displacement-jenkinson.1D',\n",
       " '/archive/bioinformatics/DLLab/AlexTreacher/data/20210825_ABIDE_CPAC/ABIDEI/derivatives/CPAC/output/cpac_cpac-custom-nuisance/sub-0051152_ses-1/func/sub-0051152_ses-1_task-rest_run-1_framewise-displacement-jenkinson.1D',\n",
       " '/archive/bioinformatics/DLLab/AlexTreacher/data/20210825_ABIDE_CPAC/ABIDEI/derivatives/CPAC/output/cpac_cpac-custom-nuisance/sub-0051273_ses-1/func/sub-0051273_ses-1_task-rest_run-1_framewise-displacement-jenkinson.1D',\n",
       " '/archive/bioinformatics/DLLab/AlexTreacher/data/20210825_ABIDE_CPAC/ABIDEI/derivatives/CPAC/output/cpac_cpac-custom-nuisance/sub-0050649_ses-1/func/sub-0050649_ses-1_task-rest_run-1_framewise-displacement-jenkinson.1D',\n",
       " '/archive/bioinformatics/DLLab/AlexTreacher/data/20210825_ABIDE_CPAC/ABIDEI/derivatives/CPAC/output/cpac_cpac-custom-nuisance/sub-0051151_ses-1/func/sub-0051151_ses-1_task-rest_run-1_framewise-displacement-jenkinson.1D',\n",
       " '/archive/bioinformatics/DLLab/AlexTreacher/data/20210825_ABIDE_CPAC/ABIDEI/derivatives/CPAC/output/cpac_cpac-custom-nuisance/sub-0050328_ses-1/func/sub-0050328_ses-1_task-rest_run-1_framewise-displacement-jenkinson.1D',\n",
       " '/archive/bioinformatics/DLLab/AlexTreacher/data/20210825_ABIDE_CPAC/ABIDEI/derivatives/CPAC/output/cpac_cpac-custom-nuisance/sub-0051278_ses-1/func/sub-0051278_ses-1_task-rest_run-1_framewise-displacement-jenkinson.1D',\n",
       " '/archive/bioinformatics/DLLab/AlexTreacher/data/20210825_ABIDE_CPAC/ABIDEI/derivatives/CPAC/output/cpac_cpac-custom-nuisance/sub-0050110_ses-1/func/sub-0050110_ses-1_task-rest_run-1_framewise-displacement-jenkinson.1D',\n",
       " '/archive/bioinformatics/DLLab/AlexTreacher/data/20210825_ABIDE_CPAC/ABIDEI/derivatives/CPAC/output/cpac_cpac-custom-nuisance/sub-0051036_ses-1/func/sub-0051036_ses-1_task-rest_run-1_framewise-displacement-jenkinson.1D',\n",
       " '/archive/bioinformatics/DLLab/AlexTreacher/data/20210825_ABIDE_CPAC/ABIDEI/derivatives/CPAC/output/cpac_cpac-custom-nuisance/sub-0051012_ses-1/func/sub-0051012_ses-1_task-rest_run-1_framewise-displacement-jenkinson.1D',\n",
       " '/archive/bioinformatics/DLLab/AlexTreacher/data/20210825_ABIDE_CPAC/ABIDEI/derivatives/CPAC/output/cpac_cpac-custom-nuisance/sub-0051368_ses-1/func/sub-0051368_ses-1_task-rest_run-1_framewise-displacement-jenkinson.1D',\n",
       " '/archive/bioinformatics/DLLab/AlexTreacher/data/20210825_ABIDE_CPAC/ABIDEI/derivatives/CPAC/output/cpac_cpac-custom-nuisance/sub-0050571_ses-1/func/sub-0050571_ses-1_task-rest_run-1_framewise-displacement-jenkinson.1D',\n",
       " '/archive/bioinformatics/DLLab/AlexTreacher/data/20210825_ABIDE_CPAC/ABIDEI/derivatives/CPAC/output/cpac_cpac-custom-nuisance/sub-0051326_ses-1/func/sub-0051326_ses-1_task-rest_run-1_framewise-displacement-jenkinson.1D',\n",
       " '/archive/bioinformatics/DLLab/AlexTreacher/data/20210825_ABIDE_CPAC/ABIDEI/derivatives/CPAC/output/cpac_cpac-custom-nuisance/sub-0051565_ses-1/func/sub-0051565_ses-1_task-rest_run-1_framewise-displacement-jenkinson.1D',\n",
       " '/archive/bioinformatics/DLLab/AlexTreacher/data/20210825_ABIDE_CPAC/ABIDEI/derivatives/CPAC/output/cpac_cpac-custom-nuisance/sub-0050753_ses-1/func/sub-0050753_ses-1_task-rest_run-1_framewise-displacement-jenkinson.1D',\n",
       " '/archive/bioinformatics/DLLab/AlexTreacher/data/20210825_ABIDE_CPAC/ABIDEI/derivatives/CPAC/output/cpac_cpac-custom-nuisance/sub-0051216_ses-1/func/sub-0051216_ses-1_task-rest_run-1_framewise-displacement-jenkinson.1D',\n",
       " '/archive/bioinformatics/DLLab/AlexTreacher/data/20210825_ABIDE_CPAC/ABIDEI/derivatives/CPAC/output/cpac_cpac-custom-nuisance/sub-0050472_ses-1/func/sub-0050472_ses-1_task-rest_run-1_framewise-displacement-jenkinson.1D',\n",
       " '/archive/bioinformatics/DLLab/AlexTreacher/data/20210825_ABIDE_CPAC/ABIDEI/derivatives/CPAC/output/cpac_cpac-custom-nuisance/sub-0050159_ses-1/func/sub-0050159_ses-1_task-rest_run-2_framewise-displacement-jenkinson.1D',\n",
       " '/archive/bioinformatics/DLLab/AlexTreacher/data/20210825_ABIDE_CPAC/ABIDEI/derivatives/CPAC/output/cpac_cpac-custom-nuisance/sub-0050159_ses-1/func/sub-0050159_ses-1_task-rest_run-1_framewise-displacement-jenkinson.1D',\n",
       " '/archive/bioinformatics/DLLab/AlexTreacher/data/20210825_ABIDE_CPAC/ABIDEI/derivatives/CPAC/output/cpac_cpac-custom-nuisance/sub-0050159_ses-1/func/sub-0050159_ses-1_task-rest_run-3_framewise-displacement-jenkinson.1D',\n",
       " '/archive/bioinformatics/DLLab/AlexTreacher/data/20210825_ABIDE_CPAC/ABIDEI/derivatives/CPAC/output/cpac_cpac-custom-nuisance/sub-0051473_ses-1/func/sub-0051473_ses-1_task-rest_run-1_framewise-displacement-jenkinson.1D',\n",
       " '/archive/bioinformatics/DLLab/AlexTreacher/data/20210825_ABIDE_CPAC/ABIDEI/derivatives/CPAC/output/cpac_cpac-custom-nuisance/sub-0050708_ses-1/func/sub-0050708_ses-1_task-rest_run-1_framewise-displacement-jenkinson.1D',\n",
       " '/archive/bioinformatics/DLLab/AlexTreacher/data/20210825_ABIDE_CPAC/ABIDEI/derivatives/CPAC/output/cpac_cpac-custom-nuisance/sub-0050707_ses-1/func/sub-0050707_ses-1_task-rest_run-1_framewise-displacement-jenkinson.1D',\n",
       " '/archive/bioinformatics/DLLab/AlexTreacher/data/20210825_ABIDE_CPAC/ABIDEI/derivatives/CPAC/output/cpac_cpac-custom-nuisance/sub-0051304_ses-1/func/sub-0051304_ses-1_task-rest_run-1_framewise-displacement-jenkinson.1D',\n",
       " '/archive/bioinformatics/DLLab/AlexTreacher/data/20210825_ABIDE_CPAC/ABIDEI/derivatives/CPAC/output/cpac_cpac-custom-nuisance/sub-0050968_ses-1/func/sub-0050968_ses-1_task-rest_run-1_framewise-displacement-jenkinson.1D',\n",
       " '/archive/bioinformatics/DLLab/AlexTreacher/data/20210825_ABIDE_CPAC/ABIDEI/derivatives/CPAC/output/cpac_cpac-custom-nuisance/sub-0050311_ses-1/func/sub-0050311_ses-1_task-rest_run-1_framewise-displacement-jenkinson.1D',\n",
       " '/archive/bioinformatics/DLLab/AlexTreacher/data/20210825_ABIDE_CPAC/ABIDEI/derivatives/CPAC/output/cpac_cpac-custom-nuisance/sub-0051052_ses-1/func/sub-0051052_ses-1_task-rest_run-1_framewise-displacement-jenkinson.1D',\n",
       " '/archive/bioinformatics/DLLab/AlexTreacher/data/20210825_ABIDE_CPAC/ABIDEI/derivatives/CPAC/output/cpac_cpac-custom-nuisance/sub-0050425_ses-1/func/sub-0050425_ses-1_task-rest_run-1_framewise-displacement-jenkinson.1D',\n",
       " '/archive/bioinformatics/DLLab/AlexTreacher/data/20210825_ABIDE_CPAC/ABIDEI/derivatives/CPAC/output/cpac_cpac-custom-nuisance/sub-0050418_ses-1/func/sub-0050418_ses-1_task-rest_run-1_framewise-displacement-jenkinson.1D',\n",
       " '/archive/bioinformatics/DLLab/AlexTreacher/data/20210825_ABIDE_CPAC/ABIDEI/derivatives/CPAC/output/cpac_cpac-custom-nuisance/sub-0051249_ses-1/func/sub-0051249_ses-1_task-rest_run-1_framewise-displacement-jenkinson.1D',\n",
       " '/archive/bioinformatics/DLLab/AlexTreacher/data/20210825_ABIDE_CPAC/ABIDEI/derivatives/CPAC/output/cpac_cpac-custom-nuisance/sub-0050012_ses-1/func/sub-0050012_ses-1_task-rest_run-1_framewise-displacement-jenkinson.1D',\n",
       " '/archive/bioinformatics/DLLab/AlexTreacher/data/20210825_ABIDE_CPAC/ABIDEI/derivatives/CPAC/output/cpac_cpac-custom-nuisance/sub-0050805_ses-1/func/sub-0050805_ses-1_task-rest_run-1_framewise-displacement-jenkinson.1D',\n",
       " '/archive/bioinformatics/DLLab/AlexTreacher/data/20210825_ABIDE_CPAC/ABIDEI/derivatives/CPAC/output/cpac_cpac-custom-nuisance/sub-0050426_ses-1/func/sub-0050426_ses-1_task-rest_run-1_framewise-displacement-jenkinson.1D',\n",
       " '/archive/bioinformatics/DLLab/AlexTreacher/data/20210825_ABIDE_CPAC/ABIDEI/derivatives/CPAC/output/cpac_cpac-custom-nuisance/sub-0051355_ses-1/func/sub-0051355_ses-1_task-rest_run-1_framewise-displacement-jenkinson.1D',\n",
       " '/archive/bioinformatics/DLLab/AlexTreacher/data/20210825_ABIDE_CPAC/ABIDEI/derivatives/CPAC/output/cpac_cpac-custom-nuisance/sub-0051571_ses-1/func/sub-0051571_ses-1_task-rest_run-1_framewise-displacement-jenkinson.1D',\n",
       " '/archive/bioinformatics/DLLab/AlexTreacher/data/20210825_ABIDE_CPAC/ABIDEI/derivatives/CPAC/output/cpac_cpac-custom-nuisance/sub-0050555_ses-1/func/sub-0050555_ses-1_task-rest_run-1_framewise-displacement-jenkinson.1D',\n",
       " '/archive/bioinformatics/DLLab/AlexTreacher/data/20210825_ABIDE_CPAC/ABIDEI/derivatives/CPAC/output/cpac_cpac-custom-nuisance/sub-0051114_ses-1/func/sub-0051114_ses-1_task-rest_run-1_framewise-displacement-jenkinson.1D',\n",
       " '/archive/bioinformatics/DLLab/AlexTreacher/data/20210825_ABIDE_CPAC/ABIDEI/derivatives/CPAC/output/cpac_cpac-custom-nuisance/sub-0050434_ses-1/func/sub-0050434_ses-1_task-rest_run-1_framewise-displacement-jenkinson.1D',\n",
       " '/archive/bioinformatics/DLLab/AlexTreacher/data/20210825_ABIDE_CPAC/ABIDEI/derivatives/CPAC/output/cpac_cpac-custom-nuisance/sub-0050616_ses-1/func/sub-0050616_ses-1_task-rest_run-1_framewise-displacement-jenkinson.1D',\n",
       " '/archive/bioinformatics/DLLab/AlexTreacher/data/20210825_ABIDE_CPAC/ABIDEI/derivatives/CPAC/output/cpac_cpac-custom-nuisance/sub-0050375_ses-1/func/sub-0050375_ses-1_task-rest_run-1_framewise-displacement-jenkinson.1D',\n",
       " '/archive/bioinformatics/DLLab/AlexTreacher/data/20210825_ABIDE_CPAC/ABIDEI/derivatives/CPAC/output/cpac_cpac-custom-nuisance/sub-0050788_ses-1/func/sub-0050788_ses-1_task-rest_run-1_framewise-displacement-jenkinson.1D',\n",
       " '/archive/bioinformatics/DLLab/AlexTreacher/data/20210825_ABIDE_CPAC/ABIDEI/derivatives/CPAC/output/cpac_cpac-custom-nuisance/sub-0050813_ses-1/func/sub-0050813_ses-1_task-rest_run-1_framewise-displacement-jenkinson.1D',\n",
       " '/archive/bioinformatics/DLLab/AlexTreacher/data/20210825_ABIDE_CPAC/ABIDEI/derivatives/CPAC/output/cpac_cpac-custom-nuisance/sub-0050013_ses-1/func/sub-0050013_ses-1_task-rest_run-1_framewise-displacement-jenkinson.1D',\n",
       " '/archive/bioinformatics/DLLab/AlexTreacher/data/20210825_ABIDE_CPAC/ABIDEI/derivatives/CPAC/output/cpac_cpac-custom-nuisance/sub-0051118_ses-1/func/sub-0051118_ses-1_task-rest_run-1_framewise-displacement-jenkinson.1D',\n",
       " '/archive/bioinformatics/DLLab/AlexTreacher/data/20210825_ABIDE_CPAC/ABIDEI/derivatives/CPAC/output/cpac_cpac-custom-nuisance/sub-0050734_ses-1/func/sub-0050734_ses-1_task-rest_run-1_framewise-displacement-jenkinson.1D',\n",
       " '/archive/bioinformatics/DLLab/AlexTreacher/data/20210825_ABIDE_CPAC/ABIDEI/derivatives/CPAC/output/cpac_cpac-custom-nuisance/sub-0051019_ses-1/func/sub-0051019_ses-1_task-rest_run-1_framewise-displacement-jenkinson.1D',\n",
       " '/archive/bioinformatics/DLLab/AlexTreacher/data/20210825_ABIDE_CPAC/ABIDEI/derivatives/CPAC/output/cpac_cpac-custom-nuisance/sub-0050657_ses-1/func/sub-0050657_ses-1_task-rest_run-1_framewise-displacement-jenkinson.1D',\n",
       " '/archive/bioinformatics/DLLab/AlexTreacher/data/20210825_ABIDE_CPAC/ABIDEI/derivatives/CPAC/output/cpac_cpac-custom-nuisance/sub-0050048_ses-1/func/sub-0050048_ses-1_task-rest_run-1_framewise-displacement-jenkinson.1D',\n",
       " '/archive/bioinformatics/DLLab/AlexTreacher/data/20210825_ABIDE_CPAC/ABIDEI/derivatives/CPAC/output/cpac_cpac-custom-nuisance/sub-0050806_ses-1/func/sub-0050806_ses-1_task-rest_run-1_framewise-displacement-jenkinson.1D',\n",
       " '/archive/bioinformatics/DLLab/AlexTreacher/data/20210825_ABIDE_CPAC/ABIDEI/derivatives/CPAC/output/cpac_cpac-custom-nuisance/sub-0050273_ses-1/func/sub-0050273_ses-1_task-rest_run-1_framewise-displacement-jenkinson.1D',\n",
       " '/archive/bioinformatics/DLLab/AlexTreacher/data/20210825_ABIDE_CPAC/ABIDEI/derivatives/CPAC/output/cpac_cpac-custom-nuisance/sub-0051583_ses-1/func/sub-0051583_ses-1_task-rest_run-1_framewise-displacement-jenkinson.1D',\n",
       " '/archive/bioinformatics/DLLab/AlexTreacher/data/20210825_ABIDE_CPAC/ABIDEI/derivatives/CPAC/output/cpac_cpac-custom-nuisance/sub-0051002_ses-1/func/sub-0051002_ses-1_task-rest_run-1_framewise-displacement-jenkinson.1D',\n",
       " '/archive/bioinformatics/DLLab/AlexTreacher/data/20210825_ABIDE_CPAC/ABIDEI/derivatives/CPAC/output/cpac_cpac-custom-nuisance/sub-0050964_ses-1/func/sub-0050964_ses-1_task-rest_run-1_framewise-displacement-jenkinson.1D',\n",
       " '/archive/bioinformatics/DLLab/AlexTreacher/data/20210825_ABIDE_CPAC/ABIDEI/derivatives/CPAC/output/cpac_cpac-custom-nuisance/sub-0050985_ses-1/func/sub-0050985_ses-1_task-rest_run-1_framewise-displacement-jenkinson.1D',\n",
       " '/archive/bioinformatics/DLLab/AlexTreacher/data/20210825_ABIDE_CPAC/ABIDEI/derivatives/CPAC/output/cpac_cpac-custom-nuisance/sub-0050573_ses-1/func/sub-0050573_ses-1_task-rest_run-1_framewise-displacement-jenkinson.1D',\n",
       " '/archive/bioinformatics/DLLab/AlexTreacher/data/20210825_ABIDE_CPAC/ABIDEI/derivatives/CPAC/output/cpac_cpac-custom-nuisance/sub-0051086_ses-1/func/sub-0051086_ses-1_task-rest_run-1_framewise-displacement-jenkinson.1D',\n",
       " '/archive/bioinformatics/DLLab/AlexTreacher/data/20210825_ABIDE_CPAC/ABIDEI/derivatives/CPAC/output/cpac_cpac-custom-nuisance/sub-0051323_ses-1/func/sub-0051323_ses-1_task-rest_run-1_framewise-displacement-jenkinson.1D',\n",
       " '/archive/bioinformatics/DLLab/AlexTreacher/data/20210825_ABIDE_CPAC/ABIDEI/derivatives/CPAC/output/cpac_cpac-custom-nuisance/sub-0050165_ses-1/func/sub-0050165_ses-1_task-rest_run-2_framewise-displacement-jenkinson.1D',\n",
       " '/archive/bioinformatics/DLLab/AlexTreacher/data/20210825_ABIDE_CPAC/ABIDEI/derivatives/CPAC/output/cpac_cpac-custom-nuisance/sub-0050165_ses-1/func/sub-0050165_ses-1_task-rest_run-3_framewise-displacement-jenkinson.1D',\n",
       " '/archive/bioinformatics/DLLab/AlexTreacher/data/20210825_ABIDE_CPAC/ABIDEI/derivatives/CPAC/output/cpac_cpac-custom-nuisance/sub-0050995_ses-1/func/sub-0050995_ses-1_task-rest_run-1_framewise-displacement-jenkinson.1D',\n",
       " '/archive/bioinformatics/DLLab/AlexTreacher/data/20210825_ABIDE_CPAC/ABIDEI/derivatives/CPAC/output/cpac_cpac-custom-nuisance/sub-0050349_ses-1/func/sub-0050349_ses-1_task-rest_run-1_framewise-displacement-jenkinson.1D',\n",
       " '/archive/bioinformatics/DLLab/AlexTreacher/data/20210825_ABIDE_CPAC/ABIDEI/derivatives/CPAC/output/cpac_cpac-custom-nuisance/sub-0050496_ses-1/func/sub-0050496_ses-1_task-rest_run-1_framewise-displacement-jenkinson.1D',\n",
       " '/archive/bioinformatics/DLLab/AlexTreacher/data/20210825_ABIDE_CPAC/ABIDEI/derivatives/CPAC/output/cpac_cpac-custom-nuisance/sub-0050315_ses-1/func/sub-0050315_ses-1_task-rest_run-1_framewise-displacement-jenkinson.1D',\n",
       " '/archive/bioinformatics/DLLab/AlexTreacher/data/20210825_ABIDE_CPAC/ABIDEI/derivatives/CPAC/output/cpac_cpac-custom-nuisance/sub-0051474_ses-1/func/sub-0051474_ses-1_task-rest_run-1_framewise-displacement-jenkinson.1D',\n",
       " '/archive/bioinformatics/DLLab/AlexTreacher/data/20210825_ABIDE_CPAC/ABIDEI/derivatives/CPAC/output/cpac_cpac-custom-nuisance/sub-0050002_ses-1/func/sub-0050002_ses-1_task-rest_run-1_framewise-displacement-jenkinson.1D',\n",
       " '/archive/bioinformatics/DLLab/AlexTreacher/data/20210825_ABIDE_CPAC/ABIDEI/derivatives/CPAC/output/cpac_cpac-custom-nuisance/sub-0050464_ses-1/func/sub-0050464_ses-1_task-rest_run-1_framewise-displacement-jenkinson.1D',\n",
       " '/archive/bioinformatics/DLLab/AlexTreacher/data/20210825_ABIDE_CPAC/ABIDEI/derivatives/CPAC/output/cpac_cpac-custom-nuisance/sub-0050552_ses-1/func/sub-0050552_ses-1_task-rest_run-1_framewise-displacement-jenkinson.1D',\n",
       " '/archive/bioinformatics/DLLab/AlexTreacher/data/20210825_ABIDE_CPAC/ABIDEI/derivatives/CPAC/output/cpac_cpac-custom-nuisance/sub-0051254_ses-1/func/sub-0051254_ses-1_task-rest_run-1_framewise-displacement-jenkinson.1D',\n",
       " '/archive/bioinformatics/DLLab/AlexTreacher/data/20210825_ABIDE_CPAC/ABIDEI/derivatives/CPAC/output/cpac_cpac-custom-nuisance/sub-0050724_ses-1/func/sub-0050724_ses-1_task-rest_run-1_framewise-displacement-jenkinson.1D',\n",
       " '/archive/bioinformatics/DLLab/AlexTreacher/data/20210825_ABIDE_CPAC/ABIDEI/derivatives/CPAC/output/cpac_cpac-custom-nuisance/sub-0050410_ses-1/func/sub-0050410_ses-1_task-rest_run-1_framewise-displacement-jenkinson.1D',\n",
       " '/archive/bioinformatics/DLLab/AlexTreacher/data/20210825_ABIDE_CPAC/ABIDEI/derivatives/CPAC/output/cpac_cpac-custom-nuisance/sub-0050342_ses-1/func/sub-0050342_ses-1_task-rest_run-1_framewise-displacement-jenkinson.1D',\n",
       " '/archive/bioinformatics/DLLab/AlexTreacher/data/20210825_ABIDE_CPAC/ABIDEI/derivatives/CPAC/output/cpac_cpac-custom-nuisance/sub-0050278_ses-1/func/sub-0050278_ses-1_task-rest_run-1_framewise-displacement-jenkinson.1D',\n",
       " '/archive/bioinformatics/DLLab/AlexTreacher/data/20210825_ABIDE_CPAC/ABIDEI/derivatives/CPAC/output/cpac_cpac-custom-nuisance/sub-0051359_ses-1/func/sub-0051359_ses-1_task-rest_run-1_framewise-displacement-jenkinson.1D',\n",
       " '/archive/bioinformatics/DLLab/AlexTreacher/data/20210825_ABIDE_CPAC/ABIDEI/derivatives/CPAC/output/cpac_cpac-custom-nuisance/sub-0051467_ses-1/func/sub-0051467_ses-1_task-rest_run-1_framewise-displacement-jenkinson.1D',\n",
       " '/archive/bioinformatics/DLLab/AlexTreacher/data/20210825_ABIDE_CPAC/ABIDEI/derivatives/CPAC/output/cpac_cpac-custom-nuisance/sub-0050419_ses-1/func/sub-0050419_ses-1_task-rest_run-1_framewise-displacement-jenkinson.1D',\n",
       " '/archive/bioinformatics/DLLab/AlexTreacher/data/20210825_ABIDE_CPAC/ABIDEI/derivatives/CPAC/output/cpac_cpac-custom-nuisance/sub-0051140_ses-1/func/sub-0051140_ses-1_task-rest_run-1_framewise-displacement-jenkinson.1D',\n",
       " '/archive/bioinformatics/DLLab/AlexTreacher/data/20210825_ABIDE_CPAC/ABIDEI/derivatives/CPAC/output/cpac_cpac-custom-nuisance/sub-0050281_ses-1/func/sub-0050281_ses-1_task-rest_run-1_framewise-displacement-jenkinson.1D',\n",
       " '/archive/bioinformatics/DLLab/AlexTreacher/data/20210825_ABIDE_CPAC/ABIDEI/derivatives/CPAC/output/cpac_cpac-custom-nuisance/sub-0050241_ses-1/func/sub-0050241_ses-1_task-rest_run-1_framewise-displacement-jenkinson.1D',\n",
       " '/archive/bioinformatics/DLLab/AlexTreacher/data/20210825_ABIDE_CPAC/ABIDEI/derivatives/CPAC/output/cpac_cpac-custom-nuisance/sub-0050982_ses-1/func/sub-0050982_ses-1_task-rest_run-1_framewise-displacement-jenkinson.1D',\n",
       " '/archive/bioinformatics/DLLab/AlexTreacher/data/20210825_ABIDE_CPAC/ABIDEI/derivatives/CPAC/output/cpac_cpac-custom-nuisance/sub-0050260_ses-1/func/sub-0050260_ses-1_task-rest_run-1_framewise-displacement-jenkinson.1D',\n",
       " '/archive/bioinformatics/DLLab/AlexTreacher/data/20210825_ABIDE_CPAC/ABIDEI/derivatives/CPAC/output/cpac_cpac-custom-nuisance/sub-0050046_ses-1/func/sub-0050046_ses-1_task-rest_run-1_framewise-displacement-jenkinson.1D',\n",
       " '/archive/bioinformatics/DLLab/AlexTreacher/data/20210825_ABIDE_CPAC/ABIDEI/derivatives/CPAC/output/cpac_cpac-custom-nuisance/sub-0050171_ses-1/func/sub-0050171_ses-1_task-rest_run-3_framewise-displacement-jenkinson.1D',\n",
       " '/archive/bioinformatics/DLLab/AlexTreacher/data/20210825_ABIDE_CPAC/ABIDEI/derivatives/CPAC/output/cpac_cpac-custom-nuisance/sub-0050171_ses-1/func/sub-0050171_ses-1_task-rest_run-1_framewise-displacement-jenkinson.1D',\n",
       " '/archive/bioinformatics/DLLab/AlexTreacher/data/20210825_ABIDE_CPAC/ABIDEI/derivatives/CPAC/output/cpac_cpac-custom-nuisance/sub-0050171_ses-1/func/sub-0050171_ses-1_task-rest_run-2_framewise-displacement-jenkinson.1D',\n",
       " '/archive/bioinformatics/DLLab/AlexTreacher/data/20210825_ABIDE_CPAC/ABIDEI/derivatives/CPAC/output/cpac_cpac-custom-nuisance/sub-0050750_ses-1/func/sub-0050750_ses-1_task-rest_run-1_framewise-displacement-jenkinson.1D',\n",
       " '/archive/bioinformatics/DLLab/AlexTreacher/data/20210825_ABIDE_CPAC/ABIDEI/derivatives/CPAC/output/cpac_cpac-custom-nuisance/sub-0051215_ses-1/func/sub-0051215_ses-1_task-rest_run-1_framewise-displacement-jenkinson.1D',\n",
       " '/archive/bioinformatics/DLLab/AlexTreacher/data/20210825_ABIDE_CPAC/ABIDEI/derivatives/CPAC/output/cpac_cpac-custom-nuisance/sub-0050164_ses-1/func/sub-0050164_ses-1_task-rest_run-1_framewise-displacement-jenkinson.1D',\n",
       " '/archive/bioinformatics/DLLab/AlexTreacher/data/20210825_ABIDE_CPAC/ABIDEI/derivatives/CPAC/output/cpac_cpac-custom-nuisance/sub-0050164_ses-1/func/sub-0050164_ses-1_task-rest_run-3_framewise-displacement-jenkinson.1D',\n",
       " '/archive/bioinformatics/DLLab/AlexTreacher/data/20210825_ABIDE_CPAC/ABIDEI/derivatives/CPAC/output/cpac_cpac-custom-nuisance/sub-0050733_ses-1/func/sub-0050733_ses-1_task-rest_run-1_framewise-displacement-jenkinson.1D',\n",
       " '/archive/bioinformatics/DLLab/AlexTreacher/data/20210825_ABIDE_CPAC/ABIDEI/derivatives/CPAC/output/cpac_cpac-custom-nuisance/sub-0050617_ses-1/func/sub-0050617_ses-1_task-rest_run-1_framewise-displacement-jenkinson.1D',\n",
       " '/archive/bioinformatics/DLLab/AlexTreacher/data/20210825_ABIDE_CPAC/ABIDEI/derivatives/CPAC/output/cpac_cpac-custom-nuisance/sub-0051295_ses-1/func/sub-0051295_ses-1_task-rest_run-1_framewise-displacement-jenkinson.1D',\n",
       " '/archive/bioinformatics/DLLab/AlexTreacher/data/20210825_ABIDE_CPAC/ABIDEI/derivatives/CPAC/output/cpac_cpac-custom-nuisance/sub-0050476_ses-1/func/sub-0050476_ses-1_task-rest_run-1_framewise-displacement-jenkinson.1D',\n",
       " '/archive/bioinformatics/DLLab/AlexTreacher/data/20210825_ABIDE_CPAC/ABIDEI/derivatives/CPAC/output/cpac_cpac-custom-nuisance/sub-0051044_ses-1/func/sub-0051044_ses-1_task-rest_run-1_framewise-displacement-jenkinson.1D',\n",
       " '/archive/bioinformatics/DLLab/AlexTreacher/data/20210825_ABIDE_CPAC/ABIDEI/derivatives/CPAC/output/cpac_cpac-custom-nuisance/sub-0051566_ses-1/func/sub-0051566_ses-1_task-rest_run-1_framewise-displacement-jenkinson.1D',\n",
       " '/archive/bioinformatics/DLLab/AlexTreacher/data/20210825_ABIDE_CPAC/ABIDEI/derivatives/CPAC/output/cpac_cpac-custom-nuisance/sub-0050462_ses-1/func/sub-0050462_ses-1_task-rest_run-1_framewise-displacement-jenkinson.1D',\n",
       " '/archive/bioinformatics/DLLab/AlexTreacher/data/20210825_ABIDE_CPAC/ABIDEI/derivatives/CPAC/output/cpac_cpac-custom-nuisance/sub-0051058_ses-1/func/sub-0051058_ses-1_task-rest_run-1_framewise-displacement-jenkinson.1D',\n",
       " '/archive/bioinformatics/DLLab/AlexTreacher/data/20210825_ABIDE_CPAC/ABIDEI/derivatives/CPAC/output/cpac_cpac-custom-nuisance/sub-0051346_ses-1/func/sub-0051346_ses-1_task-rest_run-1_framewise-displacement-jenkinson.1D',\n",
       " '/archive/bioinformatics/DLLab/AlexTreacher/data/20210825_ABIDE_CPAC/ABIDEI/derivatives/CPAC/output/cpac_cpac-custom-nuisance/sub-0051024_ses-1/func/sub-0051024_ses-1_task-rest_run-1_framewise-displacement-jenkinson.1D',\n",
       " '/archive/bioinformatics/DLLab/AlexTreacher/data/20210825_ABIDE_CPAC/ABIDEI/derivatives/CPAC/output/cpac_cpac-custom-nuisance/sub-0050696_ses-1/func/sub-0050696_ses-1_task-rest_run-1_framewise-displacement-jenkinson.1D',\n",
       " '/archive/bioinformatics/DLLab/AlexTreacher/data/20210825_ABIDE_CPAC/ABIDEI/derivatives/CPAC/output/cpac_cpac-custom-nuisance/sub-0051345_ses-1/func/sub-0051345_ses-1_task-rest_run-1_framewise-displacement-jenkinson.1D',\n",
       " '/archive/bioinformatics/DLLab/AlexTreacher/data/20210825_ABIDE_CPAC/ABIDEI/derivatives/CPAC/output/cpac_cpac-custom-nuisance/sub-0050988_ses-1/func/sub-0050988_ses-1_task-rest_run-1_framewise-displacement-jenkinson.1D',\n",
       " '/archive/bioinformatics/DLLab/AlexTreacher/data/20210825_ABIDE_CPAC/ABIDEI/derivatives/CPAC/output/cpac_cpac-custom-nuisance/sub-0050011_ses-1/func/sub-0050011_ses-1_task-rest_run-1_framewise-displacement-jenkinson.1D',\n",
       " '/archive/bioinformatics/DLLab/AlexTreacher/data/20210825_ABIDE_CPAC/ABIDEI/derivatives/CPAC/output/cpac_cpac-custom-nuisance/sub-0051075_ses-1/func/sub-0051075_ses-1_task-rest_run-1_framewise-displacement-jenkinson.1D',\n",
       " '/archive/bioinformatics/DLLab/AlexTreacher/data/20210825_ABIDE_CPAC/ABIDEI/derivatives/CPAC/output/cpac_cpac-custom-nuisance/sub-0051120_ses-1/func/sub-0051120_ses-1_task-rest_run-1_framewise-displacement-jenkinson.1D',\n",
       " '/archive/bioinformatics/DLLab/AlexTreacher/data/20210825_ABIDE_CPAC/ABIDEI/derivatives/CPAC/output/cpac_cpac-custom-nuisance/sub-0050660_ses-1/func/sub-0050660_ses-1_task-rest_run-1_framewise-displacement-jenkinson.1D',\n",
       " '/archive/bioinformatics/DLLab/AlexTreacher/data/20210825_ABIDE_CPAC/ABIDEI/derivatives/CPAC/output/cpac_cpac-custom-nuisance/sub-0050989_ses-1/func/sub-0050989_ses-1_task-rest_run-1_framewise-displacement-jenkinson.1D',\n",
       " '/archive/bioinformatics/DLLab/AlexTreacher/data/20210825_ABIDE_CPAC/ABIDEI/derivatives/CPAC/output/cpac_cpac-custom-nuisance/sub-0051129_ses-1/func/sub-0051129_ses-1_task-rest_run-1_framewise-displacement-jenkinson.1D',\n",
       " '/archive/bioinformatics/DLLab/AlexTreacher/data/20210825_ABIDE_CPAC/ABIDEI/derivatives/CPAC/output/cpac_cpac-custom-nuisance/sub-0050044_ses-1/func/sub-0050044_ses-1_task-rest_run-1_framewise-displacement-jenkinson.1D',\n",
       " '/archive/bioinformatics/DLLab/AlexTreacher/data/20210825_ABIDE_CPAC/ABIDEI/derivatives/CPAC/output/cpac_cpac-custom-nuisance/sub-0050411_ses-1/func/sub-0050411_ses-1_task-rest_run-1_framewise-displacement-jenkinson.1D',\n",
       " '/archive/bioinformatics/DLLab/AlexTreacher/data/20210825_ABIDE_CPAC/ABIDEI/derivatives/CPAC/output/cpac_cpac-custom-nuisance/sub-0050301_ses-1/func/sub-0050301_ses-1_task-rest_run-1_framewise-displacement-jenkinson.1D',\n",
       " '/archive/bioinformatics/DLLab/AlexTreacher/data/20210825_ABIDE_CPAC/ABIDEI/derivatives/CPAC/output/cpac_cpac-custom-nuisance/sub-0051149_ses-1/func/sub-0051149_ses-1_task-rest_run-1_framewise-displacement-jenkinson.1D',\n",
       " '/archive/bioinformatics/DLLab/AlexTreacher/data/20210825_ABIDE_CPAC/ABIDEI/derivatives/CPAC/output/cpac_cpac-custom-nuisance/sub-0050441_ses-1/func/sub-0050441_ses-1_task-rest_run-1_framewise-displacement-jenkinson.1D',\n",
       " '/archive/bioinformatics/DLLab/AlexTreacher/data/20210825_ABIDE_CPAC/ABIDEI/derivatives/CPAC/output/cpac_cpac-custom-nuisance/sub-0051082_ses-1/func/sub-0051082_ses-1_task-rest_run-1_framewise-displacement-jenkinson.1D',\n",
       " '/archive/bioinformatics/DLLab/AlexTreacher/data/20210825_ABIDE_CPAC/ABIDEI/derivatives/CPAC/output/cpac_cpac-custom-nuisance/sub-0050500_ses-1/func/sub-0050500_ses-1_task-rest_run-1_framewise-displacement-jenkinson.1D',\n",
       " '/archive/bioinformatics/DLLab/AlexTreacher/data/20210825_ABIDE_CPAC/ABIDEI/derivatives/CPAC/output/cpac_cpac-custom-nuisance/sub-0050334_ses-1/func/sub-0050334_ses-1_task-rest_run-1_framewise-displacement-jenkinson.1D',\n",
       " '/archive/bioinformatics/DLLab/AlexTreacher/data/20210825_ABIDE_CPAC/ABIDEI/derivatives/CPAC/output/cpac_cpac-custom-nuisance/sub-0051094_ses-1/func/sub-0051094_ses-1_task-rest_run-1_framewise-displacement-jenkinson.1D',\n",
       " '/archive/bioinformatics/DLLab/AlexTreacher/data/20210825_ABIDE_CPAC/ABIDEI/derivatives/CPAC/output/cpac_cpac-custom-nuisance/sub-0051106_ses-1/func/sub-0051106_ses-1_task-rest_run-1_framewise-displacement-jenkinson.1D',\n",
       " '/archive/bioinformatics/DLLab/AlexTreacher/data/20210825_ABIDE_CPAC/ABIDEI/derivatives/CPAC/output/cpac_cpac-custom-nuisance/sub-0050561_ses-1/func/sub-0050561_ses-1_task-rest_run-1_framewise-displacement-jenkinson.1D',\n",
       " '/archive/bioinformatics/DLLab/AlexTreacher/data/20210825_ABIDE_CPAC/ABIDEI/derivatives/CPAC/output/cpac_cpac-custom-nuisance/sub-0050162_ses-1/func/sub-0050162_ses-1_task-rest_run-1_framewise-displacement-jenkinson.1D',\n",
       " '/archive/bioinformatics/DLLab/AlexTreacher/data/20210825_ABIDE_CPAC/ABIDEI/derivatives/CPAC/output/cpac_cpac-custom-nuisance/sub-0050162_ses-1/func/sub-0050162_ses-1_task-rest_run-3_framewise-displacement-jenkinson.1D',\n",
       " '/archive/bioinformatics/DLLab/AlexTreacher/data/20210825_ABIDE_CPAC/ABIDEI/derivatives/CPAC/output/cpac_cpac-custom-nuisance/sub-0050162_ses-1/func/sub-0050162_ses-1_task-rest_run-2_framewise-displacement-jenkinson.1D',\n",
       " '/archive/bioinformatics/DLLab/AlexTreacher/data/20210825_ABIDE_CPAC/ABIDEI/derivatives/CPAC/output/cpac_cpac-custom-nuisance/sub-0050372_ses-1/func/sub-0050372_ses-1_task-rest_run-1_framewise-displacement-jenkinson.1D',\n",
       " '/archive/bioinformatics/DLLab/AlexTreacher/data/20210825_ABIDE_CPAC/ABIDEI/derivatives/CPAC/output/cpac_cpac-custom-nuisance/sub-0051370_ses-1/func/sub-0051370_ses-1_task-rest_run-1_framewise-displacement-jenkinson.1D',\n",
       " '/archive/bioinformatics/DLLab/AlexTreacher/data/20210825_ABIDE_CPAC/ABIDEI/derivatives/CPAC/output/cpac_cpac-custom-nuisance/sub-0050249_ses-1/func/sub-0050249_ses-1_task-rest_run-1_framewise-displacement-jenkinson.1D',\n",
       " '/archive/bioinformatics/DLLab/AlexTreacher/data/20210825_ABIDE_CPAC/ABIDEI/derivatives/CPAC/output/cpac_cpac-custom-nuisance/sub-0051201_ses-1/func/sub-0051201_ses-1_task-rest_run-1_framewise-displacement-jenkinson.1D',\n",
       " '/archive/bioinformatics/DLLab/AlexTreacher/data/20210825_ABIDE_CPAC/ABIDEI/derivatives/CPAC/output/cpac_cpac-custom-nuisance/sub-0050299_ses-1/func/sub-0050299_ses-1_task-rest_run-1_framewise-displacement-jenkinson.1D',\n",
       " '/archive/bioinformatics/DLLab/AlexTreacher/data/20210825_ABIDE_CPAC/ABIDEI/derivatives/CPAC/output/cpac_cpac-custom-nuisance/sub-0050352_ses-1/func/sub-0050352_ses-1_task-rest_run-1_framewise-displacement-jenkinson.1D',\n",
       " '/archive/bioinformatics/DLLab/AlexTreacher/data/20210825_ABIDE_CPAC/ABIDEI/derivatives/CPAC/output/cpac_cpac-custom-nuisance/sub-0050483_ses-1/func/sub-0050483_ses-1_task-rest_run-1_framewise-displacement-jenkinson.1D',\n",
       " '/archive/bioinformatics/DLLab/AlexTreacher/data/20210825_ABIDE_CPAC/ABIDEI/derivatives/CPAC/output/cpac_cpac-custom-nuisance/sub-0051328_ses-1/func/sub-0051328_ses-1_task-rest_run-1_framewise-displacement-jenkinson.1D',\n",
       " '/archive/bioinformatics/DLLab/AlexTreacher/data/20210825_ABIDE_CPAC/ABIDEI/derivatives/CPAC/output/cpac_cpac-custom-nuisance/sub-0050265_ses-1/func/sub-0050265_ses-1_task-rest_run-1_framewise-displacement-jenkinson.1D',\n",
       " '/archive/bioinformatics/DLLab/AlexTreacher/data/20210825_ABIDE_CPAC/ABIDEI/derivatives/CPAC/output/cpac_cpac-custom-nuisance/sub-0050242_ses-1/func/sub-0050242_ses-1_task-rest_run-1_framewise-displacement-jenkinson.1D',\n",
       " '/archive/bioinformatics/DLLab/AlexTreacher/data/20210825_ABIDE_CPAC/ABIDEI/derivatives/CPAC/output/cpac_cpac-custom-nuisance/sub-0051205_ses-1/func/sub-0051205_ses-1_task-rest_run-1_framewise-displacement-jenkinson.1D',\n",
       " '/archive/bioinformatics/DLLab/AlexTreacher/data/20210825_ABIDE_CPAC/ABIDEI/derivatives/CPAC/output/cpac_cpac-custom-nuisance/sub-0050650_ses-1/func/sub-0050650_ses-1_task-rest_run-1_framewise-displacement-jenkinson.1D',\n",
       " '/archive/bioinformatics/DLLab/AlexTreacher/data/20210825_ABIDE_CPAC/ABIDEI/derivatives/CPAC/output/cpac_cpac-custom-nuisance/sub-0051327_ses-1/func/sub-0051327_ses-1_task-rest_run-1_framewise-displacement-jenkinson.1D',\n",
       " '/archive/bioinformatics/DLLab/AlexTreacher/data/20210825_ABIDE_CPAC/ABIDEI/derivatives/CPAC/output/cpac_cpac-custom-nuisance/sub-0050362_ses-1/func/sub-0050362_ses-1_task-rest_run-1_framewise-displacement-jenkinson.1D',\n",
       " '/archive/bioinformatics/DLLab/AlexTreacher/data/20210825_ABIDE_CPAC/ABIDEI/derivatives/CPAC/output/cpac_cpac-custom-nuisance/sub-0050163_ses-1/func/sub-0050163_ses-1_task-rest_run-1_framewise-displacement-jenkinson.1D',\n",
       " '/archive/bioinformatics/DLLab/AlexTreacher/data/20210825_ABIDE_CPAC/ABIDEI/derivatives/CPAC/output/cpac_cpac-custom-nuisance/sub-0050163_ses-1/func/sub-0050163_ses-1_task-rest_run-3_framewise-displacement-jenkinson.1D',\n",
       " '/archive/bioinformatics/DLLab/AlexTreacher/data/20210825_ABIDE_CPAC/ABIDEI/derivatives/CPAC/output/cpac_cpac-custom-nuisance/sub-0050665_ses-1/func/sub-0050665_ses-1_task-rest_run-1_framewise-displacement-jenkinson.1D',\n",
       " '/archive/bioinformatics/DLLab/AlexTreacher/data/20210825_ABIDE_CPAC/ABIDEI/derivatives/CPAC/output/cpac_cpac-custom-nuisance/sub-0051207_ses-1/func/sub-0051207_ses-1_task-rest_run-1_framewise-displacement-jenkinson.1D',\n",
       " '/archive/bioinformatics/DLLab/AlexTreacher/data/20210825_ABIDE_CPAC/ABIDEI/derivatives/CPAC/output/cpac_cpac-custom-nuisance/sub-0050469_ses-1/func/sub-0050469_ses-1_task-rest_run-1_framewise-displacement-jenkinson.1D',\n",
       " '/archive/bioinformatics/DLLab/AlexTreacher/data/20210825_ABIDE_CPAC/ABIDEI/derivatives/CPAC/output/cpac_cpac-custom-nuisance/sub-0050727_ses-1/func/sub-0050727_ses-1_task-rest_run-1_framewise-displacement-jenkinson.1D',\n",
       " '/archive/bioinformatics/DLLab/AlexTreacher/data/20210825_ABIDE_CPAC/ABIDEI/derivatives/CPAC/output/cpac_cpac-custom-nuisance/sub-0051220_ses-1/func/sub-0051220_ses-1_task-rest_run-1_framewise-displacement-jenkinson.1D',\n",
       " '/archive/bioinformatics/DLLab/AlexTreacher/data/20210825_ABIDE_CPAC/ABIDEI/derivatives/CPAC/output/cpac_cpac-custom-nuisance/sub-0051155_ses-1/func/sub-0051155_ses-1_task-rest_run-1_framewise-displacement-jenkinson.1D',\n",
       " '/archive/bioinformatics/DLLab/AlexTreacher/data/20210825_ABIDE_CPAC/ABIDEI/derivatives/CPAC/output/cpac_cpac-custom-nuisance/sub-0050308_ses-1/func/sub-0050308_ses-1_task-rest_run-1_framewise-displacement-jenkinson.1D',\n",
       " '/archive/bioinformatics/DLLab/AlexTreacher/data/20210825_ABIDE_CPAC/ABIDEI/derivatives/CPAC/output/cpac_cpac-custom-nuisance/sub-0050306_ses-1/func/sub-0050306_ses-1_task-rest_run-1_framewise-displacement-jenkinson.1D',\n",
       " '/archive/bioinformatics/DLLab/AlexTreacher/data/20210825_ABIDE_CPAC/ABIDEI/derivatives/CPAC/output/cpac_cpac-custom-nuisance/sub-0050314_ses-1/func/sub-0050314_ses-1_task-rest_run-1_framewise-displacement-jenkinson.1D',\n",
       " '/archive/bioinformatics/DLLab/AlexTreacher/data/20210825_ABIDE_CPAC/ABIDEI/derivatives/CPAC/output/cpac_cpac-custom-nuisance/sub-0051462_ses-1/func/sub-0051462_ses-1_task-rest_run-1_framewise-displacement-jenkinson.1D',\n",
       " '/archive/bioinformatics/DLLab/AlexTreacher/data/20210825_ABIDE_CPAC/ABIDEI/derivatives/CPAC/output/cpac_cpac-custom-nuisance/sub-0050027_ses-1/func/sub-0050027_ses-1_task-rest_run-1_framewise-displacement-jenkinson.1D',\n",
       " '/archive/bioinformatics/DLLab/AlexTreacher/data/20210825_ABIDE_CPAC/ABIDEI/derivatives/CPAC/output/cpac_cpac-custom-nuisance/sub-0050346_ses-1/func/sub-0050346_ses-1_task-rest_run-1_framewise-displacement-jenkinson.1D',\n",
       " '/archive/bioinformatics/DLLab/AlexTreacher/data/20210825_ABIDE_CPAC/ABIDEI/derivatives/CPAC/output/cpac_cpac-custom-nuisance/sub-0051230_ses-1/func/sub-0051230_ses-1_task-rest_run-1_framewise-displacement-jenkinson.1D',\n",
       " '/archive/bioinformatics/DLLab/AlexTreacher/data/20210825_ABIDE_CPAC/ABIDEI/derivatives/CPAC/output/cpac_cpac-custom-nuisance/sub-0051259_ses-1/func/sub-0051259_ses-1_task-rest_run-1_framewise-displacement-jenkinson.1D',\n",
       " '/archive/bioinformatics/DLLab/AlexTreacher/data/20210825_ABIDE_CPAC/ABIDEI/derivatives/CPAC/output/cpac_cpac-custom-nuisance/sub-0050981_ses-1/func/sub-0050981_ses-1_task-rest_run-1_framewise-displacement-jenkinson.1D',\n",
       " '/archive/bioinformatics/DLLab/AlexTreacher/data/20210825_ABIDE_CPAC/ABIDEI/derivatives/CPAC/output/cpac_cpac-custom-nuisance/sub-0051606_ses-1/func/sub-0051606_ses-1_task-rest_run-1_framewise-displacement-jenkinson.1D',\n",
       " '/archive/bioinformatics/DLLab/AlexTreacher/data/20210825_ABIDE_CPAC/ABIDEI/derivatives/CPAC/output/cpac_cpac-custom-nuisance/sub-0050449_ses-1/func/sub-0050449_ses-1_task-rest_run-1_framewise-displacement-jenkinson.1D',\n",
       " '/archive/bioinformatics/DLLab/AlexTreacher/data/20210825_ABIDE_CPAC/ABIDEI/derivatives/CPAC/output/cpac_cpac-custom-nuisance/sub-0051074_ses-1/func/sub-0051074_ses-1_task-rest_run-1_framewise-displacement-jenkinson.1D',\n",
       " '/archive/bioinformatics/DLLab/AlexTreacher/data/20210825_ABIDE_CPAC/ABIDEI/derivatives/CPAC/output/cpac_cpac-custom-nuisance/sub-0050607_ses-1/func/sub-0050607_ses-1_task-rest_run-1_framewise-displacement-jenkinson.1D',\n",
       " '/archive/bioinformatics/DLLab/AlexTreacher/data/20210825_ABIDE_CPAC/ABIDEI/derivatives/CPAC/output/cpac_cpac-custom-nuisance/sub-0051088_ses-1/func/sub-0051088_ses-1_task-rest_run-1_framewise-displacement-jenkinson.1D',\n",
       " '/archive/bioinformatics/DLLab/AlexTreacher/data/20210825_ABIDE_CPAC/ABIDEI/derivatives/CPAC/output/cpac_cpac-custom-nuisance/sub-0051575_ses-1/func/sub-0051575_ses-1_task-rest_run-1_framewise-displacement-jenkinson.1D',\n",
       " '/archive/bioinformatics/DLLab/AlexTreacher/data/20210825_ABIDE_CPAC/ABIDEI/derivatives/CPAC/output/cpac_cpac-custom-nuisance/sub-0051350_ses-1/func/sub-0051350_ses-1_task-rest_run-1_framewise-displacement-jenkinson.1D',\n",
       " '/archive/bioinformatics/DLLab/AlexTreacher/data/20210825_ABIDE_CPAC/ABIDEI/derivatives/CPAC/output/cpac_cpac-custom-nuisance/sub-0050644_ses-1/func/sub-0050644_ses-1_task-rest_run-1_framewise-displacement-jenkinson.1D',\n",
       " '/archive/bioinformatics/DLLab/AlexTreacher/data/20210825_ABIDE_CPAC/ABIDEI/derivatives/CPAC/output/cpac_cpac-custom-nuisance/sub-0050622_ses-1/func/sub-0050622_ses-1_task-rest_run-1_framewise-displacement-jenkinson.1D',\n",
       " '/archive/bioinformatics/DLLab/AlexTreacher/data/20210825_ABIDE_CPAC/ABIDEI/derivatives/CPAC/output/cpac_cpac-custom-nuisance/sub-0050646_ses-1/func/sub-0050646_ses-1_task-rest_run-1_framewise-displacement-jenkinson.1D',\n",
       " '/archive/bioinformatics/DLLab/AlexTreacher/data/20210825_ABIDE_CPAC/ABIDEI/derivatives/CPAC/output/cpac_cpac-custom-nuisance/sub-0050621_ses-1/func/sub-0050621_ses-1_task-rest_run-1_framewise-displacement-jenkinson.1D',\n",
       " '/archive/bioinformatics/DLLab/AlexTreacher/data/20210825_ABIDE_CPAC/ABIDEI/derivatives/CPAC/output/cpac_cpac-custom-nuisance/sub-0051459_ses-1/func/sub-0051459_ses-1_task-rest_run-1_framewise-displacement-jenkinson.1D',\n",
       " '/archive/bioinformatics/DLLab/AlexTreacher/data/20210825_ABIDE_CPAC/ABIDEI/derivatives/CPAC/output/cpac_cpac-custom-nuisance/sub-0050122_ses-1/func/sub-0050122_ses-1_task-rest_run-1_framewise-displacement-jenkinson.1D',\n",
       " '/archive/bioinformatics/DLLab/AlexTreacher/data/20210825_ABIDE_CPAC/ABIDEI/derivatives/CPAC/output/cpac_cpac-custom-nuisance/sub-0050332_ses-1/func/sub-0050332_ses-1_task-rest_run-1_framewise-displacement-jenkinson.1D',\n",
       " '/archive/bioinformatics/DLLab/AlexTreacher/data/20210825_ABIDE_CPAC/ABIDEI/derivatives/CPAC/output/cpac_cpac-custom-nuisance/sub-0050403_ses-1/func/sub-0050403_ses-1_task-rest_run-1_framewise-displacement-jenkinson.1D',\n",
       " '/archive/bioinformatics/DLLab/AlexTreacher/data/20210825_ABIDE_CPAC/ABIDEI/derivatives/CPAC/output/cpac_cpac-custom-nuisance/sub-0050975_ses-1/func/sub-0050975_ses-1_task-rest_run-1_framewise-displacement-jenkinson.1D',\n",
       " '/archive/bioinformatics/DLLab/AlexTreacher/data/20210825_ABIDE_CPAC/ABIDEI/derivatives/CPAC/output/cpac_cpac-custom-nuisance/sub-0051562_ses-1/func/sub-0051562_ses-1_task-rest_run-1_framewise-displacement-jenkinson.1D',\n",
       " '/archive/bioinformatics/DLLab/AlexTreacher/data/20210825_ABIDE_CPAC/ABIDEI/derivatives/CPAC/output/cpac_cpac-custom-nuisance/sub-0050123_ses-1/func/sub-0050123_ses-1_task-rest_run-1_framewise-displacement-jenkinson.1D',\n",
       " '/archive/bioinformatics/DLLab/AlexTreacher/data/20210825_ABIDE_CPAC/ABIDEI/derivatives/CPAC/output/cpac_cpac-custom-nuisance/sub-0050467_ses-1/func/sub-0050467_ses-1_task-rest_run-1_framewise-displacement-jenkinson.1D',\n",
       " '/archive/bioinformatics/DLLab/AlexTreacher/data/20210825_ABIDE_CPAC/ABIDEI/derivatives/CPAC/output/cpac_cpac-custom-nuisance/sub-0051095_ses-1/func/sub-0051095_ses-1_task-rest_run-1_framewise-displacement-jenkinson.1D',\n",
       " '/archive/bioinformatics/DLLab/AlexTreacher/data/20210825_ABIDE_CPAC/ABIDEI/derivatives/CPAC/output/cpac_cpac-custom-nuisance/sub-0051111_ses-1/func/sub-0051111_ses-1_task-rest_run-1_framewise-displacement-jenkinson.1D',\n",
       " '/archive/bioinformatics/DLLab/AlexTreacher/data/20210825_ABIDE_CPAC/ABIDEI/derivatives/CPAC/output/cpac_cpac-custom-nuisance/sub-0050243_ses-1/func/sub-0050243_ses-1_task-rest_run-1_framewise-displacement-jenkinson.1D',\n",
       " '/archive/bioinformatics/DLLab/AlexTreacher/data/20210825_ABIDE_CPAC/ABIDEI/derivatives/CPAC/output/cpac_cpac-custom-nuisance/sub-0050042_ses-1/func/sub-0050042_ses-1_task-rest_run-1_framewise-displacement-jenkinson.1D',\n",
       " '/archive/bioinformatics/DLLab/AlexTreacher/data/20210825_ABIDE_CPAC/ABIDEI/derivatives/CPAC/output/cpac_cpac-custom-nuisance/sub-0050108_ses-1/func/sub-0050108_ses-1_task-rest_run-1_framewise-displacement-jenkinson.1D',\n",
       " '/archive/bioinformatics/DLLab/AlexTreacher/data/20210825_ABIDE_CPAC/ABIDEI/derivatives/CPAC/output/cpac_cpac-custom-nuisance/sub-0051308_ses-1/func/sub-0051308_ses-1_task-rest_run-1_framewise-displacement-jenkinson.1D',\n",
       " '/archive/bioinformatics/DLLab/AlexTreacher/data/20210825_ABIDE_CPAC/ABIDEI/derivatives/CPAC/output/cpac_cpac-custom-nuisance/sub-0050799_ses-1/func/sub-0050799_ses-1_task-rest_run-1_framewise-displacement-jenkinson.1D',\n",
       " '/archive/bioinformatics/DLLab/AlexTreacher/data/20210825_ABIDE_CPAC/ABIDEI/derivatives/CPAC/output/cpac_cpac-custom-nuisance/sub-0051481_ses-1/func/sub-0051481_ses-1_task-rest_run-1_framewise-displacement-jenkinson.1D',\n",
       " '/archive/bioinformatics/DLLab/AlexTreacher/data/20210825_ABIDE_CPAC/ABIDEI/derivatives/CPAC/output/cpac_cpac-custom-nuisance/sub-0051117_ses-1/func/sub-0051117_ses-1_task-rest_run-1_framewise-displacement-jenkinson.1D',\n",
       " '/archive/bioinformatics/DLLab/AlexTreacher/data/20210825_ABIDE_CPAC/ABIDEI/derivatives/CPAC/output/cpac_cpac-custom-nuisance/sub-0051126_ses-1/func/sub-0051126_ses-1_task-rest_run-1_framewise-displacement-jenkinson.1D',\n",
       " '/archive/bioinformatics/DLLab/AlexTreacher/data/20210825_ABIDE_CPAC/ABIDEI/derivatives/CPAC/output/cpac_cpac-custom-nuisance/sub-0050244_ses-1/func/sub-0050244_ses-1_task-rest_run-1_framewise-displacement-jenkinson.1D',\n",
       " '/archive/bioinformatics/DLLab/AlexTreacher/data/20210825_ABIDE_CPAC/ABIDEI/derivatives/CPAC/output/cpac_cpac-custom-nuisance/sub-0050612_ses-1/func/sub-0050612_ses-1_task-rest_run-1_framewise-displacement-jenkinson.1D',\n",
       " '/archive/bioinformatics/DLLab/AlexTreacher/data/20210825_ABIDE_CPAC/ABIDEI/derivatives/CPAC/output/cpac_cpac-custom-nuisance/sub-0050745_ses-1/func/sub-0050745_ses-1_task-rest_run-1_framewise-displacement-jenkinson.1D',\n",
       " '/archive/bioinformatics/DLLab/AlexTreacher/data/20210825_ABIDE_CPAC/ABIDEI/derivatives/CPAC/output/cpac_cpac-custom-nuisance/sub-0051000_ses-1/func/sub-0051000_ses-1_task-rest_run-1_framewise-displacement-jenkinson.1D',\n",
       " '/archive/bioinformatics/DLLab/AlexTreacher/data/20210825_ABIDE_CPAC/ABIDEI/derivatives/CPAC/output/cpac_cpac-custom-nuisance/sub-0050049_ses-1/func/sub-0050049_ses-1_task-rest_run-1_framewise-displacement-jenkinson.1D',\n",
       " '/archive/bioinformatics/DLLab/AlexTreacher/data/20210825_ABIDE_CPAC/ABIDEI/derivatives/CPAC/output/cpac_cpac-custom-nuisance/sub-0050117_ses-1/func/sub-0050117_ses-1_task-rest_run-1_framewise-displacement-jenkinson.1D',\n",
       " '/archive/bioinformatics/DLLab/AlexTreacher/data/20210825_ABIDE_CPAC/ABIDEI/derivatives/CPAC/output/cpac_cpac-custom-nuisance/sub-0050385_ses-1/func/sub-0050385_ses-1_task-rest_run-1_framewise-displacement-jenkinson.1D',\n",
       " '/archive/bioinformatics/DLLab/AlexTreacher/data/20210825_ABIDE_CPAC/ABIDEI/derivatives/CPAC/output/cpac_cpac-custom-nuisance/sub-0050339_ses-1/func/sub-0050339_ses-1_task-rest_run-1_framewise-displacement-jenkinson.1D',\n",
       " '/archive/bioinformatics/DLLab/AlexTreacher/data/20210825_ABIDE_CPAC/ABIDEI/derivatives/CPAC/output/cpac_cpac-custom-nuisance/sub-0050783_ses-1/func/sub-0050783_ses-1_task-rest_run-1_framewise-displacement-jenkinson.1D',\n",
       " '/archive/bioinformatics/DLLab/AlexTreacher/data/20210825_ABIDE_CPAC/ABIDEI/derivatives/CPAC/output/cpac_cpac-custom-nuisance/sub-0050470_ses-1/func/sub-0050470_ses-1_task-rest_run-1_framewise-displacement-jenkinson.1D',\n",
       " '/archive/bioinformatics/DLLab/AlexTreacher/data/20210825_ABIDE_CPAC/ABIDEI/derivatives/CPAC/output/cpac_cpac-custom-nuisance/sub-0050502_ses-1/func/sub-0050502_ses-1_task-rest_run-1_framewise-displacement-jenkinson.1D',\n",
       " '/archive/bioinformatics/DLLab/AlexTreacher/data/20210825_ABIDE_CPAC/ABIDEI/derivatives/CPAC/output/cpac_cpac-custom-nuisance/sub-0051100_ses-1/func/sub-0051100_ses-1_task-rest_run-1_framewise-displacement-jenkinson.1D',\n",
       " '/archive/bioinformatics/DLLab/AlexTreacher/data/20210825_ABIDE_CPAC/ABIDEI/derivatives/CPAC/output/cpac_cpac-custom-nuisance/sub-0050275_ses-1/func/sub-0050275_ses-1_task-rest_run-1_framewise-displacement-jenkinson.1D',\n",
       " '/archive/bioinformatics/DLLab/AlexTreacher/data/20210825_ABIDE_CPAC/ABIDEI/derivatives/CPAC/output/cpac_cpac-custom-nuisance/sub-0050347_ses-1/func/sub-0050347_ses-1_task-rest_run-1_framewise-displacement-jenkinson.1D',\n",
       " '/archive/bioinformatics/DLLab/AlexTreacher/data/20210825_ABIDE_CPAC/ABIDEI/derivatives/CPAC/output/cpac_cpac-custom-nuisance/sub-0050808_ses-1/func/sub-0050808_ses-1_task-rest_run-1_framewise-displacement-jenkinson.1D',\n",
       " '/archive/bioinformatics/DLLab/AlexTreacher/data/20210825_ABIDE_CPAC/ABIDEI/derivatives/CPAC/output/cpac_cpac-custom-nuisance/sub-0050051_ses-1/func/sub-0050051_ses-1_task-rest_run-1_framewise-displacement-jenkinson.1D',\n",
       " '/archive/bioinformatics/DLLab/AlexTreacher/data/20210825_ABIDE_CPAC/ABIDEI/derivatives/CPAC/output/cpac_cpac-custom-nuisance/sub-0050025_ses-1/func/sub-0050025_ses-1_task-rest_run-1_framewise-displacement-jenkinson.1D',\n",
       " '/archive/bioinformatics/DLLab/AlexTreacher/data/20210825_ABIDE_CPAC/ABIDEI/derivatives/CPAC/output/cpac_cpac-custom-nuisance/sub-0050036_ses-1/func/sub-0050036_ses-1_task-rest_run-1_framewise-displacement-jenkinson.1D',\n",
       " '/archive/bioinformatics/DLLab/AlexTreacher/data/20210825_ABIDE_CPAC/ABIDEI/derivatives/CPAC/output/cpac_cpac-custom-nuisance/sub-0051364_ses-1/func/sub-0051364_ses-1_task-rest_run-1_framewise-displacement-jenkinson.1D',\n",
       " '/archive/bioinformatics/DLLab/AlexTreacher/data/20210825_ABIDE_CPAC/ABIDEI/derivatives/CPAC/output/cpac_cpac-custom-nuisance/sub-0050377_ses-1/func/sub-0050377_ses-1_task-rest_run-1_framewise-displacement-jenkinson.1D',\n",
       " '/archive/bioinformatics/DLLab/AlexTreacher/data/20210825_ABIDE_CPAC/ABIDEI/derivatives/CPAC/output/cpac_cpac-custom-nuisance/sub-0050965_ses-1/func/sub-0050965_ses-1_task-rest_run-1_framewise-displacement-jenkinson.1D',\n",
       " '/archive/bioinformatics/DLLab/AlexTreacher/data/20210825_ABIDE_CPAC/ABIDEI/derivatives/CPAC/output/cpac_cpac-custom-nuisance/sub-0050348_ses-1/func/sub-0050348_ses-1_task-rest_run-1_framewise-displacement-jenkinson.1D',\n",
       " '/archive/bioinformatics/DLLab/AlexTreacher/data/20210825_ABIDE_CPAC/ABIDEI/derivatives/CPAC/output/cpac_cpac-custom-nuisance/sub-0051367_ses-1/func/sub-0051367_ses-1_task-rest_run-1_framewise-displacement-jenkinson.1D',\n",
       " '/archive/bioinformatics/DLLab/AlexTreacher/data/20210825_ABIDE_CPAC/ABIDEI/derivatives/CPAC/output/cpac_cpac-custom-nuisance/sub-0051203_ses-1/func/sub-0051203_ses-1_task-rest_run-1_framewise-displacement-jenkinson.1D',\n",
       " '/archive/bioinformatics/DLLab/AlexTreacher/data/20210825_ABIDE_CPAC/ABIDEI/derivatives/CPAC/output/cpac_cpac-custom-nuisance/sub-0050606_ses-1/func/sub-0050606_ses-1_task-rest_run-1_framewise-displacement-jenkinson.1D',\n",
       " '/archive/bioinformatics/DLLab/AlexTreacher/data/20210825_ABIDE_CPAC/ABIDEI/derivatives/CPAC/output/cpac_cpac-custom-nuisance/sub-0050379_ses-1/func/sub-0050379_ses-1_task-rest_run-1_framewise-displacement-jenkinson.1D',\n",
       " '/archive/bioinformatics/DLLab/AlexTreacher/data/20210825_ABIDE_CPAC/ABIDEI/derivatives/CPAC/output/cpac_cpac-custom-nuisance/sub-0050645_ses-1/func/sub-0050645_ses-1_task-rest_run-1_framewise-displacement-jenkinson.1D',\n",
       " '/archive/bioinformatics/DLLab/AlexTreacher/data/20210825_ABIDE_CPAC/ABIDEI/derivatives/CPAC/output/cpac_cpac-custom-nuisance/sub-0051016_ses-1/func/sub-0051016_ses-1_task-rest_run-1_framewise-displacement-jenkinson.1D',\n",
       " '/archive/bioinformatics/DLLab/AlexTreacher/data/20210825_ABIDE_CPAC/ABIDEI/derivatives/CPAC/output/cpac_cpac-custom-nuisance/sub-0050129_ses-1/func/sub-0050129_ses-1_task-rest_run-1_framewise-displacement-jenkinson.1D',\n",
       " '/archive/bioinformatics/DLLab/AlexTreacher/data/20210825_ABIDE_CPAC/ABIDEI/derivatives/CPAC/output/cpac_cpac-custom-nuisance/sub-0051240_ses-1/func/sub-0051240_ses-1_task-rest_run-1_framewise-displacement-jenkinson.1D',\n",
       " '/archive/bioinformatics/DLLab/AlexTreacher/data/20210825_ABIDE_CPAC/ABIDEI/derivatives/CPAC/output/cpac_cpac-custom-nuisance/sub-0050773_ses-1/func/sub-0050773_ses-1_task-rest_run-1_framewise-displacement-jenkinson.1D',\n",
       " '/archive/bioinformatics/DLLab/AlexTreacher/data/20210825_ABIDE_CPAC/ABIDEI/derivatives/CPAC/output/cpac_cpac-custom-nuisance/sub-0050578_ses-1/func/sub-0050578_ses-1_task-rest_run-1_framewise-displacement-jenkinson.1D',\n",
       " '/archive/bioinformatics/DLLab/AlexTreacher/data/20210825_ABIDE_CPAC/ABIDEI/derivatives/CPAC/output/cpac_cpac-custom-nuisance/sub-0051557_ses-1/func/sub-0051557_ses-1_task-rest_run-1_framewise-displacement-jenkinson.1D',\n",
       " '/archive/bioinformatics/DLLab/AlexTreacher/data/20210825_ABIDE_CPAC/ABIDEI/derivatives/CPAC/output/cpac_cpac-custom-nuisance/sub-0051271_ses-1/func/sub-0051271_ses-1_task-rest_run-1_framewise-displacement-jenkinson.1D',\n",
       " '/archive/bioinformatics/DLLab/AlexTreacher/data/20210825_ABIDE_CPAC/ABIDEI/derivatives/CPAC/output/cpac_cpac-custom-nuisance/sub-0051112_ses-1/func/sub-0051112_ses-1_task-rest_run-1_framewise-displacement-jenkinson.1D',\n",
       " '/archive/bioinformatics/DLLab/AlexTreacher/data/20210825_ABIDE_CPAC/ABIDEI/derivatives/CPAC/output/cpac_cpac-custom-nuisance/sub-0051234_ses-1/func/sub-0051234_ses-1_task-rest_run-1_framewise-displacement-jenkinson.1D',\n",
       " '/archive/bioinformatics/DLLab/AlexTreacher/data/20210825_ABIDE_CPAC/ABIDEI/derivatives/CPAC/output/cpac_cpac-custom-nuisance/sub-0050998_ses-1/func/sub-0050998_ses-1_task-rest_run-1_framewise-displacement-jenkinson.1D',\n",
       " '/archive/bioinformatics/DLLab/AlexTreacher/data/20210825_ABIDE_CPAC/ABIDEI/derivatives/CPAC/output/cpac_cpac-custom-nuisance/sub-0050290_ses-1/func/sub-0050290_ses-1_task-rest_run-1_framewise-displacement-jenkinson.1D',\n",
       " '/archive/bioinformatics/DLLab/AlexTreacher/data/20210825_ABIDE_CPAC/ABIDEI/derivatives/CPAC/output/cpac_cpac-custom-nuisance/sub-0051316_ses-1/func/sub-0051316_ses-1_task-rest_run-1_framewise-displacement-jenkinson.1D',\n",
       " '/archive/bioinformatics/DLLab/AlexTreacher/data/20210825_ABIDE_CPAC/ABIDEI/derivatives/CPAC/output/cpac_cpac-custom-nuisance/sub-0050822_ses-1/func/sub-0050822_ses-1_task-rest_run-1_framewise-displacement-jenkinson.1D',\n",
       " '/archive/bioinformatics/DLLab/AlexTreacher/data/20210825_ABIDE_CPAC/ABIDEI/derivatives/CPAC/output/cpac_cpac-custom-nuisance/sub-0051558_ses-1/func/sub-0051558_ses-1_task-rest_run-1_framewise-displacement-jenkinson.1D',\n",
       " '/archive/bioinformatics/DLLab/AlexTreacher/data/20210825_ABIDE_CPAC/ABIDEI/derivatives/CPAC/output/cpac_cpac-custom-nuisance/sub-0051241_ses-1/func/sub-0051241_ses-1_task-rest_run-1_framewise-displacement-jenkinson.1D',\n",
       " '/archive/bioinformatics/DLLab/AlexTreacher/data/20210825_ABIDE_CPAC/ABIDEI/derivatives/CPAC/output/cpac_cpac-custom-nuisance/sub-0051469_ses-1/func/sub-0051469_ses-1_task-rest_run-1_framewise-displacement-jenkinson.1D',\n",
       " '/archive/bioinformatics/DLLab/AlexTreacher/data/20210825_ABIDE_CPAC/ABIDEI/derivatives/CPAC/output/cpac_cpac-custom-nuisance/sub-0050003_ses-1/func/sub-0050003_ses-1_task-rest_run-1_framewise-displacement-jenkinson.1D',\n",
       " '/archive/bioinformatics/DLLab/AlexTreacher/data/20210825_ABIDE_CPAC/ABIDEI/derivatives/CPAC/output/cpac_cpac-custom-nuisance/sub-0050744_ses-1/func/sub-0050744_ses-1_task-rest_run-1_framewise-displacement-jenkinson.1D',\n",
       " '/archive/bioinformatics/DLLab/AlexTreacher/data/20210825_ABIDE_CPAC/ABIDEI/derivatives/CPAC/output/cpac_cpac-custom-nuisance/sub-0050158_ses-1/func/sub-0050158_ses-1_task-rest_run-1_framewise-displacement-jenkinson.1D',\n",
       " '/archive/bioinformatics/DLLab/AlexTreacher/data/20210825_ABIDE_CPAC/ABIDEI/derivatives/CPAC/output/cpac_cpac-custom-nuisance/sub-0050158_ses-1/func/sub-0050158_ses-1_task-rest_run-2_framewise-displacement-jenkinson.1D',\n",
       " '/archive/bioinformatics/DLLab/AlexTreacher/data/20210825_ABIDE_CPAC/ABIDEI/derivatives/CPAC/output/cpac_cpac-custom-nuisance/sub-0050560_ses-1/func/sub-0050560_ses-1_task-rest_run-1_framewise-displacement-jenkinson.1D',\n",
       " '/archive/bioinformatics/DLLab/AlexTreacher/data/20210825_ABIDE_CPAC/ABIDEI/derivatives/CPAC/output/cpac_cpac-custom-nuisance/sub-0051564_ses-1/func/sub-0051564_ses-1_task-rest_run-1_framewise-displacement-jenkinson.1D',\n",
       " '/archive/bioinformatics/DLLab/AlexTreacher/data/20210825_ABIDE_CPAC/ABIDEI/derivatives/CPAC/output/cpac_cpac-custom-nuisance/sub-0051136_ses-1/func/sub-0051136_ses-1_task-rest_run-1_framewise-displacement-jenkinson.1D',\n",
       " '/archive/bioinformatics/DLLab/AlexTreacher/data/20210825_ABIDE_CPAC/ABIDEI/derivatives/CPAC/output/cpac_cpac-custom-nuisance/sub-0050958_ses-1/func/sub-0050958_ses-1_task-rest_run-1_framewise-displacement-jenkinson.1D',\n",
       " '/archive/bioinformatics/DLLab/AlexTreacher/data/20210825_ABIDE_CPAC/ABIDEI/derivatives/CPAC/output/cpac_cpac-custom-nuisance/sub-0050504_ses-1/func/sub-0050504_ses-1_task-rest_run-1_framewise-displacement-jenkinson.1D',\n",
       " '/archive/bioinformatics/DLLab/AlexTreacher/data/20210825_ABIDE_CPAC/ABIDEI/derivatives/CPAC/output/cpac_cpac-custom-nuisance/sub-0050341_ses-1/func/sub-0050341_ses-1_task-rest_run-1_framewise-displacement-jenkinson.1D',\n",
       " '/archive/bioinformatics/DLLab/AlexTreacher/data/20210825_ABIDE_CPAC/ABIDEI/derivatives/CPAC/output/cpac_cpac-custom-nuisance/sub-0051061_ses-1/func/sub-0051061_ses-1_task-rest_run-1_framewise-displacement-jenkinson.1D',\n",
       " '/archive/bioinformatics/DLLab/AlexTreacher/data/20210825_ABIDE_CPAC/ABIDEI/derivatives/CPAC/output/cpac_cpac-custom-nuisance/sub-0050277_ses-1/func/sub-0050277_ses-1_task-rest_run-1_framewise-displacement-jenkinson.1D',\n",
       " '/archive/bioinformatics/DLLab/AlexTreacher/data/20210825_ABIDE_CPAC/ABIDEI/derivatives/CPAC/output/cpac_cpac-custom-nuisance/sub-0050009_ses-1/func/sub-0050009_ses-1_task-rest_run-1_framewise-displacement-jenkinson.1D',\n",
       " '/archive/bioinformatics/DLLab/AlexTreacher/data/20210825_ABIDE_CPAC/ABIDEI/derivatives/CPAC/output/cpac_cpac-custom-nuisance/sub-0050309_ses-1/func/sub-0050309_ses-1_task-rest_run-1_framewise-displacement-jenkinson.1D',\n",
       " '/archive/bioinformatics/DLLab/AlexTreacher/data/20210825_ABIDE_CPAC/ABIDEI/derivatives/CPAC/output/cpac_cpac-custom-nuisance/sub-0050019_ses-1/func/sub-0050019_ses-1_task-rest_run-1_framewise-displacement-jenkinson.1D',\n",
       " '/archive/bioinformatics/DLLab/AlexTreacher/data/20210825_ABIDE_CPAC/ABIDEI/derivatives/CPAC/output/cpac_cpac-custom-nuisance/sub-0050059_ses-1/func/sub-0050059_ses-1_task-rest_run-1_framewise-displacement-jenkinson.1D',\n",
       " '/archive/bioinformatics/DLLab/AlexTreacher/data/20210825_ABIDE_CPAC/ABIDEI/derivatives/CPAC/output/cpac_cpac-custom-nuisance/sub-0050271_ses-1/func/sub-0050271_ses-1_task-rest_run-1_framewise-displacement-jenkinson.1D',\n",
       " '/archive/bioinformatics/DLLab/AlexTreacher/data/20210825_ABIDE_CPAC/ABIDEI/derivatives/CPAC/output/cpac_cpac-custom-nuisance/sub-0051580_ses-1/func/sub-0051580_ses-1_task-rest_run-1_framewise-displacement-jenkinson.1D',\n",
       " '/archive/bioinformatics/DLLab/AlexTreacher/data/20210825_ABIDE_CPAC/ABIDEI/derivatives/CPAC/output/cpac_cpac-custom-nuisance/sub-0050371_ses-1/func/sub-0050371_ses-1_task-rest_run-1_framewise-displacement-jenkinson.1D',\n",
       " '/archive/bioinformatics/DLLab/AlexTreacher/data/20210825_ABIDE_CPAC/ABIDEI/derivatives/CPAC/output/cpac_cpac-custom-nuisance/sub-0050996_ses-1/func/sub-0050996_ses-1_task-rest_run-1_framewise-displacement-jenkinson.1D',\n",
       " '/archive/bioinformatics/DLLab/AlexTreacher/data/20210825_ABIDE_CPAC/ABIDEI/derivatives/CPAC/output/cpac_cpac-custom-nuisance/sub-0050444_ses-1/func/sub-0050444_ses-1_task-rest_run-1_framewise-displacement-jenkinson.1D',\n",
       " '/archive/bioinformatics/DLLab/AlexTreacher/data/20210825_ABIDE_CPAC/ABIDEI/derivatives/CPAC/output/cpac_cpac-custom-nuisance/sub-0051559_ses-1/func/sub-0051559_ses-1_task-rest_run-1_framewise-displacement-jenkinson.1D',\n",
       " '/archive/bioinformatics/DLLab/AlexTreacher/data/20210825_ABIDE_CPAC/ABIDEI/derivatives/CPAC/output/cpac_cpac-custom-nuisance/sub-0051584_ses-1/func/sub-0051584_ses-1_task-rest_run-1_framewise-displacement-jenkinson.1D',\n",
       " '/archive/bioinformatics/DLLab/AlexTreacher/data/20210825_ABIDE_CPAC/ABIDEI/derivatives/CPAC/output/cpac_cpac-custom-nuisance/sub-0051055_ses-1/func/sub-0051055_ses-1_task-rest_run-1_framewise-displacement-jenkinson.1D',\n",
       " '/archive/bioinformatics/DLLab/AlexTreacher/data/20210825_ABIDE_CPAC/ABIDEI/derivatives/CPAC/output/cpac_cpac-custom-nuisance/sub-0050967_ses-1/func/sub-0050967_ses-1_task-rest_run-1_framewise-displacement-jenkinson.1D',\n",
       " '/archive/bioinformatics/DLLab/AlexTreacher/data/20210825_ABIDE_CPAC/ABIDEI/derivatives/CPAC/output/cpac_cpac-custom-nuisance/sub-0050130_ses-1/func/sub-0050130_ses-1_task-rest_run-1_framewise-displacement-jenkinson.1D',\n",
       " '/archive/bioinformatics/DLLab/AlexTreacher/data/20210825_ABIDE_CPAC/ABIDEI/derivatives/CPAC/output/cpac_cpac-custom-nuisance/sub-0051206_ses-1/func/sub-0051206_ses-1_task-rest_run-1_framewise-displacement-jenkinson.1D',\n",
       " '/archive/bioinformatics/DLLab/AlexTreacher/data/20210825_ABIDE_CPAC/ABIDEI/derivatives/CPAC/output/cpac_cpac-custom-nuisance/sub-0050054_ses-1/func/sub-0050054_ses-1_task-rest_run-1_framewise-displacement-jenkinson.1D',\n",
       " '/archive/bioinformatics/DLLab/AlexTreacher/data/20210825_ABIDE_CPAC/ABIDEI/derivatives/CPAC/output/cpac_cpac-custom-nuisance/sub-0050289_ses-1/func/sub-0050289_ses-1_task-rest_run-1_framewise-displacement-jenkinson.1D',\n",
       " '/archive/bioinformatics/DLLab/AlexTreacher/data/20210825_ABIDE_CPAC/ABIDEI/derivatives/CPAC/output/cpac_cpac-custom-nuisance/sub-0050608_ses-1/func/sub-0050608_ses-1_task-rest_run-1_framewise-displacement-jenkinson.1D',\n",
       " '/archive/bioinformatics/DLLab/AlexTreacher/data/20210825_ABIDE_CPAC/ABIDEI/derivatives/CPAC/output/cpac_cpac-custom-nuisance/sub-0050460_ses-1/func/sub-0050460_ses-1_task-rest_run-1_framewise-displacement-jenkinson.1D',\n",
       " '/archive/bioinformatics/DLLab/AlexTreacher/data/20210825_ABIDE_CPAC/ABIDEI/derivatives/CPAC/output/cpac_cpac-custom-nuisance/sub-0050648_ses-1/func/sub-0050648_ses-1_task-rest_run-1_framewise-displacement-jenkinson.1D',\n",
       " '/archive/bioinformatics/DLLab/AlexTreacher/data/20210825_ABIDE_CPAC/ABIDEI/derivatives/CPAC/output/cpac_cpac-custom-nuisance/sub-0050312_ses-1/func/sub-0050312_ses-1_task-rest_run-1_framewise-displacement-jenkinson.1D',\n",
       " '/archive/bioinformatics/DLLab/AlexTreacher/data/20210825_ABIDE_CPAC/ABIDEI/derivatives/CPAC/output/cpac_cpac-custom-nuisance/sub-0051101_ses-1/func/sub-0051101_ses-1_task-rest_run-1_framewise-displacement-jenkinson.1D',\n",
       " '/archive/bioinformatics/DLLab/AlexTreacher/data/20210825_ABIDE_CPAC/ABIDEI/derivatives/CPAC/output/cpac_cpac-custom-nuisance/sub-0050774_ses-1/func/sub-0050774_ses-1_task-rest_run-1_framewise-displacement-jenkinson.1D',\n",
       " '/archive/bioinformatics/DLLab/AlexTreacher/data/20210825_ABIDE_CPAC/ABIDEI/derivatives/CPAC/output/cpac_cpac-custom-nuisance/sub-0051321_ses-1/func/sub-0051321_ses-1_task-rest_run-1_framewise-displacement-jenkinson.1D',\n",
       " '/archive/bioinformatics/DLLab/AlexTreacher/data/20210825_ABIDE_CPAC/ABIDEI/derivatives/CPAC/output/cpac_cpac-custom-nuisance/sub-0050748_ses-1/func/sub-0050748_ses-1_task-rest_run-1_framewise-displacement-jenkinson.1D',\n",
       " '/archive/bioinformatics/DLLab/AlexTreacher/data/20210825_ABIDE_CPAC/ABIDEI/derivatives/CPAC/output/cpac_cpac-custom-nuisance/sub-0050350_ses-1/func/sub-0050350_ses-1_task-rest_run-1_framewise-displacement-jenkinson.1D',\n",
       " '/archive/bioinformatics/DLLab/AlexTreacher/data/20210825_ABIDE_CPAC/ABIDEI/derivatives/CPAC/output/cpac_cpac-custom-nuisance/sub-0050324_ses-1/func/sub-0050324_ses-1_task-rest_run-1_framewise-displacement-jenkinson.1D',\n",
       " '/archive/bioinformatics/DLLab/AlexTreacher/data/20210825_ABIDE_CPAC/ABIDEI/derivatives/CPAC/output/cpac_cpac-custom-nuisance/sub-0050490_ses-1/func/sub-0050490_ses-1_task-rest_run-1_framewise-displacement-jenkinson.1D',\n",
       " '/archive/bioinformatics/DLLab/AlexTreacher/data/20210825_ABIDE_CPAC/ABIDEI/derivatives/CPAC/output/cpac_cpac-custom-nuisance/sub-0051154_ses-1/func/sub-0051154_ses-1_task-rest_run-1_framewise-displacement-jenkinson.1D',\n",
       " '/archive/bioinformatics/DLLab/AlexTreacher/data/20210825_ABIDE_CPAC/ABIDEI/derivatives/CPAC/output/cpac_cpac-custom-nuisance/sub-0051073_ses-1/func/sub-0051073_ses-1_task-rest_run-1_framewise-displacement-jenkinson.1D',\n",
       " '/archive/bioinformatics/DLLab/AlexTreacher/data/20210825_ABIDE_CPAC/ABIDEI/derivatives/CPAC/output/cpac_cpac-custom-nuisance/sub-0050775_ses-1/func/sub-0050775_ses-1_task-rest_run-1_framewise-displacement-jenkinson.1D',\n",
       " '/archive/bioinformatics/DLLab/AlexTreacher/data/20210825_ABIDE_CPAC/ABIDEI/derivatives/CPAC/output/cpac_cpac-custom-nuisance/sub-0050136_ses-1/func/sub-0050136_ses-1_task-rest_run-1_framewise-displacement-jenkinson.1D',\n",
       " '/archive/bioinformatics/DLLab/AlexTreacher/data/20210825_ABIDE_CPAC/ABIDEI/derivatives/CPAC/output/cpac_cpac-custom-nuisance/sub-0050436_ses-1/func/sub-0050436_ses-1_task-rest_run-1_framewise-displacement-jenkinson.1D',\n",
       " '/archive/bioinformatics/DLLab/AlexTreacher/data/20210825_ABIDE_CPAC/ABIDEI/derivatives/CPAC/output/cpac_cpac-custom-nuisance/sub-0050274_ses-1/func/sub-0050274_ses-1_task-rest_run-1_framewise-displacement-jenkinson.1D',\n",
       " '/archive/bioinformatics/DLLab/AlexTreacher/data/20210825_ABIDE_CPAC/ABIDEI/derivatives/CPAC/output/cpac_cpac-custom-nuisance/sub-0050620_ses-1/func/sub-0050620_ses-1_task-rest_run-1_framewise-displacement-jenkinson.1D',\n",
       " '/archive/bioinformatics/DLLab/AlexTreacher/data/20210825_ABIDE_CPAC/ABIDEI/derivatives/CPAC/output/cpac_cpac-custom-nuisance/sub-0051357_ses-1/func/sub-0051357_ses-1_task-rest_run-1_framewise-displacement-jenkinson.1D',\n",
       " '/archive/bioinformatics/DLLab/AlexTreacher/data/20210825_ABIDE_CPAC/ABIDEI/derivatives/CPAC/output/cpac_cpac-custom-nuisance/sub-0050056_ses-1/func/sub-0050056_ses-1_task-rest_run-1_framewise-displacement-jenkinson.1D',\n",
       " '/archive/bioinformatics/DLLab/AlexTreacher/data/20210825_ABIDE_CPAC/ABIDEI/derivatives/CPAC/output/cpac_cpac-custom-nuisance/sub-0050479_ses-1/func/sub-0050479_ses-1_task-rest_run-1_framewise-displacement-jenkinson.1D',\n",
       " '/archive/bioinformatics/DLLab/AlexTreacher/data/20210825_ABIDE_CPAC/ABIDEI/derivatives/CPAC/output/cpac_cpac-custom-nuisance/sub-0050370_ses-1/func/sub-0050370_ses-1_task-rest_run-1_framewise-displacement-jenkinson.1D',\n",
       " '/archive/bioinformatics/DLLab/AlexTreacher/data/20210825_ABIDE_CPAC/ABIDEI/derivatives/CPAC/output/cpac_cpac-custom-nuisance/sub-0051260_ses-1/func/sub-0051260_ses-1_task-rest_run-1_framewise-displacement-jenkinson.1D',\n",
       " '/archive/bioinformatics/DLLab/AlexTreacher/data/20210825_ABIDE_CPAC/ABIDEI/derivatives/CPAC/output/cpac_cpac-custom-nuisance/sub-0050823_ses-1/func/sub-0050823_ses-1_task-rest_run-1_framewise-displacement-jenkinson.1D',\n",
       " '/archive/bioinformatics/DLLab/AlexTreacher/data/20210825_ABIDE_CPAC/ABIDEI/derivatives/CPAC/output/cpac_cpac-custom-nuisance/sub-0050428_ses-1/func/sub-0050428_ses-1_task-rest_run-1_framewise-displacement-jenkinson.1D',\n",
       " '/archive/bioinformatics/DLLab/AlexTreacher/data/20210825_ABIDE_CPAC/ABIDEI/derivatives/CPAC/output/cpac_cpac-custom-nuisance/sub-0050478_ses-1/func/sub-0050478_ses-1_task-rest_run-1_framewise-displacement-jenkinson.1D',\n",
       " '/archive/bioinformatics/DLLab/AlexTreacher/data/20210825_ABIDE_CPAC/ABIDEI/derivatives/CPAC/output/cpac_cpac-custom-nuisance/sub-0050669_ses-1/func/sub-0050669_ses-1_task-rest_run-1_framewise-displacement-jenkinson.1D',\n",
       " '/archive/bioinformatics/DLLab/AlexTreacher/data/20210825_ABIDE_CPAC/ABIDEI/derivatives/CPAC/output/cpac_cpac-custom-nuisance/sub-0051488_ses-1/func/sub-0051488_ses-1_task-rest_run-1_framewise-displacement-jenkinson.1D',\n",
       " '/archive/bioinformatics/DLLab/AlexTreacher/data/20210825_ABIDE_CPAC/ABIDEI/derivatives/CPAC/output/cpac_cpac-custom-nuisance/sub-0051470_ses-1/func/sub-0051470_ses-1_task-rest_run-1_framewise-displacement-jenkinson.1D',\n",
       " '/archive/bioinformatics/DLLab/AlexTreacher/data/20210825_ABIDE_CPAC/ABIDEI/derivatives/CPAC/output/cpac_cpac-custom-nuisance/sub-0050417_ses-1/func/sub-0050417_ses-1_task-rest_run-1_framewise-displacement-jenkinson.1D',\n",
       " '/archive/bioinformatics/DLLab/AlexTreacher/data/20210825_ABIDE_CPAC/ABIDEI/derivatives/CPAC/output/cpac_cpac-custom-nuisance/sub-0051366_ses-1/func/sub-0051366_ses-1_task-rest_run-1_framewise-displacement-jenkinson.1D',\n",
       " '/archive/bioinformatics/DLLab/AlexTreacher/data/20210825_ABIDE_CPAC/ABIDEI/derivatives/CPAC/output/cpac_cpac-custom-nuisance/sub-0050057_ses-1/func/sub-0050057_ses-1_task-rest_run-1_framewise-displacement-jenkinson.1D',\n",
       " '/archive/bioinformatics/DLLab/AlexTreacher/data/20210825_ABIDE_CPAC/ABIDEI/derivatives/CPAC/output/cpac_cpac-custom-nuisance/sub-0050735_ses-1/func/sub-0050735_ses-1_task-rest_run-1_framewise-displacement-jenkinson.1D',\n",
       " '/archive/bioinformatics/DLLab/AlexTreacher/data/20210825_ABIDE_CPAC/ABIDEI/derivatives/CPAC/output/cpac_cpac-custom-nuisance/sub-0050572_ses-1/func/sub-0050572_ses-1_task-rest_run-1_framewise-displacement-jenkinson.1D',\n",
       " '/archive/bioinformatics/DLLab/AlexTreacher/data/20210825_ABIDE_CPAC/ABIDEI/derivatives/CPAC/output/cpac_cpac-custom-nuisance/sub-0050286_ses-1/func/sub-0050286_ses-1_task-rest_run-1_framewise-displacement-jenkinson.1D',\n",
       " '/archive/bioinformatics/DLLab/AlexTreacher/data/20210825_ABIDE_CPAC/ABIDEI/derivatives/CPAC/output/cpac_cpac-custom-nuisance/sub-0050473_ses-1/func/sub-0050473_ses-1_task-rest_run-1_framewise-displacement-jenkinson.1D',\n",
       " '/archive/bioinformatics/DLLab/AlexTreacher/data/20210825_ABIDE_CPAC/ABIDEI/derivatives/CPAC/output/cpac_cpac-custom-nuisance/sub-0051235_ses-1/func/sub-0051235_ses-1_task-rest_run-1_framewise-displacement-jenkinson.1D',\n",
       " '/archive/bioinformatics/DLLab/AlexTreacher/data/20210825_ABIDE_CPAC/ABIDEI/derivatives/CPAC/output/cpac_cpac-custom-nuisance/sub-0051124_ses-1/func/sub-0051124_ses-1_task-rest_run-1_framewise-displacement-jenkinson.1D',\n",
       " '/archive/bioinformatics/DLLab/AlexTreacher/data/20210825_ABIDE_CPAC/ABIDEI/derivatives/CPAC/output/cpac_cpac-custom-nuisance/sub-0051125_ses-1/func/sub-0051125_ses-1_task-rest_run-1_framewise-displacement-jenkinson.1D',\n",
       " '/archive/bioinformatics/DLLab/AlexTreacher/data/20210825_ABIDE_CPAC/ABIDEI/derivatives/CPAC/output/cpac_cpac-custom-nuisance/sub-0051071_ses-1/func/sub-0051071_ses-1_task-rest_run-1_framewise-displacement-jenkinson.1D',\n",
       " '/archive/bioinformatics/DLLab/AlexTreacher/data/20210825_ABIDE_CPAC/ABIDEI/derivatives/CPAC/output/cpac_cpac-custom-nuisance/sub-0050576_ses-1/func/sub-0050576_ses-1_task-rest_run-1_framewise-displacement-jenkinson.1D',\n",
       " '/archive/bioinformatics/DLLab/AlexTreacher/data/20210825_ABIDE_CPAC/ABIDEI/derivatives/CPAC/output/cpac_cpac-custom-nuisance/sub-0051139_ses-1/func/sub-0051139_ses-1_task-rest_run-1_framewise-displacement-jenkinson.1D',\n",
       " '/archive/bioinformatics/DLLab/AlexTreacher/data/20210825_ABIDE_CPAC/ABIDEI/derivatives/CPAC/output/cpac_cpac-custom-nuisance/sub-0051492_ses-1/func/sub-0051492_ses-1_task-rest_run-1_framewise-displacement-jenkinson.1D',\n",
       " '/archive/bioinformatics/DLLab/AlexTreacher/data/20210825_ABIDE_CPAC/ABIDEI/derivatives/CPAC/output/cpac_cpac-custom-nuisance/sub-0051472_ses-1/func/sub-0051472_ses-1_task-rest_run-1_framewise-displacement-jenkinson.1D',\n",
       " '/archive/bioinformatics/DLLab/AlexTreacher/data/20210825_ABIDE_CPAC/ABIDEI/derivatives/CPAC/output/cpac_cpac-custom-nuisance/sub-0051025_ses-1/func/sub-0051025_ses-1_task-rest_run-1_framewise-displacement-jenkinson.1D',\n",
       " '/archive/bioinformatics/DLLab/AlexTreacher/data/20210825_ABIDE_CPAC/ABIDEI/derivatives/CPAC/output/cpac_cpac-custom-nuisance/sub-0050413_ses-1/func/sub-0050413_ses-1_task-rest_run-1_framewise-displacement-jenkinson.1D',\n",
       " '/archive/bioinformatics/DLLab/AlexTreacher/data/20210825_ABIDE_CPAC/ABIDEI/derivatives/CPAC/output/cpac_cpac-custom-nuisance/sub-0050317_ses-1/func/sub-0050317_ses-1_task-rest_run-1_framewise-displacement-jenkinson.1D',\n",
       " '/archive/bioinformatics/DLLab/AlexTreacher/data/20210825_ABIDE_CPAC/ABIDEI/derivatives/CPAC/output/cpac_cpac-custom-nuisance/sub-0050437_ses-1/func/sub-0050437_ses-1_task-rest_run-1_framewise-displacement-jenkinson.1D',\n",
       " '/archive/bioinformatics/DLLab/AlexTreacher/data/20210825_ABIDE_CPAC/ABIDEI/derivatives/CPAC/output/cpac_cpac-custom-nuisance/sub-0051097_ses-1/func/sub-0051097_ses-1_task-rest_run-1_framewise-displacement-jenkinson.1D',\n",
       " '/archive/bioinformatics/DLLab/AlexTreacher/data/20210825_ABIDE_CPAC/ABIDEI/derivatives/CPAC/output/cpac_cpac-custom-nuisance/sub-0051572_ses-1/func/sub-0051572_ses-1_task-rest_run-1_framewise-displacement-jenkinson.1D',\n",
       " '/archive/bioinformatics/DLLab/AlexTreacher/data/20210825_ABIDE_CPAC/ABIDEI/derivatives/CPAC/output/cpac_cpac-custom-nuisance/sub-0050353_ses-1/func/sub-0050353_ses-1_task-rest_run-1_framewise-displacement-jenkinson.1D',\n",
       " '/archive/bioinformatics/DLLab/AlexTreacher/data/20210825_ABIDE_CPAC/ABIDEI/derivatives/CPAC/output/cpac_cpac-custom-nuisance/sub-0051567_ses-1/func/sub-0051567_ses-1_task-rest_run-1_framewise-displacement-jenkinson.1D',\n",
       " '/archive/bioinformatics/DLLab/AlexTreacher/data/20210825_ABIDE_CPAC/ABIDEI/derivatives/CPAC/output/cpac_cpac-custom-nuisance/sub-0050414_ses-1/func/sub-0050414_ses-1_task-rest_run-1_framewise-displacement-jenkinson.1D',\n",
       " '/archive/bioinformatics/DLLab/AlexTreacher/data/20210825_ABIDE_CPAC/ABIDEI/derivatives/CPAC/output/cpac_cpac-custom-nuisance/sub-0051009_ses-1/func/sub-0051009_ses-1_task-rest_run-1_framewise-displacement-jenkinson.1D',\n",
       " '/archive/bioinformatics/DLLab/AlexTreacher/data/20210825_ABIDE_CPAC/ABIDEI/derivatives/CPAC/output/cpac_cpac-custom-nuisance/sub-0050690_ses-1/func/sub-0050690_ses-1_task-rest_run-1_framewise-displacement-jenkinson.1D',\n",
       " '/archive/bioinformatics/DLLab/AlexTreacher/data/20210825_ABIDE_CPAC/ABIDEI/derivatives/CPAC/output/cpac_cpac-custom-nuisance/sub-0051046_ses-1/func/sub-0051046_ses-1_task-rest_run-1_framewise-displacement-jenkinson.1D',\n",
       " '/archive/bioinformatics/DLLab/AlexTreacher/data/20210825_ABIDE_CPAC/ABIDEI/derivatives/CPAC/output/cpac_cpac-custom-nuisance/sub-0050157_ses-1/func/sub-0050157_ses-1_task-rest_run-2_framewise-displacement-jenkinson.1D',\n",
       " '/archive/bioinformatics/DLLab/AlexTreacher/data/20210825_ABIDE_CPAC/ABIDEI/derivatives/CPAC/output/cpac_cpac-custom-nuisance/sub-0050157_ses-1/func/sub-0050157_ses-1_task-rest_run-3_framewise-displacement-jenkinson.1D',\n",
       " '/archive/bioinformatics/DLLab/AlexTreacher/data/20210825_ABIDE_CPAC/ABIDEI/derivatives/CPAC/output/cpac_cpac-custom-nuisance/sub-0050157_ses-1/func/sub-0050157_ses-1_task-rest_run-1_framewise-displacement-jenkinson.1D',\n",
       " '/archive/bioinformatics/DLLab/AlexTreacher/data/20210825_ABIDE_CPAC/ABIDEI/derivatives/CPAC/output/cpac_cpac-custom-nuisance/sub-0050235_ses-1/func/sub-0050235_ses-1_task-rest_run-1_framewise-displacement-jenkinson.1D',\n",
       " '/archive/bioinformatics/DLLab/AlexTreacher/data/20210825_ABIDE_CPAC/ABIDEI/derivatives/CPAC/output/cpac_cpac-custom-nuisance/sub-0051305_ses-1/func/sub-0051305_ses-1_task-rest_run-1_framewise-displacement-jenkinson.1D',\n",
       " '/archive/bioinformatics/DLLab/AlexTreacher/data/20210825_ABIDE_CPAC/ABIDEI/derivatives/CPAC/output/cpac_cpac-custom-nuisance/sub-0051265_ses-1/func/sub-0051265_ses-1_task-rest_run-1_framewise-displacement-jenkinson.1D',\n",
       " '/archive/bioinformatics/DLLab/AlexTreacher/data/20210825_ABIDE_CPAC/ABIDEI/derivatives/CPAC/output/cpac_cpac-custom-nuisance/sub-0051063_ses-1/func/sub-0051063_ses-1_task-rest_run-1_framewise-displacement-jenkinson.1D',\n",
       " '/archive/bioinformatics/DLLab/AlexTreacher/data/20210825_ABIDE_CPAC/ABIDEI/derivatives/CPAC/output/cpac_cpac-custom-nuisance/sub-0051255_ses-1/func/sub-0051255_ses-1_task-rest_run-1_framewise-displacement-jenkinson.1D',\n",
       " '/archive/bioinformatics/DLLab/AlexTreacher/data/20210825_ABIDE_CPAC/ABIDEI/derivatives/CPAC/output/cpac_cpac-custom-nuisance/sub-0051030_ses-1/func/sub-0051030_ses-1_task-rest_run-1_framewise-displacement-jenkinson.1D',\n",
       " '/archive/bioinformatics/DLLab/AlexTreacher/data/20210825_ABIDE_CPAC/ABIDEI/derivatives/CPAC/output/cpac_cpac-custom-nuisance/sub-0051079_ses-1/func/sub-0051079_ses-1_task-rest_run-1_framewise-displacement-jenkinson.1D',\n",
       " '/archive/bioinformatics/DLLab/AlexTreacher/data/20210825_ABIDE_CPAC/ABIDEI/derivatives/CPAC/output/cpac_cpac-custom-nuisance/sub-0051320_ses-1/func/sub-0051320_ses-1_task-rest_run-1_framewise-displacement-jenkinson.1D',\n",
       " '/archive/bioinformatics/DLLab/AlexTreacher/data/20210825_ABIDE_CPAC/ABIDEI/derivatives/CPAC/output/cpac_cpac-custom-nuisance/sub-0050723_ses-1/func/sub-0050723_ses-1_task-rest_run-1_framewise-displacement-jenkinson.1D',\n",
       " '/archive/bioinformatics/DLLab/AlexTreacher/data/20210825_ABIDE_CPAC/ABIDEI/derivatives/CPAC/output/cpac_cpac-custom-nuisance/sub-0050300_ses-1/func/sub-0050300_ses-1_task-rest_run-1_framewise-displacement-jenkinson.1D',\n",
       " '/archive/bioinformatics/DLLab/AlexTreacher/data/20210825_ABIDE_CPAC/ABIDEI/derivatives/CPAC/output/cpac_cpac-custom-nuisance/sub-0050551_ses-1/func/sub-0050551_ses-1_task-rest_run-1_framewise-displacement-jenkinson.1D',\n",
       " '/archive/bioinformatics/DLLab/AlexTreacher/data/20210825_ABIDE_CPAC/ABIDEI/derivatives/CPAC/output/cpac_cpac-custom-nuisance/sub-0050363_ses-1/func/sub-0050363_ses-1_task-rest_run-1_framewise-displacement-jenkinson.1D',\n",
       " '/archive/bioinformatics/DLLab/AlexTreacher/data/20210825_ABIDE_CPAC/ABIDEI/derivatives/CPAC/output/cpac_cpac-custom-nuisance/sub-0050152_ses-1/func/sub-0050152_ses-1_task-rest_run-2_framewise-displacement-jenkinson.1D',\n",
       " '/archive/bioinformatics/DLLab/AlexTreacher/data/20210825_ABIDE_CPAC/ABIDEI/derivatives/CPAC/output/cpac_cpac-custom-nuisance/sub-0050152_ses-1/func/sub-0050152_ses-1_task-rest_run-1_framewise-displacement-jenkinson.1D',\n",
       " '/archive/bioinformatics/DLLab/AlexTreacher/data/20210825_ABIDE_CPAC/ABIDEI/derivatives/CPAC/output/cpac_cpac-custom-nuisance/sub-0050152_ses-1/func/sub-0050152_ses-1_task-rest_run-3_framewise-displacement-jenkinson.1D',\n",
       " '/archive/bioinformatics/DLLab/AlexTreacher/data/20210825_ABIDE_CPAC/ABIDEI/derivatives/CPAC/output/cpac_cpac-custom-nuisance/sub-0050487_ses-1/func/sub-0050487_ses-1_task-rest_run-1_framewise-displacement-jenkinson.1D',\n",
       " '/archive/bioinformatics/DLLab/AlexTreacher/data/20210825_ABIDE_CPAC/ABIDEI/derivatives/CPAC/output/cpac_cpac-custom-nuisance/sub-0051107_ses-1/func/sub-0051107_ses-1_task-rest_run-1_framewise-displacement-jenkinson.1D',\n",
       " '/archive/bioinformatics/DLLab/AlexTreacher/data/20210825_ABIDE_CPAC/ABIDEI/derivatives/CPAC/output/cpac_cpac-custom-nuisance/sub-0051072_ses-1/func/sub-0051072_ses-1_task-rest_run-1_framewise-displacement-jenkinson.1D',\n",
       " '/archive/bioinformatics/DLLab/AlexTreacher/data/20210825_ABIDE_CPAC/ABIDEI/derivatives/CPAC/output/cpac_cpac-custom-nuisance/sub-0051137_ses-1/func/sub-0051137_ses-1_task-rest_run-1_framewise-displacement-jenkinson.1D',\n",
       " '/archive/bioinformatics/DLLab/AlexTreacher/data/20210825_ABIDE_CPAC/ABIDEI/derivatives/CPAC/output/cpac_cpac-custom-nuisance/sub-0050390_ses-1/func/sub-0050390_ses-1_task-rest_run-1_framewise-displacement-jenkinson.1D',\n",
       " '/archive/bioinformatics/DLLab/AlexTreacher/data/20210825_ABIDE_CPAC/ABIDEI/derivatives/CPAC/output/cpac_cpac-custom-nuisance/sub-0051239_ses-1/func/sub-0051239_ses-1_task-rest_run-1_framewise-displacement-jenkinson.1D',\n",
       " '/archive/bioinformatics/DLLab/AlexTreacher/data/20210825_ABIDE_CPAC/ABIDEI/derivatives/CPAC/output/cpac_cpac-custom-nuisance/sub-0050004_ses-1/func/sub-0050004_ses-1_task-rest_run-1_framewise-displacement-jenkinson.1D',\n",
       " '/archive/bioinformatics/DLLab/AlexTreacher/data/20210825_ABIDE_CPAC/ABIDEI/derivatives/CPAC/output/cpac_cpac-custom-nuisance/sub-0050285_ses-1/func/sub-0050285_ses-1_task-rest_run-1_framewise-displacement-jenkinson.1D',\n",
       " '/archive/bioinformatics/DLLab/AlexTreacher/data/20210825_ABIDE_CPAC/ABIDEI/derivatives/CPAC/output/cpac_cpac-custom-nuisance/sub-0051478_ses-1/func/sub-0051478_ses-1_task-rest_run-1_framewise-displacement-jenkinson.1D',\n",
       " '/archive/bioinformatics/DLLab/AlexTreacher/data/20210825_ABIDE_CPAC/ABIDEI/derivatives/CPAC/output/cpac_cpac-custom-nuisance/sub-0050355_ses-1/func/sub-0050355_ses-1_task-rest_run-1_framewise-displacement-jenkinson.1D',\n",
       " '/archive/bioinformatics/DLLab/AlexTreacher/data/20210825_ABIDE_CPAC/ABIDEI/derivatives/CPAC/output/cpac_cpac-custom-nuisance/sub-0050691_ses-1/func/sub-0050691_ses-1_task-rest_run-1_framewise-displacement-jenkinson.1D',\n",
       " '/archive/bioinformatics/DLLab/AlexTreacher/data/20210825_ABIDE_CPAC/ABIDEI/derivatives/CPAC/output/cpac_cpac-custom-nuisance/sub-0050303_ses-1/func/sub-0050303_ses-1_task-rest_run-1_framewise-displacement-jenkinson.1D',\n",
       " '/archive/bioinformatics/DLLab/AlexTreacher/data/20210825_ABIDE_CPAC/ABIDEI/derivatives/CPAC/output/cpac_cpac-custom-nuisance/sub-0051465_ses-1/func/sub-0051465_ses-1_task-rest_run-1_framewise-displacement-jenkinson.1D',\n",
       " '/archive/bioinformatics/DLLab/AlexTreacher/data/20210825_ABIDE_CPAC/ABIDEI/derivatives/CPAC/output/cpac_cpac-custom-nuisance/sub-0050257_ses-1/func/sub-0050257_ses-1_task-rest_run-1_framewise-displacement-jenkinson.1D',\n",
       " '/archive/bioinformatics/DLLab/AlexTreacher/data/20210825_ABIDE_CPAC/ABIDEI/derivatives/CPAC/output/cpac_cpac-custom-nuisance/sub-0050655_ses-1/func/sub-0050655_ses-1_task-rest_run-1_framewise-displacement-jenkinson.1D',\n",
       " '/archive/bioinformatics/DLLab/AlexTreacher/data/20210825_ABIDE_CPAC/ABIDEI/derivatives/CPAC/output/cpac_cpac-custom-nuisance/sub-0051303_ses-1/func/sub-0051303_ses-1_task-rest_run-1_framewise-displacement-jenkinson.1D',\n",
       " '/archive/bioinformatics/DLLab/AlexTreacher/data/20210825_ABIDE_CPAC/ABIDEI/derivatives/CPAC/output/cpac_cpac-custom-nuisance/sub-0050305_ses-1/func/sub-0050305_ses-1_task-rest_run-1_framewise-displacement-jenkinson.1D',\n",
       " '/archive/bioinformatics/DLLab/AlexTreacher/data/20210825_ABIDE_CPAC/ABIDEI/derivatives/CPAC/output/cpac_cpac-custom-nuisance/sub-0050990_ses-1/func/sub-0050990_ses-1_task-rest_run-1_framewise-displacement-jenkinson.1D',\n",
       " '/archive/bioinformatics/DLLab/AlexTreacher/data/20210825_ABIDE_CPAC/ABIDEI/derivatives/CPAC/output/cpac_cpac-custom-nuisance/sub-0051084_ses-1/func/sub-0051084_ses-1_task-rest_run-1_framewise-displacement-jenkinson.1D',\n",
       " '/archive/bioinformatics/DLLab/AlexTreacher/data/20210825_ABIDE_CPAC/ABIDEI/derivatives/CPAC/output/cpac_cpac-custom-nuisance/sub-0050453_ses-1/func/sub-0050453_ses-1_task-rest_run-1_framewise-displacement-jenkinson.1D',\n",
       " '/archive/bioinformatics/DLLab/AlexTreacher/data/20210825_ABIDE_CPAC/ABIDEI/derivatives/CPAC/output/cpac_cpac-custom-nuisance/sub-0050391_ses-1/func/sub-0050391_ses-1_task-rest_run-1_framewise-displacement-jenkinson.1D',\n",
       " '/archive/bioinformatics/DLLab/AlexTreacher/data/20210825_ABIDE_CPAC/ABIDEI/derivatives/CPAC/output/cpac_cpac-custom-nuisance/sub-0050623_ses-1/func/sub-0050623_ses-1_task-rest_run-1_framewise-displacement-jenkinson.1D',\n",
       " '/archive/bioinformatics/DLLab/AlexTreacher/data/20210825_ABIDE_CPAC/ABIDEI/derivatives/CPAC/output/cpac_cpac-custom-nuisance/sub-0050040_ses-1/func/sub-0050040_ses-1_task-rest_run-1_framewise-displacement-jenkinson.1D',\n",
       " '/archive/bioinformatics/DLLab/AlexTreacher/data/20210825_ABIDE_CPAC/ABIDEI/derivatives/CPAC/output/cpac_cpac-custom-nuisance/sub-0051333_ses-1/func/sub-0051333_ses-1_task-rest_run-1_framewise-displacement-jenkinson.1D',\n",
       " '/archive/bioinformatics/DLLab/AlexTreacher/data/20210825_ABIDE_CPAC/ABIDEI/derivatives/CPAC/output/cpac_cpac-custom-nuisance/sub-0051319_ses-1/func/sub-0051319_ses-1_task-rest_run-1_framewise-displacement-jenkinson.1D',\n",
       " '/archive/bioinformatics/DLLab/AlexTreacher/data/20210825_ABIDE_CPAC/ABIDEI/derivatives/CPAC/output/cpac_cpac-custom-nuisance/sub-0050992_ses-1/func/sub-0050992_ses-1_task-rest_run-1_framewise-displacement-jenkinson.1D',\n",
       " '/archive/bioinformatics/DLLab/AlexTreacher/data/20210825_ABIDE_CPAC/ABIDEI/derivatives/CPAC/output/cpac_cpac-custom-nuisance/sub-0051013_ses-1/func/sub-0051013_ses-1_task-rest_run-1_framewise-displacement-jenkinson.1D',\n",
       " '/archive/bioinformatics/DLLab/AlexTreacher/data/20210825_ABIDE_CPAC/ABIDEI/derivatives/CPAC/output/cpac_cpac-custom-nuisance/sub-0050148_ses-1/func/sub-0050148_ses-1_task-rest_run-3_framewise-displacement-jenkinson.1D',\n",
       " '/archive/bioinformatics/DLLab/AlexTreacher/data/20210825_ABIDE_CPAC/ABIDEI/derivatives/CPAC/output/cpac_cpac-custom-nuisance/sub-0050148_ses-1/func/sub-0050148_ses-1_task-rest_run-2_framewise-displacement-jenkinson.1D',\n",
       " '/archive/bioinformatics/DLLab/AlexTreacher/data/20210825_ABIDE_CPAC/ABIDEI/derivatives/CPAC/output/cpac_cpac-custom-nuisance/sub-0050148_ses-1/func/sub-0050148_ses-1_task-rest_run-1_framewise-displacement-jenkinson.1D',\n",
       " '/archive/bioinformatics/DLLab/AlexTreacher/data/20210825_ABIDE_CPAC/ABIDEI/derivatives/CPAC/output/cpac_cpac-custom-nuisance/sub-0051011_ses-1/func/sub-0051011_ses-1_task-rest_run-1_framewise-displacement-jenkinson.1D',\n",
       " '/archive/bioinformatics/DLLab/AlexTreacher/data/20210825_ABIDE_CPAC/ABIDEI/derivatives/CPAC/output/cpac_cpac-custom-nuisance/sub-0050382_ses-1/func/sub-0050382_ses-1_task-rest_run-1_framewise-displacement-jenkinson.1D',\n",
       " '/archive/bioinformatics/DLLab/AlexTreacher/data/20210825_ABIDE_CPAC/ABIDEI/derivatives/CPAC/output/cpac_cpac-custom-nuisance/sub-0050455_ses-1/func/sub-0050455_ses-1_task-rest_run-1_framewise-displacement-jenkinson.1D',\n",
       " '/archive/bioinformatics/DLLab/AlexTreacher/data/20210825_ABIDE_CPAC/ABIDEI/derivatives/CPAC/output/cpac_cpac-custom-nuisance/sub-0050438_ses-1/func/sub-0050438_ses-1_task-rest_run-1_framewise-displacement-jenkinson.1D',\n",
       " '/archive/bioinformatics/DLLab/AlexTreacher/data/20210825_ABIDE_CPAC/ABIDEI/derivatives/CPAC/output/cpac_cpac-custom-nuisance/sub-0051275_ses-1/func/sub-0051275_ses-1_task-rest_run-1_framewise-displacement-jenkinson.1D',\n",
       " '/archive/bioinformatics/DLLab/AlexTreacher/data/20210825_ABIDE_CPAC/ABIDEI/derivatives/CPAC/output/cpac_cpac-custom-nuisance/sub-0050345_ses-1/func/sub-0050345_ses-1_task-rest_run-1_framewise-displacement-jenkinson.1D',\n",
       " '/archive/bioinformatics/DLLab/AlexTreacher/data/20210825_ABIDE_CPAC/ABIDEI/derivatives/CPAC/output/cpac_cpac-custom-nuisance/sub-0050651_ses-1/func/sub-0050651_ses-1_task-rest_run-1_framewise-displacement-jenkinson.1D',\n",
       " '/archive/bioinformatics/DLLab/AlexTreacher/data/20210825_ABIDE_CPAC/ABIDEI/derivatives/CPAC/output/cpac_cpac-custom-nuisance/sub-0051253_ses-1/func/sub-0051253_ses-1_task-rest_run-1_framewise-displacement-jenkinson.1D',\n",
       " '/archive/bioinformatics/DLLab/AlexTreacher/data/20210825_ABIDE_CPAC/ABIDEI/derivatives/CPAC/output/cpac_cpac-custom-nuisance/sub-0050754_ses-1/func/sub-0050754_ses-1_task-rest_run-1_framewise-displacement-jenkinson.1D',\n",
       " '/archive/bioinformatics/DLLab/AlexTreacher/data/20210825_ABIDE_CPAC/ABIDEI/derivatives/CPAC/output/cpac_cpac-custom-nuisance/sub-0050818_ses-1/func/sub-0050818_ses-1_task-rest_run-1_framewise-displacement-jenkinson.1D',\n",
       " '/archive/bioinformatics/DLLab/AlexTreacher/data/20210825_ABIDE_CPAC/ABIDEI/derivatives/CPAC/output/cpac_cpac-custom-nuisance/sub-0051248_ses-1/func/sub-0051248_ses-1_task-rest_run-1_framewise-displacement-jenkinson.1D',\n",
       " '/archive/bioinformatics/DLLab/AlexTreacher/data/20210825_ABIDE_CPAC/ABIDEI/derivatives/CPAC/output/cpac_cpac-custom-nuisance/sub-0050652_ses-1/func/sub-0050652_ses-1_task-rest_run-1_framewise-displacement-jenkinson.1D',\n",
       " '/archive/bioinformatics/DLLab/AlexTreacher/data/20210825_ABIDE_CPAC/ABIDEI/derivatives/CPAC/output/cpac_cpac-custom-nuisance/sub-0050626_ses-1/func/sub-0050626_ses-1_task-rest_run-1_framewise-displacement-jenkinson.1D',\n",
       " '/archive/bioinformatics/DLLab/AlexTreacher/data/20210825_ABIDE_CPAC/ABIDEI/derivatives/CPAC/output/cpac_cpac-custom-nuisance/sub-0051077_ses-1/func/sub-0051077_ses-1_task-rest_run-1_framewise-displacement-jenkinson.1D',\n",
       " '/archive/bioinformatics/DLLab/AlexTreacher/data/20210825_ABIDE_CPAC/ABIDEI/derivatives/CPAC/output/cpac_cpac-custom-nuisance/sub-0050169_ses-1/func/sub-0050169_ses-1_task-rest_run-1_framewise-displacement-jenkinson.1D',\n",
       " '/archive/bioinformatics/DLLab/AlexTreacher/data/20210825_ABIDE_CPAC/ABIDEI/derivatives/CPAC/output/cpac_cpac-custom-nuisance/sub-0050169_ses-1/func/sub-0050169_ses-1_task-rest_run-2_framewise-displacement-jenkinson.1D',\n",
       " '/archive/bioinformatics/DLLab/AlexTreacher/data/20210825_ABIDE_CPAC/ABIDEI/derivatives/CPAC/output/cpac_cpac-custom-nuisance/sub-0050169_ses-1/func/sub-0050169_ses-1_task-rest_run-3_framewise-displacement-jenkinson.1D',\n",
       " '/archive/bioinformatics/DLLab/AlexTreacher/data/20210825_ABIDE_CPAC/ABIDEI/derivatives/CPAC/output/cpac_cpac-custom-nuisance/sub-0051109_ses-1/func/sub-0051109_ses-1_task-rest_run-1_framewise-displacement-jenkinson.1D',\n",
       " '/archive/bioinformatics/DLLab/AlexTreacher/data/20210825_ABIDE_CPAC/ABIDEI/derivatives/CPAC/output/cpac_cpac-custom-nuisance/sub-0050481_ses-1/func/sub-0050481_ses-1_task-rest_run-1_framewise-displacement-jenkinson.1D',\n",
       " '/archive/bioinformatics/DLLab/AlexTreacher/data/20210825_ABIDE_CPAC/ABIDEI/derivatives/CPAC/output/cpac_cpac-custom-nuisance/sub-0050247_ses-1/func/sub-0050247_ses-1_task-rest_run-1_framewise-displacement-jenkinson.1D',\n",
       " '/archive/bioinformatics/DLLab/AlexTreacher/data/20210825_ABIDE_CPAC/ABIDEI/derivatives/CPAC/output/cpac_cpac-custom-nuisance/sub-0050528_ses-1/func/sub-0050528_ses-1_task-rest_run-1_framewise-displacement-jenkinson.1D',\n",
       " '/archive/bioinformatics/DLLab/AlexTreacher/data/20210825_ABIDE_CPAC/ABIDEI/derivatives/CPAC/output/cpac_cpac-custom-nuisance/sub-0050232_ses-1/func/sub-0050232_ses-1_task-rest_run-1_framewise-displacement-jenkinson.1D',\n",
       " '/archive/bioinformatics/DLLab/AlexTreacher/data/20210825_ABIDE_CPAC/ABIDEI/derivatives/CPAC/output/cpac_cpac-custom-nuisance/sub-0050270_ses-1/func/sub-0050270_ses-1_task-rest_run-1_framewise-displacement-jenkinson.1D',\n",
       " '/archive/bioinformatics/DLLab/AlexTreacher/data/20210825_ABIDE_CPAC/ABIDEI/derivatives/CPAC/output/cpac_cpac-custom-nuisance/sub-0051252_ses-1/func/sub-0051252_ses-1_task-rest_run-1_framewise-displacement-jenkinson.1D',\n",
       " '/archive/bioinformatics/DLLab/AlexTreacher/data/20210825_ABIDE_CPAC/ABIDEI/derivatives/CPAC/output/cpac_cpac-custom-nuisance/sub-0051018_ses-1/func/sub-0051018_ses-1_task-rest_run-1_framewise-displacement-jenkinson.1D',\n",
       " '/archive/bioinformatics/DLLab/AlexTreacher/data/20210825_ABIDE_CPAC/ABIDEI/derivatives/CPAC/output/cpac_cpac-custom-nuisance/sub-0051214_ses-1/func/sub-0051214_ses-1_task-rest_run-1_framewise-displacement-jenkinson.1D',\n",
       " '/archive/bioinformatics/DLLab/AlexTreacher/data/20210825_ABIDE_CPAC/ABIDEI/derivatives/CPAC/output/cpac_cpac-custom-nuisance/sub-0050160_ses-1/func/sub-0050160_ses-1_task-rest_run-1_framewise-displacement-jenkinson.1D',\n",
       " '/archive/bioinformatics/DLLab/AlexTreacher/data/20210825_ABIDE_CPAC/ABIDEI/derivatives/CPAC/output/cpac_cpac-custom-nuisance/sub-0050160_ses-1/func/sub-0050160_ses-1_task-rest_run-2_framewise-displacement-jenkinson.1D',\n",
       " '/archive/bioinformatics/DLLab/AlexTreacher/data/20210825_ABIDE_CPAC/ABIDEI/derivatives/CPAC/output/cpac_cpac-custom-nuisance/sub-0050160_ses-1/func/sub-0050160_ses-1_task-rest_run-3_framewise-displacement-jenkinson.1D',\n",
       " '/archive/bioinformatics/DLLab/AlexTreacher/data/20210825_ABIDE_CPAC/ABIDEI/derivatives/CPAC/output/cpac_cpac-custom-nuisance/sub-0050610_ses-1/func/sub-0050610_ses-1_task-rest_run-1_framewise-displacement-jenkinson.1D',\n",
       " '/archive/bioinformatics/DLLab/AlexTreacher/data/20210825_ABIDE_CPAC/ABIDEI/derivatives/CPAC/output/cpac_cpac-custom-nuisance/sub-0051064_ses-1/func/sub-0051064_ses-1_task-rest_run-1_framewise-displacement-jenkinson.1D',\n",
       " '/archive/bioinformatics/DLLab/AlexTreacher/data/20210825_ABIDE_CPAC/ABIDEI/derivatives/CPAC/output/cpac_cpac-custom-nuisance/sub-0051315_ses-1/func/sub-0051315_ses-1_task-rest_run-1_framewise-displacement-jenkinson.1D',\n",
       " '/archive/bioinformatics/DLLab/AlexTreacher/data/20210825_ABIDE_CPAC/ABIDEI/derivatives/CPAC/output/cpac_cpac-custom-nuisance/sub-0051048_ses-1/func/sub-0051048_ses-1_task-rest_run-1_framewise-displacement-jenkinson.1D',\n",
       " '/archive/bioinformatics/DLLab/AlexTreacher/data/20210825_ABIDE_CPAC/ABIDEI/derivatives/CPAC/output/cpac_cpac-custom-nuisance/sub-0050336_ses-1/func/sub-0050336_ses-1_task-rest_run-1_framewise-displacement-jenkinson.1D',\n",
       " '/archive/bioinformatics/DLLab/AlexTreacher/data/20210825_ABIDE_CPAC/ABIDEI/derivatives/CPAC/output/cpac_cpac-custom-nuisance/sub-0050030_ses-1/func/sub-0050030_ses-1_task-rest_run-1_framewise-displacement-jenkinson.1D',\n",
       " '/archive/bioinformatics/DLLab/AlexTreacher/data/20210825_ABIDE_CPAC/ABIDEI/derivatives/CPAC/output/cpac_cpac-custom-nuisance/sub-0051324_ses-1/func/sub-0051324_ses-1_task-rest_run-1_framewise-displacement-jenkinson.1D',\n",
       " '/archive/bioinformatics/DLLab/AlexTreacher/data/20210825_ABIDE_CPAC/ABIDEI/derivatives/CPAC/output/cpac_cpac-custom-nuisance/sub-0050962_ses-1/func/sub-0050962_ses-1_task-rest_run-1_framewise-displacement-jenkinson.1D',\n",
       " '/archive/bioinformatics/DLLab/AlexTreacher/data/20210825_ABIDE_CPAC/ABIDEI/derivatives/CPAC/output/cpac_cpac-custom-nuisance/sub-0051298_ses-1/func/sub-0051298_ses-1_task-rest_run-1_framewise-displacement-jenkinson.1D',\n",
       " '/archive/bioinformatics/DLLab/AlexTreacher/data/20210825_ABIDE_CPAC/ABIDEI/derivatives/CPAC/output/cpac_cpac-custom-nuisance/sub-0050704_ses-1/func/sub-0050704_ses-1_task-rest_run-1_framewise-displacement-jenkinson.1D',\n",
       " '/archive/bioinformatics/DLLab/AlexTreacher/data/20210825_ABIDE_CPAC/ABIDEI/derivatives/CPAC/output/cpac_cpac-custom-nuisance/sub-0050135_ses-1/func/sub-0050135_ses-1_task-rest_run-1_framewise-displacement-jenkinson.1D',\n",
       " '/archive/bioinformatics/DLLab/AlexTreacher/data/20210825_ABIDE_CPAC/ABIDEI/derivatives/CPAC/output/cpac_cpac-custom-nuisance/sub-0051279_ses-1/func/sub-0051279_ses-1_task-rest_run-1_framewise-displacement-jenkinson.1D',\n",
       " '/archive/bioinformatics/DLLab/AlexTreacher/data/20210825_ABIDE_CPAC/ABIDEI/derivatives/CPAC/output/cpac_cpac-custom-nuisance/sub-0050276_ses-1/func/sub-0050276_ses-1_task-rest_run-1_framewise-displacement-jenkinson.1D',\n",
       " '/archive/bioinformatics/DLLab/AlexTreacher/data/20210825_ABIDE_CPAC/ABIDEI/derivatives/CPAC/output/cpac_cpac-custom-nuisance/sub-0050381_ses-1/func/sub-0050381_ses-1_task-rest_run-1_framewise-displacement-jenkinson.1D',\n",
       " '/archive/bioinformatics/DLLab/AlexTreacher/data/20210825_ABIDE_CPAC/ABIDEI/derivatives/CPAC/output/cpac_cpac-custom-nuisance/sub-0051353_ses-1/func/sub-0051353_ses-1_task-rest_run-1_framewise-displacement-jenkinson.1D',\n",
       " '/archive/bioinformatics/DLLab/AlexTreacher/data/20210825_ABIDE_CPAC/ABIDEI/derivatives/CPAC/output/cpac_cpac-custom-nuisance/sub-0050361_ses-1/func/sub-0050361_ses-1_task-rest_run-1_framewise-displacement-jenkinson.1D',\n",
       " '/archive/bioinformatics/DLLab/AlexTreacher/data/20210825_ABIDE_CPAC/ABIDEI/derivatives/CPAC/output/cpac_cpac-custom-nuisance/sub-0050166_ses-1/func/sub-0050166_ses-1_task-rest_run-2_framewise-displacement-jenkinson.1D',\n",
       " '/archive/bioinformatics/DLLab/AlexTreacher/data/20210825_ABIDE_CPAC/ABIDEI/derivatives/CPAC/output/cpac_cpac-custom-nuisance/sub-0050166_ses-1/func/sub-0050166_ses-1_task-rest_run-1_framewise-displacement-jenkinson.1D',\n",
       " '/archive/bioinformatics/DLLab/AlexTreacher/data/20210825_ABIDE_CPAC/ABIDEI/derivatives/CPAC/output/cpac_cpac-custom-nuisance/sub-0050166_ses-1/func/sub-0050166_ses-1_task-rest_run-3_framewise-displacement-jenkinson.1D',\n",
       " '/archive/bioinformatics/DLLab/AlexTreacher/data/20210825_ABIDE_CPAC/ABIDEI/derivatives/CPAC/output/cpac_cpac-custom-nuisance/sub-0050689_ses-1/func/sub-0050689_ses-1_task-rest_run-1_framewise-displacement-jenkinson.1D',\n",
       " '/archive/bioinformatics/DLLab/AlexTreacher/data/20210825_ABIDE_CPAC/ABIDEI/derivatives/CPAC/output/cpac_cpac-custom-nuisance/sub-0051349_ses-1/func/sub-0051349_ses-1_task-rest_run-1_framewise-displacement-jenkinson.1D',\n",
       " '/archive/bioinformatics/DLLab/AlexTreacher/data/20210825_ABIDE_CPAC/ABIDEI/derivatives/CPAC/output/cpac_cpac-custom-nuisance/sub-0050134_ses-1/func/sub-0050134_ses-1_task-rest_run-1_framewise-displacement-jenkinson.1D',\n",
       " '/archive/bioinformatics/DLLab/AlexTreacher/data/20210825_ABIDE_CPAC/ABIDEI/derivatives/CPAC/output/cpac_cpac-custom-nuisance/sub-0051003_ses-1/func/sub-0051003_ses-1_task-rest_run-1_framewise-displacement-jenkinson.1D',\n",
       " '/archive/bioinformatics/DLLab/AlexTreacher/data/20210825_ABIDE_CPAC/ABIDEI/derivatives/CPAC/output/cpac_cpac-custom-nuisance/sub-0051363_ses-1/func/sub-0051363_ses-1_task-rest_run-1_framewise-displacement-jenkinson.1D',\n",
       " '/archive/bioinformatics/DLLab/AlexTreacher/data/20210825_ABIDE_CPAC/ABIDEI/derivatives/CPAC/output/cpac_cpac-custom-nuisance/sub-0051493_ses-1/func/sub-0051493_ses-1_task-rest_run-1_framewise-displacement-jenkinson.1D',\n",
       " '/archive/bioinformatics/DLLab/AlexTreacher/data/20210825_ABIDE_CPAC/ABIDEI/derivatives/CPAC/output/cpac_cpac-custom-nuisance/sub-0051204_ses-1/func/sub-0051204_ses-1_task-rest_run-1_framewise-displacement-jenkinson.1D',\n",
       " '/archive/bioinformatics/DLLab/AlexTreacher/data/20210825_ABIDE_CPAC/ABIDEI/derivatives/CPAC/output/cpac_cpac-custom-nuisance/sub-0051224_ses-1/func/sub-0051224_ses-1_task-rest_run-1_framewise-displacement-jenkinson.1D',\n",
       " '/archive/bioinformatics/DLLab/AlexTreacher/data/20210825_ABIDE_CPAC/ABIDEI/derivatives/CPAC/output/cpac_cpac-custom-nuisance/sub-0050167_ses-1/func/sub-0050167_ses-1_task-rest_run-1_framewise-displacement-jenkinson.1D',\n",
       " '/archive/bioinformatics/DLLab/AlexTreacher/data/20210825_ABIDE_CPAC/ABIDEI/derivatives/CPAC/output/cpac_cpac-custom-nuisance/sub-0050167_ses-1/func/sub-0050167_ses-1_task-rest_run-2_framewise-displacement-jenkinson.1D',\n",
       " '/archive/bioinformatics/DLLab/AlexTreacher/data/20210825_ABIDE_CPAC/ABIDEI/derivatives/CPAC/output/cpac_cpac-custom-nuisance/sub-0050167_ses-1/func/sub-0050167_ses-1_task-rest_run-3_framewise-displacement-jenkinson.1D',\n",
       " '/archive/bioinformatics/DLLab/AlexTreacher/data/20210825_ABIDE_CPAC/ABIDEI/derivatives/CPAC/output/cpac_cpac-custom-nuisance/sub-0051317_ses-1/func/sub-0051317_ses-1_task-rest_run-1_framewise-displacement-jenkinson.1D',\n",
       " '/archive/bioinformatics/DLLab/AlexTreacher/data/20210825_ABIDE_CPAC/ABIDEI/derivatives/CPAC/output/cpac_cpac-custom-nuisance/sub-0050485_ses-1/func/sub-0050485_ses-1_task-rest_run-1_framewise-displacement-jenkinson.1D',\n",
       " '/archive/bioinformatics/DLLab/AlexTreacher/data/20210825_ABIDE_CPAC/ABIDEI/derivatives/CPAC/output/cpac_cpac-custom-nuisance/sub-0050699_ses-1/func/sub-0050699_ses-1_task-rest_run-1_framewise-displacement-jenkinson.1D',\n",
       " '/archive/bioinformatics/DLLab/AlexTreacher/data/20210825_ABIDE_CPAC/ABIDEI/derivatives/CPAC/output/cpac_cpac-custom-nuisance/sub-0051089_ses-1/func/sub-0051089_ses-1_task-rest_run-1_framewise-displacement-jenkinson.1D',\n",
       " '/archive/bioinformatics/DLLab/AlexTreacher/data/20210825_ABIDE_CPAC/ABIDEI/derivatives/CPAC/output/cpac_cpac-custom-nuisance/sub-0051461_ses-1/func/sub-0051461_ses-1_task-rest_run-1_framewise-displacement-jenkinson.1D',\n",
       " '/archive/bioinformatics/DLLab/AlexTreacher/data/20210825_ABIDE_CPAC/ABIDEI/derivatives/CPAC/output/cpac_cpac-custom-nuisance/sub-0050035_ses-1/func/sub-0050035_ses-1_task-rest_run-1_framewise-displacement-jenkinson.1D',\n",
       " '/archive/bioinformatics/DLLab/AlexTreacher/data/20210825_ABIDE_CPAC/ABIDEI/derivatives/CPAC/output/cpac_cpac-custom-nuisance/sub-0050489_ses-1/func/sub-0050489_ses-1_task-rest_run-1_framewise-displacement-jenkinson.1D',\n",
       " '/archive/bioinformatics/DLLab/AlexTreacher/data/20210825_ABIDE_CPAC/ABIDEI/derivatives/CPAC/output/cpac_cpac-custom-nuisance/sub-0050128_ses-1/func/sub-0050128_ses-1_task-rest_run-1_framewise-displacement-jenkinson.1D',\n",
       " '/archive/bioinformatics/DLLab/AlexTreacher/data/20210825_ABIDE_CPAC/ABIDEI/derivatives/CPAC/output/cpac_cpac-custom-nuisance/sub-0051212_ses-1/func/sub-0051212_ses-1_task-rest_run-1_framewise-displacement-jenkinson.1D',\n",
       " '/archive/bioinformatics/DLLab/AlexTreacher/data/20210825_ABIDE_CPAC/ABIDEI/derivatives/CPAC/output/cpac_cpac-custom-nuisance/sub-0050480_ses-1/func/sub-0050480_ses-1_task-rest_run-1_framewise-displacement-jenkinson.1D',\n",
       " '/archive/bioinformatics/DLLab/AlexTreacher/data/20210825_ABIDE_CPAC/ABIDEI/derivatives/CPAC/output/cpac_cpac-custom-nuisance/sub-0051123_ses-1/func/sub-0051123_ses-1_task-rest_run-1_framewise-displacement-jenkinson.1D',\n",
       " '/archive/bioinformatics/DLLab/AlexTreacher/data/20210825_ABIDE_CPAC/ABIDEI/derivatives/CPAC/output/cpac_cpac-custom-nuisance/sub-0050288_ses-1/func/sub-0050288_ses-1_task-rest_run-1_framewise-displacement-jenkinson.1D',\n",
       " '/archive/bioinformatics/DLLab/AlexTreacher/data/20210825_ABIDE_CPAC/ABIDEI/derivatives/CPAC/output/cpac_cpac-custom-nuisance/sub-0051486_ses-1/func/sub-0051486_ses-1_task-rest_run-1_framewise-displacement-jenkinson.1D',\n",
       " '/archive/bioinformatics/DLLab/AlexTreacher/data/20210825_ABIDE_CPAC/ABIDEI/derivatives/CPAC/output/cpac_cpac-custom-nuisance/sub-0051272_ses-1/func/sub-0051272_ses-1_task-rest_run-1_framewise-displacement-jenkinson.1D',\n",
       " '/archive/bioinformatics/DLLab/AlexTreacher/data/20210825_ABIDE_CPAC/ABIDEI/derivatives/CPAC/output/cpac_cpac-custom-nuisance/sub-0050313_ses-1/func/sub-0050313_ses-1_task-rest_run-1_framewise-displacement-jenkinson.1D',\n",
       " '/archive/bioinformatics/DLLab/AlexTreacher/data/20210825_ABIDE_CPAC/ABIDEI/derivatives/CPAC/output/cpac_cpac-custom-nuisance/sub-0051258_ses-1/func/sub-0051258_ses-1_task-rest_run-1_framewise-displacement-jenkinson.1D',\n",
       " '/archive/bioinformatics/DLLab/AlexTreacher/data/20210825_ABIDE_CPAC/ABIDEI/derivatives/CPAC/output/cpac_cpac-custom-nuisance/sub-0050351_ses-1/func/sub-0050351_ses-1_task-rest_run-1_framewise-displacement-jenkinson.1D',\n",
       " '/archive/bioinformatics/DLLab/AlexTreacher/data/20210825_ABIDE_CPAC/ABIDEI/derivatives/CPAC/output/cpac_cpac-custom-nuisance/sub-0051226_ses-1/func/sub-0051226_ses-1_task-rest_run-1_framewise-displacement-jenkinson.1D',\n",
       " '/archive/bioinformatics/DLLab/AlexTreacher/data/20210825_ABIDE_CPAC/ABIDEI/derivatives/CPAC/output/cpac_cpac-custom-nuisance/sub-0050602_ses-1/func/sub-0050602_ses-1_task-rest_run-1_framewise-displacement-jenkinson.1D',\n",
       " '/archive/bioinformatics/DLLab/AlexTreacher/data/20210825_ABIDE_CPAC/ABIDEI/derivatives/CPAC/output/cpac_cpac-custom-nuisance/sub-0050952_ses-1/func/sub-0050952_ses-1_task-rest_run-1_framewise-displacement-jenkinson.1D',\n",
       " '/archive/bioinformatics/DLLab/AlexTreacher/data/20210825_ABIDE_CPAC/ABIDEI/derivatives/CPAC/output/cpac_cpac-custom-nuisance/sub-0050532_ses-1/func/sub-0050532_ses-1_task-rest_run-1_framewise-displacement-jenkinson.1D',\n",
       " '/archive/bioinformatics/DLLab/AlexTreacher/data/20210825_ABIDE_CPAC/ABIDEI/derivatives/CPAC/output/cpac_cpac-custom-nuisance/sub-0051209_ses-1/func/sub-0051209_ses-1_task-rest_run-1_framewise-displacement-jenkinson.1D',\n",
       " '/archive/bioinformatics/DLLab/AlexTreacher/data/20210825_ABIDE_CPAC/ABIDEI/derivatives/CPAC/output/cpac_cpac-custom-nuisance/sub-0050291_ses-1/func/sub-0050291_ses-1_task-rest_run-1_framewise-displacement-jenkinson.1D',\n",
       " '/archive/bioinformatics/DLLab/AlexTreacher/data/20210825_ABIDE_CPAC/ABIDEI/derivatives/CPAC/output/cpac_cpac-custom-nuisance/sub-0050448_ses-1/func/sub-0050448_ses-1_task-rest_run-1_framewise-displacement-jenkinson.1D',\n",
       " '/archive/bioinformatics/DLLab/AlexTreacher/data/20210825_ABIDE_CPAC/ABIDEI/derivatives/CPAC/output/cpac_cpac-custom-nuisance/sub-0050570_ses-1/func/sub-0050570_ses-1_task-rest_run-1_framewise-displacement-jenkinson.1D',\n",
       " '/archive/bioinformatics/DLLab/AlexTreacher/data/20210825_ABIDE_CPAC/ABIDEI/derivatives/CPAC/output/cpac_cpac-custom-nuisance/sub-0050016_ses-1/func/sub-0050016_ses-1_task-rest_run-1_framewise-displacement-jenkinson.1D',\n",
       " '/archive/bioinformatics/DLLab/AlexTreacher/data/20210825_ABIDE_CPAC/ABIDEI/derivatives/CPAC/output/cpac_cpac-custom-nuisance/sub-0051342_ses-1/func/sub-0051342_ses-1_task-rest_run-1_framewise-displacement-jenkinson.1D',\n",
       " '/archive/bioinformatics/DLLab/AlexTreacher/data/20210825_ABIDE_CPAC/ABIDEI/derivatives/CPAC/output/cpac_cpac-custom-nuisance/sub-0050618_ses-1/func/sub-0050618_ses-1_task-rest_run-1_framewise-displacement-jenkinson.1D',\n",
       " '/archive/bioinformatics/DLLab/AlexTreacher/data/20210825_ABIDE_CPAC/ABIDEI/derivatives/CPAC/output/cpac_cpac-custom-nuisance/sub-0050993_ses-1/func/sub-0050993_ses-1_task-rest_run-1_framewise-displacement-jenkinson.1D',\n",
       " '/archive/bioinformatics/DLLab/AlexTreacher/data/20210825_ABIDE_CPAC/ABIDEI/derivatives/CPAC/output/cpac_cpac-custom-nuisance/sub-0051340_ses-1/func/sub-0051340_ses-1_task-rest_run-1_framewise-displacement-jenkinson.1D',\n",
       " '/archive/bioinformatics/DLLab/AlexTreacher/data/20210825_ABIDE_CPAC/ABIDEI/derivatives/CPAC/output/cpac_cpac-custom-nuisance/sub-0051102_ses-1/func/sub-0051102_ses-1_task-rest_run-1_framewise-displacement-jenkinson.1D',\n",
       " '/archive/bioinformatics/DLLab/AlexTreacher/data/20210825_ABIDE_CPAC/ABIDEI/derivatives/CPAC/output/cpac_cpac-custom-nuisance/sub-0051236_ses-1/func/sub-0051236_ses-1_task-rest_run-1_framewise-displacement-jenkinson.1D',\n",
       " '/archive/bioinformatics/DLLab/AlexTreacher/data/20210825_ABIDE_CPAC/ABIDEI/derivatives/CPAC/output/cpac_cpac-custom-nuisance/sub-0050706_ses-1/func/sub-0050706_ses-1_task-rest_run-1_framewise-displacement-jenkinson.1D',\n",
       " '/archive/bioinformatics/DLLab/AlexTreacher/data/20210825_ABIDE_CPAC/ABIDEI/derivatives/CPAC/output/cpac_cpac-custom-nuisance/sub-0050105_ses-1/func/sub-0050105_ses-1_task-rest_run-1_framewise-displacement-jenkinson.1D',\n",
       " '/archive/bioinformatics/DLLab/AlexTreacher/data/20210825_ABIDE_CPAC/ABIDEI/derivatives/CPAC/output/cpac_cpac-custom-nuisance/sub-0051213_ses-1/func/sub-0051213_ses-1_task-rest_run-1_framewise-displacement-jenkinson.1D',\n",
       " '/archive/bioinformatics/DLLab/AlexTreacher/data/20210825_ABIDE_CPAC/ABIDEI/derivatives/CPAC/output/cpac_cpac-custom-nuisance/sub-0050567_ses-1/func/sub-0050567_ses-1_task-rest_run-1_framewise-displacement-jenkinson.1D',\n",
       " '/archive/bioinformatics/DLLab/AlexTreacher/data/20210825_ABIDE_CPAC/ABIDEI/derivatives/CPAC/output/cpac_cpac-custom-nuisance/sub-0050701_ses-1/func/sub-0050701_ses-1_task-rest_run-1_framewise-displacement-jenkinson.1D',\n",
       " '/archive/bioinformatics/DLLab/AlexTreacher/data/20210825_ABIDE_CPAC/ABIDEI/derivatives/CPAC/output/cpac_cpac-custom-nuisance/sub-0050488_ses-1/func/sub-0050488_ses-1_task-rest_run-1_framewise-displacement-jenkinson.1D',\n",
       " '/archive/bioinformatics/DLLab/AlexTreacher/data/20210825_ABIDE_CPAC/ABIDEI/derivatives/CPAC/output/cpac_cpac-custom-nuisance/sub-0051569_ses-1/func/sub-0051569_ses-1_task-rest_run-1_framewise-displacement-jenkinson.1D',\n",
       " '/archive/bioinformatics/DLLab/AlexTreacher/data/20210825_ABIDE_CPAC/ABIDEI/derivatives/CPAC/output/cpac_cpac-custom-nuisance/sub-0050240_ses-1/func/sub-0050240_ses-1_task-rest_run-1_framewise-displacement-jenkinson.1D',\n",
       " '/archive/bioinformatics/DLLab/AlexTreacher/data/20210825_ABIDE_CPAC/ABIDEI/derivatives/CPAC/output/cpac_cpac-custom-nuisance/sub-0051563_ses-1/func/sub-0051563_ses-1_task-rest_run-1_framewise-displacement-jenkinson.1D',\n",
       " '/archive/bioinformatics/DLLab/AlexTreacher/data/20210825_ABIDE_CPAC/ABIDEI/derivatives/CPAC/output/cpac_cpac-custom-nuisance/sub-0050330_ses-1/func/sub-0050330_ses-1_task-rest_run-1_framewise-displacement-jenkinson.1D',\n",
       " '/archive/bioinformatics/DLLab/AlexTreacher/data/20210825_ABIDE_CPAC/ABIDEI/derivatives/CPAC/output/cpac_cpac-custom-nuisance/sub-0050045_ses-1/func/sub-0050045_ses-1_task-rest_run-1_framewise-displacement-jenkinson.1D',\n",
       " '/archive/bioinformatics/DLLab/AlexTreacher/data/20210825_ABIDE_CPAC/ABIDEI/derivatives/CPAC/output/cpac_cpac-custom-nuisance/sub-0050126_ses-1/func/sub-0050126_ses-1_task-rest_run-1_framewise-displacement-jenkinson.1D',\n",
       " '/archive/bioinformatics/DLLab/AlexTreacher/data/20210825_ABIDE_CPAC/ABIDEI/derivatives/CPAC/output/cpac_cpac-custom-nuisance/sub-0051607_ses-1/func/sub-0051607_ses-1_task-rest_run-1_framewise-displacement-jenkinson.1D',\n",
       " '/archive/bioinformatics/DLLab/AlexTreacher/data/20210825_ABIDE_CPAC/ABIDEI/derivatives/CPAC/output/cpac_cpac-custom-nuisance/sub-0051325_ses-1/func/sub-0051325_ses-1_task-rest_run-1_framewise-displacement-jenkinson.1D',\n",
       " '/archive/bioinformatics/DLLab/AlexTreacher/data/20210825_ABIDE_CPAC/ABIDEI/derivatives/CPAC/output/cpac_cpac-custom-nuisance/sub-0051257_ses-1/func/sub-0051257_ses-1_task-rest_run-1_framewise-displacement-jenkinson.1D',\n",
       " '/archive/bioinformatics/DLLab/AlexTreacher/data/20210825_ABIDE_CPAC/ABIDEI/derivatives/CPAC/output/cpac_cpac-custom-nuisance/sub-0050115_ses-1/func/sub-0050115_ses-1_task-rest_run-1_framewise-displacement-jenkinson.1D',\n",
       " '/archive/bioinformatics/DLLab/AlexTreacher/data/20210825_ABIDE_CPAC/ABIDEI/derivatives/CPAC/output/cpac_cpac-custom-nuisance/sub-0051311_ses-1/func/sub-0051311_ses-1_task-rest_run-1_framewise-displacement-jenkinson.1D',\n",
       " '/archive/bioinformatics/DLLab/AlexTreacher/data/20210825_ABIDE_CPAC/ABIDEI/derivatives/CPAC/output/cpac_cpac-custom-nuisance/sub-0051296_ses-1/func/sub-0051296_ses-1_task-rest_run-1_framewise-displacement-jenkinson.1D',\n",
       " '/archive/bioinformatics/DLLab/AlexTreacher/data/20210825_ABIDE_CPAC/ABIDEI/derivatives/CPAC/output/cpac_cpac-custom-nuisance/sub-0051360_ses-1/func/sub-0051360_ses-1_task-rest_run-1_framewise-displacement-jenkinson.1D',\n",
       " '/archive/bioinformatics/DLLab/AlexTreacher/data/20210825_ABIDE_CPAC/ABIDEI/derivatives/CPAC/output/cpac_cpac-custom-nuisance/sub-0051027_ses-1/func/sub-0051027_ses-1_task-rest_run-1_framewise-displacement-jenkinson.1D',\n",
       " '/archive/bioinformatics/DLLab/AlexTreacher/data/20210825_ABIDE_CPAC/ABIDEI/derivatives/CPAC/output/cpac_cpac-custom-nuisance/sub-0050344_ses-1/func/sub-0050344_ses-1_task-rest_run-1_framewise-displacement-jenkinson.1D',\n",
       " '/archive/bioinformatics/DLLab/AlexTreacher/data/20210825_ABIDE_CPAC/ABIDEI/derivatives/CPAC/output/cpac_cpac-custom-nuisance/sub-0050820_ses-1/func/sub-0050820_ses-1_task-rest_run-1_framewise-displacement-jenkinson.1D',\n",
       " '/archive/bioinformatics/DLLab/AlexTreacher/data/20210825_ABIDE_CPAC/ABIDEI/derivatives/CPAC/output/cpac_cpac-custom-nuisance/sub-0050318_ses-1/func/sub-0050318_ses-1_task-rest_run-1_framewise-displacement-jenkinson.1D',\n",
       " '/archive/bioinformatics/DLLab/AlexTreacher/data/20210825_ABIDE_CPAC/ABIDEI/derivatives/CPAC/output/cpac_cpac-custom-nuisance/sub-0051579_ses-1/func/sub-0051579_ses-1_task-rest_run-1_framewise-displacement-jenkinson.1D',\n",
       " '/archive/bioinformatics/DLLab/AlexTreacher/data/20210825_ABIDE_CPAC/ABIDEI/derivatives/CPAC/output/cpac_cpac-custom-nuisance/sub-0051076_ses-1/func/sub-0051076_ses-1_task-rest_run-1_framewise-displacement-jenkinson.1D',\n",
       " '/archive/bioinformatics/DLLab/AlexTreacher/data/20210825_ABIDE_CPAC/ABIDEI/derivatives/CPAC/output/cpac_cpac-custom-nuisance/sub-0050703_ses-1/func/sub-0050703_ses-1_task-rest_run-1_framewise-displacement-jenkinson.1D',\n",
       " '/archive/bioinformatics/DLLab/AlexTreacher/data/20210825_ABIDE_CPAC/ABIDEI/derivatives/CPAC/output/cpac_cpac-custom-nuisance/sub-0050531_ses-1/func/sub-0050531_ses-1_task-rest_run-1_framewise-displacement-jenkinson.1D',\n",
       " '/archive/bioinformatics/DLLab/AlexTreacher/data/20210825_ABIDE_CPAC/ABIDEI/derivatives/CPAC/output/cpac_cpac-custom-nuisance/sub-0050297_ses-1/func/sub-0050297_ses-1_task-rest_run-1_framewise-displacement-jenkinson.1D',\n",
       " '/archive/bioinformatics/DLLab/AlexTreacher/data/20210825_ABIDE_CPAC/ABIDEI/derivatives/CPAC/output/cpac_cpac-custom-nuisance/sub-0050601_ses-1/func/sub-0050601_ses-1_task-rest_run-1_framewise-displacement-jenkinson.1D',\n",
       " '/archive/bioinformatics/DLLab/AlexTreacher/data/20210825_ABIDE_CPAC/ABIDEI/derivatives/CPAC/output/cpac_cpac-custom-nuisance/sub-0051222_ses-1/func/sub-0051222_ses-1_task-rest_run-1_framewise-displacement-jenkinson.1D',\n",
       " '/archive/bioinformatics/DLLab/AlexTreacher/data/20210825_ABIDE_CPAC/ABIDEI/derivatives/CPAC/output/cpac_cpac-custom-nuisance/sub-0050374_ses-1/func/sub-0050374_ses-1_task-rest_run-1_framewise-displacement-jenkinson.1D',\n",
       " '/archive/bioinformatics/DLLab/AlexTreacher/data/20210825_ABIDE_CPAC/ABIDEI/derivatives/CPAC/output/cpac_cpac-custom-nuisance/sub-0051300_ses-1/func/sub-0051300_ses-1_task-rest_run-1_framewise-displacement-jenkinson.1D',\n",
       " '/archive/bioinformatics/DLLab/AlexTreacher/data/20210825_ABIDE_CPAC/ABIDEI/derivatives/CPAC/output/cpac_cpac-custom-nuisance/sub-0050565_ses-1/func/sub-0050565_ses-1_task-rest_run-1_framewise-displacement-jenkinson.1D',\n",
       " '/archive/bioinformatics/DLLab/AlexTreacher/data/20210825_ABIDE_CPAC/ABIDEI/derivatives/CPAC/output/cpac_cpac-custom-nuisance/sub-0051483_ses-1/func/sub-0051483_ses-1_task-rest_run-1_framewise-displacement-jenkinson.1D',\n",
       " '/archive/bioinformatics/DLLab/AlexTreacher/data/20210825_ABIDE_CPAC/ABIDEI/derivatives/CPAC/output/cpac_cpac-custom-nuisance/sub-0051263_ses-1/func/sub-0051263_ses-1_task-rest_run-1_framewise-displacement-jenkinson.1D',\n",
       " '/archive/bioinformatics/DLLab/AlexTreacher/data/20210825_ABIDE_CPAC/ABIDEI/derivatives/CPAC/output/cpac_cpac-custom-nuisance/sub-0050264_ses-1/func/sub-0050264_ses-1_task-rest_run-1_framewise-displacement-jenkinson.1D',\n",
       " '/archive/bioinformatics/DLLab/AlexTreacher/data/20210825_ABIDE_CPAC/ABIDEI/derivatives/CPAC/output/cpac_cpac-custom-nuisance/sub-0051362_ses-1/func/sub-0051362_ses-1_task-rest_run-1_framewise-displacement-jenkinson.1D',\n",
       " '/archive/bioinformatics/DLLab/AlexTreacher/data/20210825_ABIDE_CPAC/ABIDEI/derivatives/CPAC/output/cpac_cpac-custom-nuisance/sub-0050015_ses-1/func/sub-0050015_ses-1_task-rest_run-1_framewise-displacement-jenkinson.1D',\n",
       " '/archive/bioinformatics/DLLab/AlexTreacher/data/20210825_ABIDE_CPAC/ABIDEI/derivatives/CPAC/output/cpac_cpac-custom-nuisance/sub-0050416_ses-1/func/sub-0050416_ses-1_task-rest_run-1_framewise-displacement-jenkinson.1D',\n",
       " '/archive/bioinformatics/DLLab/AlexTreacher/data/20210825_ABIDE_CPAC/ABIDEI/derivatives/CPAC/output/cpac_cpac-custom-nuisance/sub-0051091_ses-1/func/sub-0051091_ses-1_task-rest_run-1_framewise-displacement-jenkinson.1D',\n",
       " '/archive/bioinformatics/DLLab/AlexTreacher/data/20210825_ABIDE_CPAC/ABIDEI/derivatives/CPAC/output/cpac_cpac-custom-nuisance/sub-0050424_ses-1/func/sub-0050424_ses-1_task-rest_run-1_framewise-displacement-jenkinson.1D',\n",
       " '/archive/bioinformatics/DLLab/AlexTreacher/data/20210825_ABIDE_CPAC/ABIDEI/derivatives/CPAC/output/cpac_cpac-custom-nuisance/sub-0050466_ses-1/func/sub-0050466_ses-1_task-rest_run-1_framewise-displacement-jenkinson.1D',\n",
       " '/archive/bioinformatics/DLLab/AlexTreacher/data/20210825_ABIDE_CPAC/ABIDEI/derivatives/CPAC/output/cpac_cpac-custom-nuisance/sub-0050402_ses-1/func/sub-0050402_ses-1_task-rest_run-1_framewise-displacement-jenkinson.1D',\n",
       " '/archive/bioinformatics/DLLab/AlexTreacher/data/20210825_ABIDE_CPAC/ABIDEI/derivatives/CPAC/output/cpac_cpac-custom-nuisance/sub-0050443_ses-1/func/sub-0050443_ses-1_task-rest_run-1_framewise-displacement-jenkinson.1D',\n",
       " '/archive/bioinformatics/DLLab/AlexTreacher/data/20210825_ABIDE_CPAC/ABIDEI/derivatives/CPAC/output/cpac_cpac-custom-nuisance/sub-0050356_ses-1/func/sub-0050356_ses-1_task-rest_run-1_framewise-displacement-jenkinson.1D',\n",
       " '/archive/bioinformatics/DLLab/AlexTreacher/data/20210825_ABIDE_CPAC/ABIDEI/derivatives/CPAC/output/cpac_cpac-custom-nuisance/sub-0050267_ses-1/func/sub-0050267_ses-1_task-rest_run-1_framewise-displacement-jenkinson.1D',\n",
       " '/archive/bioinformatics/DLLab/AlexTreacher/data/20210825_ABIDE_CPAC/ABIDEI/derivatives/CPAC/output/cpac_cpac-custom-nuisance/sub-0050113_ses-1/func/sub-0050113_ses-1_task-rest_run-1_framewise-displacement-jenkinson.1D',\n",
       " '/archive/bioinformatics/DLLab/AlexTreacher/data/20210825_ABIDE_CPAC/ABIDEI/derivatives/CPAC/output/cpac_cpac-custom-nuisance/sub-0051268_ses-1/func/sub-0051268_ses-1_task-rest_run-1_framewise-displacement-jenkinson.1D',\n",
       " '/archive/bioinformatics/DLLab/AlexTreacher/data/20210825_ABIDE_CPAC/ABIDEI/derivatives/CPAC/output/cpac_cpac-custom-nuisance/sub-0050368_ses-1/func/sub-0050368_ses-1_task-rest_run-1_framewise-displacement-jenkinson.1D',\n",
       " '/archive/bioinformatics/DLLab/AlexTreacher/data/20210825_ABIDE_CPAC/ABIDEI/derivatives/CPAC/output/cpac_cpac-custom-nuisance/sub-0050316_ses-1/func/sub-0050316_ses-1_task-rest_run-1_framewise-displacement-jenkinson.1D',\n",
       " '/archive/bioinformatics/DLLab/AlexTreacher/data/20210825_ABIDE_CPAC/ABIDEI/derivatives/CPAC/output/cpac_cpac-custom-nuisance/sub-0050700_ses-1/func/sub-0050700_ses-1_task-rest_run-1_framewise-displacement-jenkinson.1D',\n",
       " '/archive/bioinformatics/DLLab/AlexTreacher/data/20210825_ABIDE_CPAC/ABIDEI/derivatives/CPAC/output/cpac_cpac-custom-nuisance/sub-0050817_ses-1/func/sub-0050817_ses-1_task-rest_run-1_framewise-displacement-jenkinson.1D',\n",
       " '/archive/bioinformatics/DLLab/AlexTreacher/data/20210825_ABIDE_CPAC/ABIDEI/derivatives/CPAC/output/cpac_cpac-custom-nuisance/sub-0050333_ses-1/func/sub-0050333_ses-1_task-rest_run-1_framewise-displacement-jenkinson.1D',\n",
       " '/archive/bioinformatics/DLLab/AlexTreacher/data/20210825_ABIDE_CPAC/ABIDEI/derivatives/CPAC/output/cpac_cpac-custom-nuisance/sub-0050296_ses-1/func/sub-0050296_ses-1_task-rest_run-1_framewise-displacement-jenkinson.1D',\n",
       " '/archive/bioinformatics/DLLab/AlexTreacher/data/20210825_ABIDE_CPAC/ABIDEI/derivatives/CPAC/output/cpac_cpac-custom-nuisance/sub-0050664_ses-1/func/sub-0050664_ses-1_task-rest_run-1_framewise-displacement-jenkinson.1D',\n",
       " '/archive/bioinformatics/DLLab/AlexTreacher/data/20210825_ABIDE_CPAC/ABIDEI/derivatives/CPAC/output/cpac_cpac-custom-nuisance/sub-0051574_ses-1/func/sub-0051574_ses-1_task-rest_run-1_framewise-displacement-jenkinson.1D',\n",
       " '/archive/bioinformatics/DLLab/AlexTreacher/data/20210825_ABIDE_CPAC/ABIDEI/derivatives/CPAC/output/cpac_cpac-custom-nuisance/sub-0050262_ses-1/func/sub-0050262_ses-1_task-rest_run-1_framewise-displacement-jenkinson.1D',\n",
       " '/archive/bioinformatics/DLLab/AlexTreacher/data/20210825_ABIDE_CPAC/ABIDEI/derivatives/CPAC/output/cpac_cpac-custom-nuisance/sub-0050114_ses-1/func/sub-0050114_ses-1_task-rest_run-1_framewise-displacement-jenkinson.1D',\n",
       " '/archive/bioinformatics/DLLab/AlexTreacher/data/20210825_ABIDE_CPAC/ABIDEI/derivatives/CPAC/output/cpac_cpac-custom-nuisance/sub-0050663_ses-1/func/sub-0050663_ses-1_task-rest_run-1_framewise-displacement-jenkinson.1D',\n",
       " '/archive/bioinformatics/DLLab/AlexTreacher/data/20210825_ABIDE_CPAC/ABIDEI/derivatives/CPAC/output/cpac_cpac-custom-nuisance/sub-0051108_ses-1/func/sub-0051108_ses-1_task-rest_run-1_framewise-displacement-jenkinson.1D',\n",
       " '/archive/bioinformatics/DLLab/AlexTreacher/data/20210825_ABIDE_CPAC/ABIDEI/derivatives/CPAC/output/cpac_cpac-custom-nuisance/sub-0050983_ses-1/func/sub-0050983_ses-1_task-rest_run-1_framewise-displacement-jenkinson.1D',\n",
       " '/archive/bioinformatics/DLLab/AlexTreacher/data/20210825_ABIDE_CPAC/ABIDEI/derivatives/CPAC/output/cpac_cpac-custom-nuisance/sub-0050250_ses-1/func/sub-0050250_ses-1_task-rest_run-1_framewise-displacement-jenkinson.1D',\n",
       " '/archive/bioinformatics/DLLab/AlexTreacher/data/20210825_ABIDE_CPAC/ABIDEI/derivatives/CPAC/output/cpac_cpac-custom-nuisance/sub-0050804_ses-1/func/sub-0050804_ses-1_task-rest_run-1_framewise-displacement-jenkinson.1D',\n",
       " '/archive/bioinformatics/DLLab/AlexTreacher/data/20210825_ABIDE_CPAC/ABIDEI/derivatives/CPAC/output/cpac_cpac-custom-nuisance/sub-0050053_ses-1/func/sub-0050053_ses-1_task-rest_run-1_framewise-displacement-jenkinson.1D',\n",
       " '/archive/bioinformatics/DLLab/AlexTreacher/data/20210825_ABIDE_CPAC/ABIDEI/derivatives/CPAC/output/cpac_cpac-custom-nuisance/sub-0050577_ses-1/func/sub-0050577_ses-1_task-rest_run-1_framewise-displacement-jenkinson.1D',\n",
       " '/archive/bioinformatics/DLLab/AlexTreacher/data/20210825_ABIDE_CPAC/ABIDEI/derivatives/CPAC/output/cpac_cpac-custom-nuisance/sub-0050969_ses-1/func/sub-0050969_ses-1_task-rest_run-1_framewise-displacement-jenkinson.1D',\n",
       " '/archive/bioinformatics/DLLab/AlexTreacher/data/20210825_ABIDE_CPAC/ABIDEI/derivatives/CPAC/output/cpac_cpac-custom-nuisance/sub-0051062_ses-1/func/sub-0051062_ses-1_task-rest_run-1_framewise-displacement-jenkinson.1D',\n",
       " '/archive/bioinformatics/DLLab/AlexTreacher/data/20210825_ABIDE_CPAC/ABIDEI/derivatives/CPAC/output/cpac_cpac-custom-nuisance/sub-0050821_ses-1/func/sub-0050821_ses-1_task-rest_run-1_framewise-displacement-jenkinson.1D',\n",
       " '/archive/bioinformatics/DLLab/AlexTreacher/data/20210825_ABIDE_CPAC/ABIDEI/derivatives/CPAC/output/cpac_cpac-custom-nuisance/sub-0050366_ses-1/func/sub-0050366_ses-1_task-rest_run-1_framewise-displacement-jenkinson.1D',\n",
       " '/archive/bioinformatics/DLLab/AlexTreacher/data/20210825_ABIDE_CPAC/ABIDEI/derivatives/CPAC/output/cpac_cpac-custom-nuisance/sub-0051556_ses-1/func/sub-0051556_ses-1_task-rest_run-1_framewise-displacement-jenkinson.1D',\n",
       " '/archive/bioinformatics/DLLab/AlexTreacher/data/20210825_ABIDE_CPAC/ABIDEI/derivatives/CPAC/output/cpac_cpac-custom-nuisance/sub-0051068_ses-1/func/sub-0051068_ses-1_task-rest_run-1_framewise-displacement-jenkinson.1D',\n",
       " '/archive/bioinformatics/DLLab/AlexTreacher/data/20210825_ABIDE_CPAC/ABIDEI/derivatives/CPAC/output/cpac_cpac-custom-nuisance/sub-0050354_ses-1/func/sub-0050354_ses-1_task-rest_run-1_framewise-displacement-jenkinson.1D',\n",
       " '/archive/bioinformatics/DLLab/AlexTreacher/data/20210825_ABIDE_CPAC/ABIDEI/derivatives/CPAC/output/cpac_cpac-custom-nuisance/sub-0051301_ses-1/func/sub-0051301_ses-1_task-rest_run-1_framewise-displacement-jenkinson.1D',\n",
       " '/archive/bioinformatics/DLLab/AlexTreacher/data/20210825_ABIDE_CPAC/ABIDEI/derivatives/CPAC/output/cpac_cpac-custom-nuisance/sub-0050041_ses-1/func/sub-0050041_ses-1_task-rest_run-1_framewise-displacement-jenkinson.1D',\n",
       " '/archive/bioinformatics/DLLab/AlexTreacher/data/20210825_ABIDE_CPAC/ABIDEI/derivatives/CPAC/output/cpac_cpac-custom-nuisance/sub-0051050_ses-1/func/sub-0051050_ses-1_task-rest_run-1_framewise-displacement-jenkinson.1D',\n",
       " '/archive/bioinformatics/DLLab/AlexTreacher/data/20210825_ABIDE_CPAC/ABIDEI/derivatives/CPAC/output/cpac_cpac-custom-nuisance/sub-0050782_ses-1/func/sub-0050782_ses-1_task-rest_run-1_framewise-displacement-jenkinson.1D',\n",
       " '/archive/bioinformatics/DLLab/AlexTreacher/data/20210825_ABIDE_CPAC/ABIDEI/derivatives/CPAC/output/cpac_cpac-custom-nuisance/sub-0051369_ses-1/func/sub-0051369_ses-1_task-rest_run-1_framewise-displacement-jenkinson.1D',\n",
       " '/archive/bioinformatics/DLLab/AlexTreacher/data/20210825_ABIDE_CPAC/ABIDEI/derivatives/CPAC/output/cpac_cpac-custom-nuisance/sub-0051292_ses-1/func/sub-0051292_ses-1_task-rest_run-1_framewise-displacement-jenkinson.1D',\n",
       " '/archive/bioinformatics/DLLab/AlexTreacher/data/20210825_ABIDE_CPAC/ABIDEI/derivatives/CPAC/output/cpac_cpac-custom-nuisance/sub-0051302_ses-1/func/sub-0051302_ses-1_task-rest_run-1_framewise-displacement-jenkinson.1D',\n",
       " '/archive/bioinformatics/DLLab/AlexTreacher/data/20210825_ABIDE_CPAC/ABIDEI/derivatives/CPAC/output/cpac_cpac-custom-nuisance/sub-0050697_ses-1/func/sub-0050697_ses-1_task-rest_run-1_framewise-displacement-jenkinson.1D',\n",
       " '/archive/bioinformatics/DLLab/AlexTreacher/data/20210825_ABIDE_CPAC/ABIDEI/derivatives/CPAC/output/cpac_cpac-custom-nuisance/sub-0050146_ses-1/func/sub-0050146_ses-1_task-rest_run-3_framewise-displacement-jenkinson.1D',\n",
       " '/archive/bioinformatics/DLLab/AlexTreacher/data/20210825_ABIDE_CPAC/ABIDEI/derivatives/CPAC/output/cpac_cpac-custom-nuisance/sub-0050146_ses-1/func/sub-0050146_ses-1_task-rest_run-2_framewise-displacement-jenkinson.1D',\n",
       " '/archive/bioinformatics/DLLab/AlexTreacher/data/20210825_ABIDE_CPAC/ABIDEI/derivatives/CPAC/output/cpac_cpac-custom-nuisance/sub-0050146_ses-1/func/sub-0050146_ses-1_task-rest_run-1_framewise-displacement-jenkinson.1D',\n",
       " '/archive/bioinformatics/DLLab/AlexTreacher/data/20210825_ABIDE_CPAC/ABIDEI/derivatives/CPAC/output/cpac_cpac-custom-nuisance/sub-0051276_ses-1/func/sub-0051276_ses-1_task-rest_run-1_framewise-displacement-jenkinson.1D',\n",
       " '/archive/bioinformatics/DLLab/AlexTreacher/data/20210825_ABIDE_CPAC/ABIDEI/derivatives/CPAC/output/cpac_cpac-custom-nuisance/sub-0051127_ses-1/func/sub-0051127_ses-1_task-rest_run-1_framewise-displacement-jenkinson.1D',\n",
       " '/archive/bioinformatics/DLLab/AlexTreacher/data/20210825_ABIDE_CPAC/ABIDEI/derivatives/CPAC/output/cpac_cpac-custom-nuisance/sub-0050457_ses-1/func/sub-0050457_ses-1_task-rest_run-1_framewise-displacement-jenkinson.1D',\n",
       " '/archive/bioinformatics/DLLab/AlexTreacher/data/20210825_ABIDE_CPAC/ABIDEI/derivatives/CPAC/output/cpac_cpac-custom-nuisance/sub-0051047_ses-1/func/sub-0051047_ses-1_task-rest_run-1_framewise-displacement-jenkinson.1D',\n",
       " '/archive/bioinformatics/DLLab/AlexTreacher/data/20210825_ABIDE_CPAC/ABIDEI/derivatives/CPAC/output/cpac_cpac-custom-nuisance/sub-0050615_ses-1/func/sub-0050615_ses-1_task-rest_run-1_framewise-displacement-jenkinson.1D',\n",
       " '/archive/bioinformatics/DLLab/AlexTreacher/data/20210825_ABIDE_CPAC/ABIDEI/derivatives/CPAC/output/cpac_cpac-custom-nuisance/sub-0050643_ses-1/func/sub-0050643_ses-1_task-rest_run-1_framewise-displacement-jenkinson.1D',\n",
       " '/archive/bioinformatics/DLLab/AlexTreacher/data/20210825_ABIDE_CPAC/ABIDEI/derivatives/CPAC/output/cpac_cpac-custom-nuisance/sub-0051153_ses-1/func/sub-0051153_ses-1_task-rest_run-1_framewise-displacement-jenkinson.1D',\n",
       " '/archive/bioinformatics/DLLab/AlexTreacher/data/20210825_ABIDE_CPAC/ABIDEI/derivatives/CPAC/output/cpac_cpac-custom-nuisance/sub-0051334_ses-1/func/sub-0051334_ses-1_task-rest_run-1_framewise-displacement-jenkinson.1D',\n",
       " '/archive/bioinformatics/DLLab/AlexTreacher/data/20210825_ABIDE_CPAC/ABIDEI/derivatives/CPAC/output/cpac_cpac-custom-nuisance/sub-0050145_ses-1/func/sub-0050145_ses-1_task-rest_run-2_framewise-displacement-jenkinson.1D',\n",
       " '/archive/bioinformatics/DLLab/AlexTreacher/data/20210825_ABIDE_CPAC/ABIDEI/derivatives/CPAC/output/cpac_cpac-custom-nuisance/sub-0050145_ses-1/func/sub-0050145_ses-1_task-rest_run-1_framewise-displacement-jenkinson.1D',\n",
       " '/archive/bioinformatics/DLLab/AlexTreacher/data/20210825_ABIDE_CPAC/ABIDEI/derivatives/CPAC/output/cpac_cpac-custom-nuisance/sub-0050145_ses-1/func/sub-0050145_ses-1_task-rest_run-3_framewise-displacement-jenkinson.1D',\n",
       " '/archive/bioinformatics/DLLab/AlexTreacher/data/20210825_ABIDE_CPAC/ABIDEI/derivatives/CPAC/output/cpac_cpac-custom-nuisance/sub-0051105_ses-1/func/sub-0051105_ses-1_task-rest_run-1_framewise-displacement-jenkinson.1D',\n",
       " '/archive/bioinformatics/DLLab/AlexTreacher/data/20210825_ABIDE_CPAC/ABIDEI/derivatives/CPAC/output/cpac_cpac-custom-nuisance/sub-0051482_ses-1/func/sub-0051482_ses-1_task-rest_run-1_framewise-displacement-jenkinson.1D',\n",
       " '/archive/bioinformatics/DLLab/AlexTreacher/data/20210825_ABIDE_CPAC/ABIDEI/derivatives/CPAC/output/cpac_cpac-custom-nuisance/sub-0050499_ses-1/func/sub-0050499_ses-1_task-rest_run-1_framewise-displacement-jenkinson.1D',\n",
       " '/archive/bioinformatics/DLLab/AlexTreacher/data/20210825_ABIDE_CPAC/ABIDEI/derivatives/CPAC/output/cpac_cpac-custom-nuisance/sub-0051010_ses-1/func/sub-0051010_ses-1_task-rest_run-1_framewise-displacement-jenkinson.1D',\n",
       " '/archive/bioinformatics/DLLab/AlexTreacher/data/20210825_ABIDE_CPAC/ABIDEI/derivatives/CPAC/output/cpac_cpac-custom-nuisance/sub-0050746_ses-1/func/sub-0050746_ses-1_task-rest_run-1_framewise-displacement-jenkinson.1D',\n",
       " '/archive/bioinformatics/DLLab/AlexTreacher/data/20210825_ABIDE_CPAC/ABIDEI/derivatives/CPAC/output/cpac_cpac-custom-nuisance/sub-0050987_ses-1/func/sub-0050987_ses-1_task-rest_run-1_framewise-displacement-jenkinson.1D',\n",
       " '/archive/bioinformatics/DLLab/AlexTreacher/data/20210825_ABIDE_CPAC/ABIDEI/derivatives/CPAC/output/cpac_cpac-custom-nuisance/sub-0050492_ses-1/func/sub-0050492_ses-1_task-rest_run-1_framewise-displacement-jenkinson.1D',\n",
       " '/archive/bioinformatics/DLLab/AlexTreacher/data/20210825_ABIDE_CPAC/ABIDEI/derivatives/CPAC/output/cpac_cpac-custom-nuisance/sub-0050778_ses-1/func/sub-0050778_ses-1_task-rest_run-1_framewise-displacement-jenkinson.1D',\n",
       " '/archive/bioinformatics/DLLab/AlexTreacher/data/20210825_ABIDE_CPAC/ABIDEI/derivatives/CPAC/output/cpac_cpac-custom-nuisance/sub-0051078_ses-1/func/sub-0051078_ses-1_task-rest_run-1_framewise-displacement-jenkinson.1D',\n",
       " '/archive/bioinformatics/DLLab/AlexTreacher/data/20210825_ABIDE_CPAC/ABIDEI/derivatives/CPAC/output/cpac_cpac-custom-nuisance/sub-0050106_ses-1/func/sub-0050106_ses-1_task-rest_run-1_framewise-displacement-jenkinson.1D',\n",
       " '/archive/bioinformatics/DLLab/AlexTreacher/data/20210825_ABIDE_CPAC/ABIDEI/derivatives/CPAC/output/cpac_cpac-custom-nuisance/sub-0050295_ses-1/func/sub-0050295_ses-1_task-rest_run-1_framewise-displacement-jenkinson.1D',\n",
       " '/archive/bioinformatics/DLLab/AlexTreacher/data/20210825_ABIDE_CPAC/ABIDEI/derivatives/CPAC/output/cpac_cpac-custom-nuisance/sub-0050039_ses-1/func/sub-0050039_ses-1_task-rest_run-1_framewise-displacement-jenkinson.1D',\n",
       " '/archive/bioinformatics/DLLab/AlexTreacher/data/20210825_ABIDE_CPAC/ABIDEI/derivatives/CPAC/output/cpac_cpac-custom-nuisance/sub-0051577_ses-1/func/sub-0051577_ses-1_task-rest_run-1_framewise-displacement-jenkinson.1D',\n",
       " '/archive/bioinformatics/DLLab/AlexTreacher/data/20210825_ABIDE_CPAC/ABIDEI/derivatives/CPAC/output/cpac_cpac-custom-nuisance/sub-0051460_ses-1/func/sub-0051460_ses-1_task-rest_run-1_framewise-displacement-jenkinson.1D',\n",
       " '/archive/bioinformatics/DLLab/AlexTreacher/data/20210825_ABIDE_CPAC/ABIDEI/derivatives/CPAC/output/cpac_cpac-custom-nuisance/sub-0051561_ses-1/func/sub-0051561_ses-1_task-rest_run-1_framewise-displacement-jenkinson.1D',\n",
       " '/archive/bioinformatics/DLLab/AlexTreacher/data/20210825_ABIDE_CPAC/ABIDEI/derivatives/CPAC/output/cpac_cpac-custom-nuisance/sub-0051490_ses-1/func/sub-0051490_ses-1_task-rest_run-1_framewise-displacement-jenkinson.1D',\n",
       " '/archive/bioinformatics/DLLab/AlexTreacher/data/20210825_ABIDE_CPAC/ABIDEI/derivatives/CPAC/output/cpac_cpac-custom-nuisance/sub-0051570_ses-1/func/sub-0051570_ses-1_task-rest_run-1_framewise-displacement-jenkinson.1D',\n",
       " '/archive/bioinformatics/DLLab/AlexTreacher/data/20210825_ABIDE_CPAC/ABIDEI/derivatives/CPAC/output/cpac_cpac-custom-nuisance/sub-0050569_ses-1/func/sub-0050569_ses-1_task-rest_run-1_framewise-displacement-jenkinson.1D',\n",
       " '/archive/bioinformatics/DLLab/AlexTreacher/data/20210825_ABIDE_CPAC/ABIDEI/derivatives/CPAC/output/cpac_cpac-custom-nuisance/sub-0051341_ses-1/func/sub-0051341_ses-1_task-rest_run-1_framewise-displacement-jenkinson.1D',\n",
       " '/archive/bioinformatics/DLLab/AlexTreacher/data/20210825_ABIDE_CPAC/ABIDEI/derivatives/CPAC/output/cpac_cpac-custom-nuisance/sub-0051229_ses-1/func/sub-0051229_ses-1_task-rest_run-1_framewise-displacement-jenkinson.1D',\n",
       " ...]"
      ]
     },
     "execution_count": 5,
     "metadata": {},
     "output_type": "execute_result"
    }
   ],
   "source": [
    "lFWDPaths"
   ]
  },
  {
   "cell_type": "code",
   "execution_count": 6,
   "metadata": {},
   "outputs": [],
   "source": [
    "#get the FWD values for all subjects and set in a dataframe\n",
    "dfFWD = pd.DataFrame()\n",
    "for strPath in lFWDPaths:\n",
    "    strSubject = re.findall('sub-([0-9A-Za-z]+)', strPath)[0]\n",
    "    if strSubject.startswith('00'):\n",
    "        strSubject = strSubject[2:]\n",
    "    strABIDE = fGetABIDEFromPath(strPath)\n",
    "    strSession = re.findall('ses-([0-9A-Za-z]+)', strPath)[0]\n",
    "    strRun = re.findall('run-([0-9A-Za-z]+)', strPath)[0]\n",
    "    pdsSubjectFWD = pd.read_csv(strPath, header=None)[0]\n",
    "    pdsSubjectFWD.name=(strSubject,strABIDE,strSession,strRun,strPath)\n",
    "    dfFWD = dfFWD.append(pdsSubjectFWD)\n",
    "    \n",
    "lIndexCols = ['subject','ABIDE','session','run','path']\n",
    "dfFWD.index = pd.MultiIndex.from_tuples(dfFWD.index.tolist())\n",
    "dfFWD.index.set_names(lIndexCols, inplace=True)"
   ]
  },
  {
   "cell_type": "code",
   "execution_count": 7,
   "metadata": {},
   "outputs": [
    {
     "data": {
      "text/plain": [
       "<AxesSubplot:>"
      ]
     },
     "execution_count": 7,
     "metadata": {},
     "output_type": "execute_result"
    },
    {
     "data": {
      "text/plain": [
       "(0.0, 2.0)"
      ]
     },
     "execution_count": 7,
     "metadata": {},
     "output_type": "execute_result"
    },
    {
     "data": {
      "image/png": "[encoded data removed]",
      "text/plain": [
       "<Figure size 720x432 with 1 Axes>"
      ]
     },
     "metadata": {
      "needs_background": "light"
     },
     "output_type": "display_data"
    }
   ],
   "source": [
    "dfFWDStats = dfFWD.T.describe().T\n",
    "#dfFWDStats.index.set_names(('subject','path'))\n",
    "dfFWDStats.drop(columns='count').boxplot()\n",
    "plt.ylim(0,2)"
   ]
  },
  {
   "cell_type": "markdown",
   "metadata": {},
   "source": [
    "### Remove all ABIDE 2 5xxxx subjects (revisits from ABIDEII)"
   ]
  },
  {
   "cell_type": "code",
   "execution_count": 8,
   "metadata": {},
   "outputs": [],
   "source": [
    "dfIndex = pd.DataFrame(dfFWDStats.index.tolist(), columns = dfFWDStats.index.names)\n",
    "dfIndex = dfIndex[~((dfIndex['ABIDE'] == 2) & (dfIndex['subject'].apply(lambda x: x.startswith('5'))))]"
   ]
  },
  {
   "cell_type": "code",
   "execution_count": 9,
   "metadata": {},
   "outputs": [],
   "source": [
    "dfFWDStats = dfFWDStats.loc[dfIndex.values.tolist()]"
   ]
  },
  {
   "cell_type": "code",
   "execution_count": 10,
   "metadata": {},
   "outputs": [
    {
     "data": {
      "text/plain": [
       "{'2', '3'}"
      ]
     },
     "execution_count": 10,
     "metadata": {},
     "output_type": "execute_result"
    }
   ],
   "source": [
    "#make sure there are no 5xxxx subjects left in the ABIDEII data\n",
    "set([x[0] for x in dfFWDStats.loc[idx[:,2,:,:,:]].index.get_level_values(0)])"
   ]
  },
  {
   "cell_type": "code",
   "execution_count": 11,
   "metadata": {},
   "outputs": [
    {
     "data": {
      "text/plain": [
       "(2045, 8)"
      ]
     },
     "execution_count": 11,
     "metadata": {},
     "output_type": "execute_result"
    }
   ],
   "source": [
    "dfFWDStats.shape"
   ]
  },
  {
   "cell_type": "markdown",
   "metadata": {},
   "source": [
    "### drop subjects that failed to create a ReHo map"
   ]
  },
  {
   "cell_type": "code",
   "execution_count": 12,
   "metadata": {},
   "outputs": [],
   "source": [
    "dfFWDStats.reset_index(drop=False, inplace=True)"
   ]
  },
  {
   "cell_type": "code",
   "execution_count": 13,
   "metadata": {},
   "outputs": [],
   "source": [
    "lFailedSubjects = []\n",
    "for i, row in dfFWDStats.iterrows():\n",
    "    strABIDENum = 'I'*int(row['ABIDE'])\n",
    "    strSubject = row['subject']\n",
    "    if row['ABIDE']==1:\n",
    "        strSubject = '00'+strSubject\n",
    "    strSession = row['session']\n",
    "    strRun = row['run']\n",
    "    strReHoPath = strDataPath+f'/20210825_ABIDE_CPAC/ABIDE{strABIDENum}/derivatives/CPAC/output/cpac_cpac-custom-nuisance/sub-{strSubject}_ses-{strSession}/func/sub-{strSubject}_ses-{strSession}_task-rest_run-{strRun}*_desc-1_reho.nii.gz'\n",
    "    lPaths = glob.glob(strReHoPath)\n",
    "    if lPaths.__len__() ==0:\n",
    "        lFailedSubjects.append([strSubject,strABIDENum,strSession,strRun,row['path']])\n",
    "        dfFWDStats.drop([i], inplace=True)\n",
    "        \n",
    "dfFWDStats.set_index(lIndexCols, inplace=True)"
   ]
  },
  {
   "cell_type": "code",
   "execution_count": 14,
   "metadata": {},
   "outputs": [
    {
     "data": {
      "text/plain": [
       "7"
      ]
     },
     "execution_count": 14,
     "metadata": {},
     "output_type": "execute_result"
    }
   ],
   "source": [
    "lFailedSubjects.__len__()"
   ]
  },
  {
   "cell_type": "code",
   "execution_count": 15,
   "metadata": {},
   "outputs": [
    {
     "data": {
      "text/plain": [
       "(2038, 8)"
      ]
     },
     "execution_count": 15,
     "metadata": {},
     "output_type": "execute_result"
    }
   ],
   "source": [
    "dfFWDStats.shape"
   ]
  },
  {
   "cell_type": "markdown",
   "metadata": {},
   "source": [
    "### For each subject that has multiple scans, select the scan with the lowest FWD"
   ]
  },
  {
   "cell_type": "code",
   "execution_count": 16,
   "metadata": {},
   "outputs": [],
   "source": [
    "#make the subject and path columns\n",
    "dfFWDStats.reset_index(drop=False, inplace=True)\n",
    "#sort on subject and mean performance\n",
    "dfFWDStats.sort_values(['subject','mean'], ascending=True, inplace=True)\n",
    "#drop duplicates, keeping the first (lowest mean FDW as it's ordered from above)\n",
    "dfFWDStats.drop_duplicates('subject', keep='first', inplace=True)\n",
    "#reset the index to subject and path\n",
    "dfFWDStats.set_index(lIndexCols, inplace=True)"
   ]
  },
  {
   "cell_type": "code",
   "execution_count": 17,
   "metadata": {
    "scrolled": true
   },
   "outputs": [],
   "source": [
    "#make sure that each subject only has a single scan\n",
    "assert pd.Series(dfFWDStats.index.get_level_values(0)).value_counts().sum() == dfFWDStats.shape[0]"
   ]
  },
  {
   "cell_type": "code",
   "execution_count": 18,
   "metadata": {},
   "outputs": [
    {
     "data": {
      "text/plain": [
       "(1790, 8)"
      ]
     },
     "execution_count": 18,
     "metadata": {},
     "output_type": "execute_result"
    }
   ],
   "source": [
    "dfFWDStats.shape"
   ]
  },
  {
   "cell_type": "code",
   "execution_count": 19,
   "metadata": {},
   "outputs": [
    {
     "name": "stdout",
     "output_type": "stream",
     "text": [
      "963\n",
      "827\n"
     ]
    }
   ],
   "source": [
    "print(dfFWDStats.loc[idx[:,1,:,:,:],:].shape[0])\n",
    "print(dfFWDStats.loc[idx[:,2,:,:,:],:].shape[0])"
   ]
  },
  {
   "cell_type": "code",
   "execution_count": 20,
   "metadata": {},
   "outputs": [],
   "source": [
    "lFailedSubjects = []\n",
    "dfDVARS = pd.DataFrame()\n",
    "for i, row in dfFWDStats.iterrows():\n",
    "    strSubject, strABIDE, strSession, strRun, strFWDPath = i\n",
    "    if strABIDE == 1:\n",
    "        strDVARSSearch = os.path.join(os.path.dirname(strFWDPath),f'sub-00{strSubject}_ses-{strSession}_task-rest_run-{strRun}*dvars.txt')\n",
    "    else:\n",
    "        strDVARSSearch = os.path.join(os.path.dirname(strFWDPath),f'sub-{strSubject}_ses-{strSession}_task-rest_run-{strRun}*dvars.txt')\n",
    "    lDVARSPaths = glob.glob(strDVARSSearch)\n",
    "    if not lDVARSPaths.__len__() == 1:\n",
    "        print(strFWDPath)\n",
    "        lFailedSubjects.append(strFWDPath)\n",
    "        continue\n",
    "    strPath = lDVARSPaths[0]\n",
    "    pdsSubjectDVARS = pd.read_csv(strPath, header=None)[0]\n",
    "    pdsSubjectDVARS.name= (strSubject, strABIDE, strSession, strRun, strPath)\n",
    "    dfDVARS = dfDVARS.append(pdsSubjectDVARS)    \n",
    "dfDVARS.index = pd.MultiIndex.from_tuples(dfDVARS.index.tolist())\n",
    "dfDVARS.index.set_names(lIndexCols, inplace=True)"
   ]
  },
  {
   "cell_type": "code",
   "execution_count": 21,
   "metadata": {},
   "outputs": [
    {
     "data": {
      "text/plain": [
       "0"
      ]
     },
     "execution_count": 21,
     "metadata": {},
     "output_type": "execute_result"
    }
   ],
   "source": [
    "lFailedSubjects.__len__()"
   ]
  },
  {
   "cell_type": "code",
   "execution_count": 22,
   "metadata": {},
   "outputs": [
    {
     "data": {
      "text/plain": [
       "<AxesSubplot:>"
      ]
     },
     "execution_count": 22,
     "metadata": {},
     "output_type": "execute_result"
    },
    {
     "data": {
      "image/png": "[encoded data removed]",
      "text/plain": [
       "<Figure size 720x432 with 1 Axes>"
      ]
     },
     "metadata": {
      "needs_background": "light"
     },
     "output_type": "display_data"
    }
   ],
   "source": [
    "dfDVARSStats = dfDVARS.T.describe().T\n",
    "dfDVARSStats.drop(columns='count').boxplot()"
   ]
  },
  {
   "cell_type": "code",
   "execution_count": 23,
   "metadata": {},
   "outputs": [
    {
     "data": {
      "text/plain": [
       "<AxesSubplot:>"
      ]
     },
     "execution_count": 23,
     "metadata": {},
     "output_type": "execute_result"
    },
    {
     "data": {
      "text/plain": [
       "(0.0, 200.0)"
      ]
     },
     "execution_count": 23,
     "metadata": {},
     "output_type": "execute_result"
    },
    {
     "data": {
      "image/png": "[encoded data removed]",
      "text/plain": [
       "<Figure size 720x432 with 1 Axes>"
      ]
     },
     "metadata": {
      "needs_background": "light"
     },
     "output_type": "display_data"
    }
   ],
   "source": [
    "dfDVARSStats.drop(columns='count').boxplot()\n",
    "plt.ylim(-0,200)"
   ]
  },
  {
   "cell_type": "markdown",
   "metadata": {},
   "source": [
    "### remove scans based on the parameters\n",
    "* FWD > .3\n",
    "* geater than 50% of frames being censored (aka 50% of fames with a FWD over 50% = FWD median over .5mm)\n",
    "* DVARS outliers (greater than 75%+1.5IQR"
   ]
  },
  {
   "cell_type": "markdown",
   "metadata": {},
   "source": [
    "### Check DVARS first"
   ]
  },
  {
   "cell_type": "code",
   "execution_count": 24,
   "metadata": {},
   "outputs": [],
   "source": [
    "dfDVARSOutlierLimits = dfDVARSStats.quantile(.75)+(dfDVARSStats.quantile(.75)-dfDVARSStats.quantile(.25))"
   ]
  },
  {
   "cell_type": "code",
   "execution_count": 25,
   "metadata": {},
   "outputs": [
    {
     "data": {
      "text/plain": [
       "count    263.000000\n",
       "mean      85.633772\n",
       "std       21.988640\n",
       "min       67.249447\n",
       "25%       74.779984\n",
       "50%       80.447579\n",
       "75%       91.675619\n",
       "max      195.501460\n",
       "dtype: float64"
      ]
     },
     "execution_count": 25,
     "metadata": {},
     "output_type": "execute_result"
    }
   ],
   "source": [
    "dfDVARSOutlierLimits"
   ]
  },
  {
   "cell_type": "code",
   "execution_count": 26,
   "metadata": {},
   "outputs": [],
   "source": [
    "dfDVARSOutliers = dfDVARSStats>dfDVARSOutlierLimits"
   ]
  },
  {
   "cell_type": "code",
   "execution_count": 27,
   "metadata": {},
   "outputs": [
    {
     "data": {
      "text/plain": [
       "221"
      ]
     },
     "execution_count": 27,
     "metadata": {},
     "output_type": "execute_result"
    }
   ],
   "source": [
    "#number of subjects that have all outliers\n",
    "dfDVARSOutliers[['mean','25%','50%','75%']].apply(all, axis=1).sum()"
   ]
  },
  {
   "cell_type": "code",
   "execution_count": 28,
   "metadata": {},
   "outputs": [
    {
     "data": {
      "text/plain": [
       "266"
      ]
     },
     "execution_count": 28,
     "metadata": {},
     "output_type": "execute_result"
    }
   ],
   "source": [
    "#number of subjects that have any outliers\n",
    "dfDVARSOutliers = dfDVARSOutliers[dfDVARSOutliers[['mean','25%','50%','75%']].apply(any, axis=1)]\n",
    "dfDVARSOutliers.shape[0]"
   ]
  },
  {
   "cell_type": "code",
   "execution_count": 29,
   "metadata": {},
   "outputs": [
    {
     "data": {
      "text/plain": [
       "mean    257\n",
       "dtype: int64"
      ]
     },
     "execution_count": 29,
     "metadata": {},
     "output_type": "execute_result"
    }
   ],
   "source": [
    "#number of subjects that mean as an outlier\n",
    "dfDVARSOutliers[['mean']].sum()"
   ]
  },
  {
   "cell_type": "code",
   "execution_count": 30,
   "metadata": {},
   "outputs": [],
   "source": [
    "#as the numebers are so close, between any and mean, lets just drop all subjects that are outliers for DVARS"
   ]
  },
  {
   "cell_type": "code",
   "execution_count": 31,
   "metadata": {},
   "outputs": [
    {
     "data": {
      "text/plain": [
       "74"
      ]
     },
     "execution_count": 31,
     "metadata": {},
     "output_type": "execute_result"
    },
    {
     "data": {
      "text/plain": [
       "192"
      ]
     },
     "execution_count": 31,
     "metadata": {},
     "output_type": "execute_result"
    }
   ],
   "source": [
    "#number of subjects that failed DVARS outlier test for ABIDEI and II respectivley\n",
    "dfDVARSOutliers[dfDVARSOutliers[['mean','25%','50%','75%']].apply(any, axis=1)].loc[idx[:,1,:,:,:]].shape[0]\n",
    "dfDVARSOutliers[dfDVARSOutliers[['mean','25%','50%','75%']].apply(any, axis=1)].loc[idx[:,2,:,:,:]].shape[0]"
   ]
  },
  {
   "cell_type": "code",
   "execution_count": 32,
   "metadata": {},
   "outputs": [
    {
     "data": {
      "text/plain": [
       "81"
      ]
     },
     "execution_count": 32,
     "metadata": {},
     "output_type": "execute_result"
    },
    {
     "data": {
      "text/plain": [
       "74"
      ]
     },
     "execution_count": 32,
     "metadata": {},
     "output_type": "execute_result"
    }
   ],
   "source": [
    "#number of subjects that failed mean FWD > 0.3\n",
    "dfFWDMeanFailed = dfFWDStats[dfFWDStats['mean']>0.3]\n",
    "dfFWDMeanFailed.loc[idx[:,1,:,:,:]].shape[0]\n",
    "dfFWDMeanFailed.loc[idx[:,2,:,:,:]].shape[0]"
   ]
  },
  {
   "cell_type": "code",
   "execution_count": 33,
   "metadata": {},
   "outputs": [
    {
     "data": {
      "text/plain": [
       "31"
      ]
     },
     "execution_count": 33,
     "metadata": {},
     "output_type": "execute_result"
    },
    {
     "data": {
      "text/plain": [
       "19"
      ]
     },
     "execution_count": 33,
     "metadata": {},
     "output_type": "execute_result"
    }
   ],
   "source": [
    "#number of subjects that failed mean FWD 50 > 0.5\n",
    "dfFWDScrubFailed = dfFWDStats[dfFWDStats['50%']>0.3]\n",
    "dfFWDScrubFailed.loc[idx[:,1,:,:,:]].shape[0]\n",
    "dfFWDScrubFailed.loc[idx[:,2,:,:,:]].shape[0]"
   ]
  },
  {
   "cell_type": "code",
   "execution_count": 34,
   "metadata": {},
   "outputs": [],
   "source": [
    "dfCullSubjects = pd.concat([dfDVARSOutliers.reset_index()[['subject','ABIDE']],\n",
    "                          dfFWDMeanFailed.reset_index()[['subject','ABIDE']],\n",
    "                          dfFWDScrubFailed.reset_index()[['subject','ABIDE']]])"
   ]
  },
  {
   "cell_type": "code",
   "execution_count": 35,
   "metadata": {},
   "outputs": [
    {
     "data": {
      "text/plain": [
       "132"
      ]
     },
     "execution_count": 35,
     "metadata": {},
     "output_type": "execute_result"
    },
    {
     "data": {
      "text/plain": [
       "230"
      ]
     },
     "execution_count": 35,
     "metadata": {},
     "output_type": "execute_result"
    }
   ],
   "source": [
    "dfCullSubjects = dfCullSubjects.drop_duplicates()\n",
    "dfCullSubjects[dfCullSubjects['ABIDE']==1].shape[0]\n",
    "dfCullSubjects[dfCullSubjects['ABIDE']==2].shape[0]"
   ]
  },
  {
   "cell_type": "code",
   "execution_count": 36,
   "metadata": {},
   "outputs": [
    {
     "data": {
      "text/html": [
       "<div>\n",
       "<style scoped>\n",
       "    .dataframe tbody tr th:only-of-type {\n",
       "        vertical-align: middle;\n",
       "    }\n",
       "\n",
       "    .dataframe tbody tr th {\n",
       "        vertical-align: top;\n",
       "    }\n",
       "\n",
       "    .dataframe thead th {\n",
       "        text-align: right;\n",
       "    }\n",
       "</style>\n",
       "<table border=\"1\" class=\"dataframe\">\n",
       "  <thead>\n",
       "    <tr style=\"text-align: right;\">\n",
       "      <th></th>\n",
       "      <th>subject</th>\n",
       "      <th>ABIDE</th>\n",
       "    </tr>\n",
       "  </thead>\n",
       "  <tbody>\n",
       "    <tr>\n",
       "      <th>0</th>\n",
       "      <td>28677</td>\n",
       "      <td>2</td>\n",
       "    </tr>\n",
       "    <tr>\n",
       "      <th>1</th>\n",
       "      <td>28679</td>\n",
       "      <td>2</td>\n",
       "    </tr>\n",
       "    <tr>\n",
       "      <th>2</th>\n",
       "      <td>28680</td>\n",
       "      <td>2</td>\n",
       "    </tr>\n",
       "    <tr>\n",
       "      <th>3</th>\n",
       "      <td>28685</td>\n",
       "      <td>2</td>\n",
       "    </tr>\n",
       "    <tr>\n",
       "      <th>4</th>\n",
       "      <td>28686</td>\n",
       "      <td>2</td>\n",
       "    </tr>\n",
       "    <tr>\n",
       "      <th>...</th>\n",
       "      <td>...</td>\n",
       "      <td>...</td>\n",
       "    </tr>\n",
       "    <tr>\n",
       "      <th>150</th>\n",
       "      <td>51358</td>\n",
       "      <td>1</td>\n",
       "    </tr>\n",
       "    <tr>\n",
       "      <th>151</th>\n",
       "      <td>51359</td>\n",
       "      <td>1</td>\n",
       "    </tr>\n",
       "    <tr>\n",
       "      <th>152</th>\n",
       "      <td>51361</td>\n",
       "      <td>1</td>\n",
       "    </tr>\n",
       "    <tr>\n",
       "      <th>153</th>\n",
       "      <td>51556</td>\n",
       "      <td>1</td>\n",
       "    </tr>\n",
       "    <tr>\n",
       "      <th>154</th>\n",
       "      <td>51575</td>\n",
       "      <td>1</td>\n",
       "    </tr>\n",
       "  </tbody>\n",
       "</table>\n",
       "<p>362 rows × 2 columns</p>\n",
       "</div>"
      ],
      "text/plain": [
       "    subject  ABIDE\n",
       "0     28677      2\n",
       "1     28679      2\n",
       "2     28680      2\n",
       "3     28685      2\n",
       "4     28686      2\n",
       "..      ...    ...\n",
       "150   51358      1\n",
       "151   51359      1\n",
       "152   51361      1\n",
       "153   51556      1\n",
       "154   51575      1\n",
       "\n",
       "[362 rows x 2 columns]"
      ]
     },
     "execution_count": 36,
     "metadata": {},
     "output_type": "execute_result"
    }
   ],
   "source": [
    "dfCullSubjects"
   ]
  },
  {
   "cell_type": "code",
   "execution_count": 37,
   "metadata": {},
   "outputs": [],
   "source": [
    "dfPassedSubjects = pd.DataFrame(columns = ['subject','abide','session','run','path'])\n",
    "for [strSubject, strABIDE, strSession, strRun, strFWDPath], row in dfFWDStats.iterrows():\n",
    "    dfFound = dfCullSubjects[(dfCullSubjects['subject']==strSubject)&(dfCullSubjects['subject']==strSubject)]\n",
    "    if dfFound.shape[0] == 0:\n",
    "        dfPassedSubjects = dfPassedSubjects.append(pd.Series({'subject':strSubject,\n",
    "                                                              'abide':strABIDE,\n",
    "                                                              'session':strSession,\n",
    "                                                              'run':strRun,\n",
    "                                                              'path':os.path.dirname(strFWDPath)\n",
    "                                                             }\n",
    "                                                            ),\n",
    "                                                   ignore_index=True)\n"
   ]
  },
  {
   "cell_type": "code",
   "execution_count": 38,
   "metadata": {},
   "outputs": [
    {
     "data": {
      "text/plain": [
       "831"
      ]
     },
     "execution_count": 38,
     "metadata": {},
     "output_type": "execute_result"
    },
    {
     "data": {
      "text/plain": [
       "597"
      ]
     },
     "execution_count": 38,
     "metadata": {},
     "output_type": "execute_result"
    }
   ],
   "source": [
    "dfPassedSubjects[dfPassedSubjects['abide']==1].shape[0]\n",
    "dfPassedSubjects[dfPassedSubjects['abide']==2].shape[0]"
   ]
  },
  {
   "cell_type": "code",
   "execution_count": 39,
   "metadata": {},
   "outputs": [
    {
     "data": {
      "text/html": [
       "<div>\n",
       "<style scoped>\n",
       "    .dataframe tbody tr th:only-of-type {\n",
       "        vertical-align: middle;\n",
       "    }\n",
       "\n",
       "    .dataframe tbody tr th {\n",
       "        vertical-align: top;\n",
       "    }\n",
       "\n",
       "    .dataframe thead th {\n",
       "        text-align: right;\n",
       "    }\n",
       "</style>\n",
       "<table border=\"1\" class=\"dataframe\">\n",
       "  <thead>\n",
       "    <tr style=\"text-align: right;\">\n",
       "      <th></th>\n",
       "      <th>subject</th>\n",
       "      <th>abide</th>\n",
       "      <th>session</th>\n",
       "      <th>run</th>\n",
       "      <th>path</th>\n",
       "    </tr>\n",
       "  </thead>\n",
       "  <tbody>\n",
       "    <tr>\n",
       "      <th>0</th>\n",
       "      <td>28741</td>\n",
       "      <td>2</td>\n",
       "      <td>1</td>\n",
       "      <td>1</td>\n",
       "      <td>/archive/bioinformatics/DLLab/AlexTreacher/dat...</td>\n",
       "    </tr>\n",
       "    <tr>\n",
       "      <th>1</th>\n",
       "      <td>28742</td>\n",
       "      <td>2</td>\n",
       "      <td>1</td>\n",
       "      <td>1</td>\n",
       "      <td>/archive/bioinformatics/DLLab/AlexTreacher/dat...</td>\n",
       "    </tr>\n",
       "    <tr>\n",
       "      <th>2</th>\n",
       "      <td>28743</td>\n",
       "      <td>2</td>\n",
       "      <td>1</td>\n",
       "      <td>1</td>\n",
       "      <td>/archive/bioinformatics/DLLab/AlexTreacher/dat...</td>\n",
       "    </tr>\n",
       "    <tr>\n",
       "      <th>3</th>\n",
       "      <td>28744</td>\n",
       "      <td>2</td>\n",
       "      <td>1</td>\n",
       "      <td>1</td>\n",
       "      <td>/archive/bioinformatics/DLLab/AlexTreacher/dat...</td>\n",
       "    </tr>\n",
       "    <tr>\n",
       "      <th>4</th>\n",
       "      <td>28745</td>\n",
       "      <td>2</td>\n",
       "      <td>1</td>\n",
       "      <td>1</td>\n",
       "      <td>/archive/bioinformatics/DLLab/AlexTreacher/dat...</td>\n",
       "    </tr>\n",
       "    <tr>\n",
       "      <th>...</th>\n",
       "      <td>...</td>\n",
       "      <td>...</td>\n",
       "      <td>...</td>\n",
       "      <td>...</td>\n",
       "      <td>...</td>\n",
       "    </tr>\n",
       "    <tr>\n",
       "      <th>1423</th>\n",
       "      <td>51583</td>\n",
       "      <td>1</td>\n",
       "      <td>1</td>\n",
       "      <td>1</td>\n",
       "      <td>/archive/bioinformatics/DLLab/AlexTreacher/dat...</td>\n",
       "    </tr>\n",
       "    <tr>\n",
       "      <th>1424</th>\n",
       "      <td>51584</td>\n",
       "      <td>1</td>\n",
       "      <td>1</td>\n",
       "      <td>1</td>\n",
       "      <td>/archive/bioinformatics/DLLab/AlexTreacher/dat...</td>\n",
       "    </tr>\n",
       "    <tr>\n",
       "      <th>1425</th>\n",
       "      <td>51585</td>\n",
       "      <td>1</td>\n",
       "      <td>1</td>\n",
       "      <td>1</td>\n",
       "      <td>/archive/bioinformatics/DLLab/AlexTreacher/dat...</td>\n",
       "    </tr>\n",
       "    <tr>\n",
       "      <th>1426</th>\n",
       "      <td>51606</td>\n",
       "      <td>1</td>\n",
       "      <td>1</td>\n",
       "      <td>1</td>\n",
       "      <td>/archive/bioinformatics/DLLab/AlexTreacher/dat...</td>\n",
       "    </tr>\n",
       "    <tr>\n",
       "      <th>1427</th>\n",
       "      <td>51607</td>\n",
       "      <td>1</td>\n",
       "      <td>1</td>\n",
       "      <td>1</td>\n",
       "      <td>/archive/bioinformatics/DLLab/AlexTreacher/dat...</td>\n",
       "    </tr>\n",
       "  </tbody>\n",
       "</table>\n",
       "<p>1428 rows × 5 columns</p>\n",
       "</div>"
      ],
      "text/plain": [
       "     subject abide session run  \\\n",
       "0      28741     2       1   1   \n",
       "1      28742     2       1   1   \n",
       "2      28743     2       1   1   \n",
       "3      28744     2       1   1   \n",
       "4      28745     2       1   1   \n",
       "...      ...   ...     ...  ..   \n",
       "1423   51583     1       1   1   \n",
       "1424   51584     1       1   1   \n",
       "1425   51585     1       1   1   \n",
       "1426   51606     1       1   1   \n",
       "1427   51607     1       1   1   \n",
       "\n",
       "                                                   path  \n",
       "0     /archive/bioinformatics/DLLab/AlexTreacher/dat...  \n",
       "1     /archive/bioinformatics/DLLab/AlexTreacher/dat...  \n",
       "2     /archive/bioinformatics/DLLab/AlexTreacher/dat...  \n",
       "3     /archive/bioinformatics/DLLab/AlexTreacher/dat...  \n",
       "4     /archive/bioinformatics/DLLab/AlexTreacher/dat...  \n",
       "...                                                 ...  \n",
       "1423  /archive/bioinformatics/DLLab/AlexTreacher/dat...  \n",
       "1424  /archive/bioinformatics/DLLab/AlexTreacher/dat...  \n",
       "1425  /archive/bioinformatics/DLLab/AlexTreacher/dat...  \n",
       "1426  /archive/bioinformatics/DLLab/AlexTreacher/dat...  \n",
       "1427  /archive/bioinformatics/DLLab/AlexTreacher/dat...  \n",
       "\n",
       "[1428 rows x 5 columns]"
      ]
     },
     "execution_count": 39,
     "metadata": {},
     "output_type": "execute_result"
    }
   ],
   "source": [
    "dfPassedSubjects"
   ]
  },
  {
   "cell_type": "code",
   "execution_count": 40,
   "metadata": {},
   "outputs": [],
   "source": [
    "lFiles = [\n",
    "    'sub-{}_ses-{}_task-rest_run-{}*_desc-1_space-EPI_alff.nii.gz',\n",
    "    'sub-{}_ses-{}_task-rest_run-{}*_desc-2_space-EPI_alff.nii.gz',\n",
    "    'sub-{}_ses-{}_task-rest_run-{}*_desc-3_space-EPI_alff.nii.gz',\n",
    "    'sub-{}_ses-{}_task-rest_run-{}*_desc-1_space-EPI_falff.nii.gz',\n",
    "    'sub-{}_ses-{}_task-rest_run-{}*_desc-2_space-EPI_falff.nii.gz',\n",
    "    'sub-{}_ses-{}_task-rest_run-{}*_desc-3_space-EPI_falff.nii.gz',\n",
    "    'sub-{}_ses-{}_task-rest_run-{}*_desc-1_space-EPI_reho.nii.gz',\n",
    "    'sub-{}_ses-{}_task-rest_run-{}*_desc-2_space-EPI_reho.nii.gz',\n",
    "    'sub-{}_ses-{}_task-rest_run-{}*_desc-3_space-EPI_reho.nii.gz',\n",
    "]"
   ]
  },
  {
   "cell_type": "code",
   "execution_count": 41,
   "metadata": {},
   "outputs": [],
   "source": [
    "#for each subject, get the fALFF and ReHo paths\n",
    "for i, row in dfPassedSubjects.iterrows():\n",
    "    for strFile in lFiles:\n",
    "        if row['abide'] == 1:\n",
    "            strSubject = '00'+row['subject']\n",
    "        else:\n",
    "            strSubject = row['subject']\n",
    "        strPath = os.path.join(row['path'],strFile.format(strSubject,row['session'],row['run']))\n",
    "        lPaths = glob.glob(strPath)\n",
    "        #remove all derivative maps that have been converted into a different space\n",
    "        #lPaths = [x for x in lPaths if 'space-EPI' in x]\n",
    "        assert lPaths.__len__()==1\n",
    "        strPath = lPaths[0]\n",
    "        strCol = '_'.join(strFile.split('_')[-3:])\n",
    "        dfPassedSubjects.loc[i, strCol] = strPath"
   ]
  },
  {
   "cell_type": "code",
   "execution_count": 42,
   "metadata": {},
   "outputs": [],
   "source": [
    "dfPassedSubjects.to_csv(os.path.join(strOutputPath,'20210908_subject_motion_cull.csv'))"
   ]
  },
  {
   "cell_type": "code",
   "execution_count": 43,
   "metadata": {},
   "outputs": [
    {
     "data": {
      "text/plain": [
       "'/archive/bioinformatics/DLLab/AlexTreacher/ExperimentOutputs/Autism_DCG'"
      ]
     },
     "execution_count": 43,
     "metadata": {},
     "output_type": "execute_result"
    }
   ],
   "source": [
    "strOutputPath"
   ]
  },
  {
   "cell_type": "code",
   "execution_count": 44,
   "metadata": {},
   "outputs": [
    {
     "data": {
      "text/plain": [
       "'sub-{}_ses-{}_task-rest_run-{}*_desc-3_space-EPI_reho.nii.gz'"
      ]
     },
     "execution_count": 44,
     "metadata": {},
     "output_type": "execute_result"
    }
   ],
   "source": [
    "strFile"
   ]
  },
  {
   "cell_type": "code",
   "execution_count": null,
   "metadata": {},
   "outputs": [],
   "source": []
  }
 ],
 "metadata": {
  "kernelspec": {
   "display_name": "Python 3",
   "language": "python",
   "name": "python3"
  },
  "language_info": {
   "codemirror_mode": {
    "name": "ipython",
    "version": 3
   },
   "file_extension": ".py",
   "mimetype": "text/x-python",
   "name": "python",
   "nbconvert_exporter": "python",
   "pygments_lexer": "ipython3",
   "version": "3.7.3"
  }
 },
 "nbformat": 4,
 "nbformat_minor": 5
}
